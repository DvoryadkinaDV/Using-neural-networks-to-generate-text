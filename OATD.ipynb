{
  "cells": [
    {
      "cell_type": "markdown",
      "metadata": {
        "id": "view-in-github",
        "colab_type": "text"
      },
      "source": [
        "<a href=\"https://colab.research.google.com/github/DvoryadkinaDV/Using-neural-networks-to-generate-text/blob/main/OATD.ipynb\" target=\"_parent\"><img src=\"https://colab.research.google.com/assets/colab-badge.svg\" alt=\"Open In Colab\"/></a>"
      ]
    },
    {
      "cell_type": "markdown",
      "metadata": {
        "id": "8Y71TZjvB2AE"
      },
      "source": [
        "# Дворядкина Отчет ЛР4"
      ]
    },
    {
      "cell_type": "markdown",
      "metadata": {
        "id": "vG8t-l7iCTUq"
      },
      "source": [
        "###Импорт библиотек"
      ]
    },
    {
      "cell_type": "code",
      "execution_count": 1,
      "metadata": {
        "id": "S_2v5OuOBJh_"
      },
      "outputs": [],
      "source": [
        "import copy\n",
        "import torch\n",
        "import numpy as np\n",
        "import torch.nn as nn\n",
        "import torch.nn.functional as F\n",
        "import matplotlib.pyplot as plt\n",
        "\n",
        "\n",
        "from random import sample\n",
        "from IPython.display import clear_output\n",
        "from torch.utils.data import DataLoader, TensorDataset"
      ]
    },
    {
      "cell_type": "code",
      "execution_count": 2,
      "metadata": {
        "colab": {
          "base_uri": "https://localhost:8080/"
        },
        "id": "21bHAqeUCsv3",
        "outputId": "4c7fd744-f43c-431f-ca49-964dbafe214a"
      },
      "outputs": [
        {
          "output_type": "execute_result",
          "data": {
            "text/plain": [
              "True"
            ]
          },
          "metadata": {},
          "execution_count": 2
        }
      ],
      "source": [
        "torch.cuda.is_available()"
      ]
    },
    {
      "cell_type": "markdown",
      "metadata": {
        "id": "BA0kZ_59C_Zs"
      },
      "source": [
        "###Загрузим данные"
      ]
    },
    {
      "cell_type": "code",
      "execution_count": 3,
      "metadata": {
        "colab": {
          "base_uri": "https://localhost:8080/"
        },
        "id": "PD-wkns_C7pw",
        "outputId": "2dce2793-f233-4daa-a720-64c4c42b765a"
      },
      "outputs": [
        {
          "output_type": "stream",
          "name": "stdout",
          "text": [
            "--2024-04-13 16:41:47--  http://uit.mpei.ru/git/main/TDA/raw/branch/master/assets/poems/pushkin.txt\n",
            "Resolving uit.mpei.ru (uit.mpei.ru)... 193.233.68.149\n",
            "Connecting to uit.mpei.ru (uit.mpei.ru)|193.233.68.149|:80... connected.\n",
            "HTTP request sent, awaiting response... 200 OK\n",
            "Length: 1048627 (1.0M) [text/plain]\n",
            "Saving to: ‘poems.txt’\n",
            "\n",
            "poems.txt           100%[===================>]   1.00M   988KB/s    in 1.0s    \n",
            "\n",
            "2024-04-13 16:41:48 (988 KB/s) - ‘poems.txt’ saved [1048627/1048627]\n",
            "\n"
          ]
        }
      ],
      "source": [
        "!wget -O poems.txt http://uit.mpei.ru/git/main/TDA/raw/branch/master/assets/poems/pushkin.txt"
      ]
    },
    {
      "cell_type": "code",
      "execution_count": 4,
      "metadata": {
        "colab": {
          "base_uri": "https://localhost:8080/"
        },
        "id": "i9EIiDUuDJUa",
        "outputId": "f5b6a5ac-6cfa-463a-d978-16f77d3d8498"
      },
      "outputs": [
        {
          "output_type": "stream",
          "name": "stdout",
          "text": [
            "Количество стихов: 720\n",
            "\n",
            "Пример стиха:\n",
            "\n",
            "Возможно ль? вместо роз, Амуром насажденных,\n",
            "Тюльпанов гордо наклоненных,\n",
            "Душистых ландышей, ясминов и лилей,\n",
            "Которых ты всегда любила\n",
            "И прежде всякой день носила\n",
            "На мраморной груди твоей —\n",
            "Возможно ль, милая Климена,\n",
            "Какая странная во вкусе перемена!..\n",
            "Ты любишь обонять не утренний цветок,\n",
            "А вредную траву зелену,\n",
            "Искусством превращенну\n",
            "В пушистый порошок! —\n",
            "Пускай уже седой профессор Геттингена,\n",
            "На старой кафедре согнувшися дугой,\n",
            "Вперив в латинщину глубокой разум свой,\n",
            "Раскашлявшись, табак толченый\n",
            "Пихает в длинный нос иссохшею рукой;\n",
            "Пускай младой драгун усатый\n",
            "Поутру, сидя у окна,\n",
            "С остатком утреннего сна,\n",
            "Из трубки пенковой дым гонит сероватый;\n",
            "Пускай красавица шестидесяти лет,\n",
            "У Граций в отпуску, и у любви в отставке,\n",
            "Которой держится вся прелесть на подставке,\n",
            "Которой без морщин на теле места нет,\n",
            "Злословит, молится, зевает\n",
            "И с верным табаком печали забывает, —\n",
            "А ты, прелестная!.. но если уж табак\n",
            "Так нравится тебе – о пыл воображенья! —\n",
            "Ах! если, превращенный в прах,\n",
            "И в табакерке, в заточеньи,\n",
            "Я в персты нежные твои попасться мог,\n",
            "Тогда б в сердечном восхищеньи\n",
            "Рассыпался на грудь под шелковый платок\n",
            "И даже… может быть… Но что! мечта пустая.\n",
            "Не будет этого никак.\n",
            "Судьба завистливая, злая!\n",
            "Ах, отчего я не табак!..\n",
            "\n",
            "\n"
          ]
        }
      ],
      "source": [
        "# Загружаем текст из файла.\n",
        "# Стихотворения в файле разделены токеном '</s>'\n",
        "\n",
        "with open(\"poems.txt\") as file:\n",
        "  data = file.read().split(\"</s>\\n\\n\")\n",
        "print(f\"Количество стихов: {len(data)}\\n\", f\"Пример стиха:\\n\\n{data[10]}\",  sep=\"\\n\")"
      ]
    },
    {
      "cell_type": "markdown",
      "metadata": {
        "id": "UXO8ZgO7HspH"
      },
      "source": [
        "###Подготовка данных и сводные статистики"
      ]
    },
    {
      "cell_type": "code",
      "execution_count": 5,
      "metadata": {
        "colab": {
          "base_uri": "https://localhost:8080/"
        },
        "id": "UXWcW7_CDO89",
        "outputId": "10cec552-b99d-4d08-d6cb-21445319c281"
      },
      "outputs": [
        {
          "output_type": "stream",
          "name": "stdout",
          "text": [
            "Количество уникальных символов: 143\n",
            "{0: 'PAD', 1: 'EOS', 2: 'ч', 3: 'З', 4: 'r', 5: '*', 6: '\\xa0', 7: 'T', 8: 't', 9: 'v', 10: 's', 11: '\\n', 12: 'W', 13: 'д', 14: ' ', 15: 'd', 16: '—', 17: 'Н', 18: '-', 19: 'b', 20: 'Ц', 21: 'п', 22: 'D', 23: '(', 24: 'ю', 25: 'ъ', 26: 'у', 27: 'ê', 28: 'j', 29: 'â', 30: 'n', 31: 'a', 32: 'ç', 33: 'q', 34: 'J', 35: 'л', 36: 'и', 37: '!', 38: ')', 39: 'e', 40: '„', 41: 'ш', 42: 'H', 43: 'К', 44: 'а', 45: 'c', 46: 'н', 47: \"'\", 48: '»', 49: 'f', 50: 'F', 51: 'é', 52: 'y', 53: '_', 54: 'э', 55: 'E', 56: 'I', 57: 'l', 58: 'Д', 59: 'i', 60: 'm', 61: 'ц', 62: 'в', 63: 'А', 64: 'Q', 65: 'В', 66: 'Э', 67: 'я', 68: 'A', 69: '<', 70: 'ё', 71: 'ж', 72: 'Ф', 73: 'U', 74: 'С', 75: 'x', 76: 'й', 77: '.', 78: 'à', 79: 'h', 80: 'з', 81: 'N', 82: 'ф', 83: ',', 84: 'Ю', 85: 'V', 86: 'У', 87: 'б', 88: 'х', 89: 'ы', 90: 'R', 91: 'р', 92: 'p', 93: '\"', 94: 'Е', 95: 'Ж', 96: 'B', 97: 'O', 98: '?', 99: 'L', 100: '>', 101: 'Щ', 102: 'è', 103: 'Л', 104: 'М', 105: 'г', 106: 'ь', 107: 'т', 108: 'z', 109: 'к', 110: 'Т', 111: 'И', 112: 'u', 113: 'S', 114: 'ô', 115: 'Х', 116: 'o', 117: 'Z', 118: 'P', 119: ':', 120: 'k', 121: 'О', 122: '«', 123: 'о', 124: 'П', 125: 'Б', 126: 'g', 127: 'C', 128: 'M', 129: 'Й', 130: 'Я', 131: 'Р', 132: 'Г', 133: 'с', 134: '–', 135: ';', 136: 'Ш', 137: '…', 138: 'щ', 139: 'Ч', 140: 'е', 141: 'û', 142: 'м'}\n"
          ]
        }
      ],
      "source": [
        "# Составляем словарь уникальных токенов\n",
        "vocab = [\"PAD\", \"EOS\",] + list(set(\"\".join(data))) #список уникальных символов.\n",
        "\n",
        "# Формируем два словаря, реализующие перевод символов в их индексы и обратно\n",
        "id2char = dict(enumerate(vocab)) #словарь индексов в символы\n",
        "char2id = {char: ind for ind, char in id2char.items()} #словарь символов в индексы\n",
        "print(f\"Количество уникальных символов: {len(vocab)}\", id2char, sep=\"\\n\")"
      ]
    },
    {
      "cell_type": "code",
      "execution_count": 6,
      "metadata": {
        "colab": {
          "base_uri": "https://localhost:8080/"
        },
        "id": "cKUAaBeRHyaG",
        "outputId": "48a5b3b0-5a59-4721-d3c4-687ec36fef74"
      },
      "outputs": [
        {
          "output_type": "stream",
          "name": "stdout",
          "text": [
            "Максимальная длина текста:  8948\n"
          ]
        }
      ],
      "source": [
        "lengths = list(map(len, data))\n",
        "print(\"Максимальная длина текста: \", max(lengths))"
      ]
    },
    {
      "cell_type": "code",
      "execution_count": 7,
      "metadata": {
        "colab": {
          "base_uri": "https://localhost:8080/",
          "height": 564
        },
        "id": "z_5HS2atIBLj",
        "outputId": "1e6f3646-c252-4711-a834-985717bd3ade"
      },
      "outputs": [
        {
          "output_type": "display_data",
          "data": {
            "text/plain": [
              "<Figure size 1400x600 with 1 Axes>"
            ],
            "image/png": "[encoded data removed]"
          },
          "metadata": {}
        }
      ],
      "source": [
        "plt.rcParams[\"figure.figsize\"] = (14, 6)\n",
        "plt.hist(lengths, bins=30, range=[0, 6000])\n",
        "plt.xlabel(\"Длина текста в символах\")\n",
        "plt.title(\"Гистограмма длин текстов\")\n",
        "plt.grid()"
      ]
    },
    {
      "cell_type": "code",
      "execution_count": 8,
      "metadata": {
        "colab": {
          "base_uri": "https://localhost:8080/"
        },
        "id": "IIKZES1iIMIo",
        "outputId": "8d203c6c-9e41-4528-d4e9-1f3d61770d5b"
      },
      "outputs": [
        {
          "output_type": "stream",
          "name": "stdout",
          "text": [
            "Средняя длина 808.9125\n",
            "Медиана длины 453.5\n",
            "Мода длины 221\n"
          ]
        }
      ],
      "source": [
        "lengths = np.array(lengths)\n",
        "print(\"Средняя длина\", np.mean(lengths))\n",
        "print(\"Медиана длины\", np.median(lengths))\n",
        "print(\"Мода длины\", np.bincount(lengths).argmax())"
      ]
    },
    {
      "cell_type": "markdown",
      "metadata": {
        "id": "Tr0dU9DTZ4If"
      },
      "source": [
        "Где можно будет использовать знание о параметрах распределения длин в выборке?"
      ]
    },
    {
      "cell_type": "code",
      "execution_count": 9,
      "metadata": {
        "id": "vWSy3Xf4IcxP"
      },
      "outputs": [],
      "source": [
        "# Устанавливаем, сколько символов будет генерировать модель (максимальная длина генерируемого текста)\n",
        "MAXLEN = 500"
      ]
    },
    {
      "cell_type": "markdown",
      "metadata": {
        "id": "e1HAy2YjaDgD"
      },
      "source": [
        "###Преобразование данных"
      ]
    },
    {
      "cell_type": "code",
      "execution_count": 10,
      "metadata": {
        "id": "Thn8i8XsaBjl"
      },
      "outputs": [],
      "source": [
        "line_ix = [char2id[c] for c in data[5][:500]]"
      ]
    },
    {
      "cell_type": "code",
      "execution_count": 11,
      "metadata": {
        "id": "gx63qHupaK6O"
      },
      "outputs": [],
      "source": [
        "data_ix = np.zeros([len(data[5]), 500], 'int64')\n",
        "data_ix[5, :len(line_ix)] = line_ix"
      ]
    },
    {
      "cell_type": "code",
      "execution_count": 12,
      "metadata": {
        "colab": {
          "base_uri": "https://localhost:8080/"
        },
        "id": "BRR8trxtaNE2",
        "outputId": "ac9d4116-16fd-4a9f-83f6-f43832ba697a"
      },
      "outputs": [
        {
          "output_type": "stream",
          "name": "stdout",
          "text": [
            "[0 0 0 ... 0 0 0]\n"
          ]
        }
      ],
      "source": [
        "data_ix= np.transpose(data_ix)\n",
        "print(data_ix[5])"
      ]
    },
    {
      "cell_type": "code",
      "execution_count": 13,
      "metadata": {
        "id": "lYp-bm8zaOg7"
      },
      "outputs": [],
      "source": [
        "def to_matrix(data, char2id, max_len=None, dtype='int64', batch_first = True):\n",
        "\n",
        "    max_len = max_len if max_len else max(map(len, data))\n",
        "    data = [text[:max_len] for text in data]\n",
        "    data_ix = np.zeros([len(data), max_len+1], dtype)\n",
        "\n",
        "    for i in range(len(data)):\n",
        "        line_ix = [char2id[c] for c in data[i][:max_len]] + [char2id[\"EOS\"]]\n",
        "        data_ix[i, :len(line_ix)] = line_ix\n",
        "\n",
        "    if not batch_first: # convert [batch, time] into [time, batch]\n",
        "        data_ix = np.transpose(data_ix)\n",
        "\n",
        "    return data_ix"
      ]
    },
    {
      "cell_type": "code",
      "execution_count": 14,
      "metadata": {
        "colab": {
          "base_uri": "https://localhost:8080/"
        },
        "id": "tDnimxTFaRsq",
        "outputId": "745250a2-6d0f-4c47-8109-224b708f0261"
      },
      "outputs": [
        {
          "output_type": "stream",
          "name": "stdout",
          "text": [
            "Исходный текст:\n",
            " Так и мне узнать случилось,\n",
            "Что за птица Купидон;\n",
            "Сердце страстное пленилось;\n",
            "Признаюсь – и я влюблен!\n",
            "Пролетело счастья время,\n",
            "Как, любви не зная бремя,\n",
            "Я живал да попевал,\n",
            "Как в театре и на балах,\n",
            "На гуляньях иль в воксалах\n",
            "Легким зефиром летал;\n",
            "Как, смеясь во зло Амуру,\n",
            "Я писал карикатуру\n",
            "На любезный женской пол;\n",
            "Но напрасно я смеялся,\n",
            "Наконец и сам попался,\n",
            "Сам, увы! с ума сошел.\n",
            "Смехи, вольность – всё под лавку\n",
            "Из Катонов я в отставку,\n",
            "И теперь я – Селадон!\n",
            "Миловидной жрицы Тальи\n",
            "Видел прелести Натальи,\n",
            "И уж в сердце – Купидон!\n",
            "\n",
            "Так, Наталья! признаюся,\n",
            "Я тобою полонен,\n",
            "В первый раз еще, стыжуся,\n",
            "В женски прелести влюблен.\n",
            "Целый день, как ни верчуся\n",
            "Лишь тобою занят я;\n",
            "Ночь придет – и лишь тебя\n",
            "Вижу я в пустом мечтаньи,\n",
            "Вижу, в легком одеяньи\n",
            "Будто милая со мной;\n",
            "Робко, сладостно дыханье,\n",
            "Белой груди колебанье,\n",
            "Снег затмивший белизной,\n",
            "И полуотверсты очи,\n",
            "Скромный мрак безмолвной ночи —\n",
            "Дух в восторг приводят мой!..\n",
            "Я один в беседке с нею,\n",
            "Вижу… девственну лилею,\n",
            "Трепещу, томлюсь, немею…\n",
            "И проснулся… вижу мрак\n",
            "Вкруг постели одинокой!\n",
            "Испускаю вздох глубокой,\n",
            "Сон ленивый, томноокой\n",
            "Отлетает на крылах.\n",
            "Страсть сильнее становится\n",
            "И, любовью утомясь,\n",
            "Я слабею всякой час.\n",
            "Всё к чему-то ум стремится,\n",
            "А к чему? – никто из нас\n",
            "Дамам в слух того не скажет,\n",
            "А уж так и сяк размажет.\n",
            "Я – по-свойски объяснюсь.\n",
            "\n",
            "Все любовники желают\n",
            "И того, чего не знают;\n",
            "Это свойство их – дивлюсь!\n",
            "Завернувшись балахоном,\n",
            "С хватской шапкой на бекрень\n",
            "Я желал бы Филимоном\n",
            "Под вечер, как всюду тень,\n",
            "Взяв Анюты нежну руку,\n",
            "Изъяснять любовну муку,\n",
            "Говорить: она моя!\n",
            "Я желал бы, чтоб Назорой\n",
            "Ты старалася меня\n",
            "Удержать умильным взором.\n",
            "Иль седым Опекуном\n",
            "Легкой, миленькой Розины,\n",
            "Старым пасынком судьбины,\n",
            "В епанче и с париком,\n",
            "Дерзкой пламенной рукою\n",
            "Белоснежну, полну грудь…\n",
            "Я желал бы… да ногою\n",
            "Моря не перешагнуть.\n",
            "И, хоть по уши влюбленный,\n",
            "Но с тобою разлученный,\n",
            "Всей надежды я лишен.\n",
            "\n",
            "Но, Наталья! ты не знаешь\n",
            "Кто твой нежный Селадон,\n",
            "Ты еще не понимаешь,\n",
            "Отчего не смеет он\n",
            "И надеяться? – Наталья!\n",
            "Выслушай еще меня:\n",
            "\n",
            "Не владетель я Сераля,\n",
            "Не арап, не турок я.\n",
            "За учтивого китайца,\n",
            "Грубого американца\n",
            "Почитать меня нельзя,\n",
            "Не представь и немчурою,\n",
            "С колпаком на волосах,\n",
            "С кружкой, пивом налитою,\n",
            "И с цыгаркою в зубах.\n",
            "Не представь кавалергарда\n",
            "В каске, с длинным палашом.\n",
            "Не люблю я бранный гром:\n",
            "Шпага, сабля, алебарда\n",
            "Не тягчат моей руки\n",
            "За Адамовы грехи.\n",
            "\n",
            "– Кто же ты, болтун влюбленный?\n",
            "Взглянь на стены возвышенны,\n",
            "Где безмолвья вечный мрак;\n",
            "Взглянь на окны загражденны,\n",
            "На лампады там зажженны…\n",
            "Знай, Наталья! – я… монах!\n",
            "\n",
            "\n",
            "Преобразованный текст:\n",
            " [110  44 109  14  36  14 142  46 140  14  26  80  46  44 107 106  14 133\n",
            "  35  26   2  36  35 123 133 106  83  11 139 107 123  14  80  44  14  21\n",
            " 107  36  61  44  14  43  26  21  36  13 123  46 135  11  74 140  91  13\n",
            "  61 140  14 133 107  91  44 133 107  46 123 140  14  21  35 140  46  36\n",
            "  35 123 133 106 135  11 124  91  36  80  46  44  24 133 106  14 134  14\n",
            "  36  14  67  14  62  35  24  87  35 140  46  37  11 124  91 123  35 140\n",
            " 107 140  35 123  14 133   2  44 133 107 106  67  14  62  91 140 142  67\n",
            "  83  11  43  44 109  83  14  35  24  87  62  36  14  46 140  14  80  46\n",
            "  44  67  14  87  91 140 142  67  83  11 130  14  71  36  62  44  35  14\n",
            "  13  44  14  21 123  21 140  62  44  35  83  11  43  44 109  14  62  14\n",
            " 107 140  44 107  91 140  14  36  14  46  44  14  87  44  35  44  88  83\n",
            "  11  17  44  14 105  26  35  67  46 106  67  88  14  36  35 106  14  62\n",
            "  14  62 123 109 133  44  35  44  88  11 103 140 105 109  36 142  14  80\n",
            " 140  82  36  91 123 142  14  35 140 107  44  35 135  11  43  44 109  83\n",
            "  14 133 142 140  67 133 106  14  62 123  14  80  35 123  14  63 142  26\n",
            "  91  26  83  11 130  14  21  36 133  44  35  14 109  44  91  36 109  44\n",
            " 107  26  91  26  11  17  44  14  35  24  87 140  80  46  89  76  14  71\n",
            " 140  46 133 109 123  76  14  21 123  35 135  11  17 123  14  46  44  21\n",
            "  91  44 133  46 123  14  67  14 133 142 140  67  35 133  67  83  11  17\n",
            "  44 109 123  46 140  61  14  36  14 133  44 142  14  21 123  21  44  35\n",
            " 133  67  83  11  74  44 142  83  14  26  62  89  37  14 133  14  26 142\n",
            "  44  14 133 123  41 140  35  77  11  74 142 140  88  36  83  14  62 123\n",
            "  35 106  46 123 133 107 106  14 134  14  62 133  70  14  21 123  13  14\n",
            "  35  44  62 109  26  11 111  80  14  43  44 107 123  46 123  62  14  67\n",
            "  14  62  14 123 107 133 107  44  62 109  26  83  11 111  14 107 140  21\n",
            " 140  91 106  14  67  14 134  14  74 140  35  44  13 123  46  37  11 104\n",
            "  36  35 123  62  36  13  46 123  76  14  71  91  36  61  89  14 110  44\n",
            "  35 106  36  11  65  36  13 140  35  14  21  91 140  35   1]\n"
          ]
        }
      ],
      "source": [
        "# Проверяем работу функции - кодируем один из текстов и смотрим как он выглядит в кодированном виде\n",
        "encode = to_matrix(data[:1], char2id, MAXLEN)\n",
        "print(\"Исходный текст:\\n\", data[0])\n",
        "print(\"Преобразованный текст:\\n\", encode[0])"
      ]
    },
    {
      "cell_type": "markdown",
      "metadata": {
        "id": "wg8r4ZiyaiXj"
      },
      "source": [
        "**Пояснить, что хранится в переменной encode.**\n",
        "\n",
        "Переменная encode - вызывает функцию to_matrix для кодирования первого текста из списка data, используя словарь char2id, каждый символ текста заменяется на соответствующий ему числовой индекс из словаря char2id, и длина каждой строки задается максимальной длиной последовательности MAXLEN.\n",
        "\n",
        "\n",
        "**Как будет выглядеть ваша фамилия в кодированном виде?**"
      ]
    },
    {
      "cell_type": "code",
      "execution_count": 15,
      "metadata": {
        "colab": {
          "base_uri": "https://localhost:8080/"
        },
        "id": "zs3sqmfoaUsZ",
        "outputId": "5cdb46fc-2628-4e3b-97ef-80ba5120132d"
      },
      "outputs": [
        {
          "output_type": "stream",
          "name": "stdout",
          "text": [
            "Исходный текст:\n",
            " Dvoryadkina\n",
            "Преобразованный текст:\n",
            " [[ 22   1   0   0   0   0]\n",
            " [  9   1   0   0   0   0]\n",
            " [116   1   0   0   0   0]\n",
            " [  4   1   0   0   0   0]\n",
            " [ 52   1   0   0   0   0]\n",
            " [ 31   1   0   0   0   0]\n",
            " [ 15   1   0   0   0   0]\n",
            " [120   1   0   0   0   0]\n",
            " [ 59   1   0   0   0   0]\n",
            " [ 30   1   0   0   0   0]\n",
            " [ 31   1   0   0   0   0]]\n"
          ]
        }
      ],
      "source": [
        "name = 'Dvoryadkina'\n",
        "encode = to_matrix(name, char2id, 5)\n",
        "print(\"Исходный текст:\\n\", name)\n",
        "print(\"Преобразованный текст:\\n\", encode)"
      ]
    },
    {
      "cell_type": "markdown",
      "metadata": {
        "id": "W5x-SCoblY5Z"
      },
      "source": [
        "###Подготовка нейросети"
      ]
    },
    {
      "cell_type": "code",
      "execution_count": 16,
      "metadata": {
        "id": "epM1IiqVhyC6"
      },
      "outputs": [],
      "source": [
        "num_embeddings = len(vocab) #количество эмбеддингов должно соответствовать длине словаря\n",
        "embedding_dim = 32 #определяется размерность эмбеддинга\n",
        "emb = nn.Embedding(num_embeddings, embedding_dim) # Определяем объект emb как слой эмбеддингов заданного размера"
      ]
    },
    {
      "cell_type": "code",
      "execution_count": 17,
      "metadata": {
        "colab": {
          "base_uri": "https://localhost:8080/"
        },
        "id": "L12Is55TlkWP",
        "outputId": "0626373d-96ba-40ce-eb51-dbfe4e29f07a"
      },
      "outputs": [
        {
          "output_type": "execute_result",
          "data": {
            "text/plain": [
              "143"
            ]
          },
          "metadata": {},
          "execution_count": 17
        }
      ],
      "source": [
        "num_embeddings"
      ]
    },
    {
      "cell_type": "markdown",
      "metadata": {
        "id": "HZhYKSTHl63O"
      },
      "source": [
        "**Почему количество эмбеддингов должно соответствовать длине словаря?**\n",
        "\n",
        " Либо будет недостаточно информации для представления всех слов или символов, либо будет избыточная информация, что может привести к переобучению модели. Это связано с тем, что каждый уникальный элемент должен иметь свое собственное представление в пространстве эмбеддингов.\n",
        "\n",
        "**В качестве примера пропустим через этот слой первые 5 букв первого текста.**"
      ]
    },
    {
      "cell_type": "code",
      "execution_count": 18,
      "metadata": {
        "colab": {
          "base_uri": "https://localhost:8080/"
        },
        "id": "hC6Y2sNVly4H",
        "outputId": "5a5b7d13-7fde-44aa-d4ac-78f830e36fe2"
      },
      "outputs": [
        {
          "output_type": "stream",
          "name": "stdout",
          "text": [
            "Размер тензора: torch.Size([5, 32])\n",
            "\n",
            "tensor([[ 1.6371, -0.0529,  1.5829, -0.0604, -1.1777,  1.6959,  0.6669, -0.7617,\n",
            "         -0.4972,  0.4946, -0.0261,  1.2823,  0.3075, -0.6873, -0.1903,  0.6002,\n",
            "         -0.4707, -0.9534,  0.0071, -0.9851, -0.1638,  1.0885,  0.1744,  2.0163,\n",
            "          0.0893,  0.7502,  0.1848,  0.6972,  0.8728,  0.4923, -0.5697, -0.9653],\n",
            "        [-0.8656, -0.3244,  0.2429, -0.5244,  1.1854,  0.1686,  0.3272,  0.8844,\n",
            "         -0.2210,  0.3670, -1.2455, -0.4713,  1.1221, -1.2654, -0.3046,  0.3969,\n",
            "         -0.1836,  1.4873,  1.3464, -0.0948,  0.2805, -0.3334, -1.2545,  0.2403,\n",
            "          0.0824, -0.0135,  2.5436, -1.3603, -0.8398, -1.8277, -0.5974,  2.3347],\n",
            "        [-1.6103, -0.7481,  1.2258, -0.8638,  0.0520,  0.1325,  0.5378,  0.2925,\n",
            "         -0.5111, -0.3177,  1.1285, -0.2348, -0.3650,  1.0122,  0.2422,  1.0549,\n",
            "          1.1638,  0.6109, -0.7850,  0.4967, -0.6920, -0.2218,  1.4511,  0.2411,\n",
            "         -0.0613,  1.2391,  0.1106,  0.2983, -0.8744,  0.8380,  1.0889, -1.0038],\n",
            "        [-1.6103, -0.7481,  1.2258, -0.8638,  0.0520,  0.1325,  0.5378,  0.2925,\n",
            "         -0.5111, -0.3177,  1.1285, -0.2348, -0.3650,  1.0122,  0.2422,  1.0549,\n",
            "          1.1638,  0.6109, -0.7850,  0.4967, -0.6920, -0.2218,  1.4511,  0.2411,\n",
            "         -0.0613,  1.2391,  0.1106,  0.2983, -0.8744,  0.8380,  1.0889, -1.0038],\n",
            "        [-1.6103, -0.7481,  1.2258, -0.8638,  0.0520,  0.1325,  0.5378,  0.2925,\n",
            "         -0.5111, -0.3177,  1.1285, -0.2348, -0.3650,  1.0122,  0.2422,  1.0549,\n",
            "          1.1638,  0.6109, -0.7850,  0.4967, -0.6920, -0.2218,  1.4511,  0.2411,\n",
            "         -0.0613,  1.2391,  0.1106,  0.2983, -0.8744,  0.8380,  1.0889, -1.0038]],\n",
            "       grad_fn=<EmbeddingBackward0>)\n"
          ]
        }
      ],
      "source": [
        "# emb_out - 5 первых символов в виде эмбедингов\n",
        "emb_out = emb(torch.tensor(encode[0][:5]))\n",
        "print(f\"Размер тензора: {emb_out.shape}\\n\")\n",
        "print(emb_out)"
      ]
    },
    {
      "cell_type": "markdown",
      "metadata": {
        "id": "O33XFu4dmeQb"
      },
      "source": [
        "**Пояснить, почему получен такой размер emb_out?**\n",
        "\n",
        "Размер тензора: torch.Size([5, 32]) получается из того, что эмбеддинги применяются к первым пяти буквам из закодированной последовательности encode.  Каждая из пяти букв была преобразована в вектор размерности 32."
      ]
    },
    {
      "cell_type": "markdown",
      "metadata": {
        "id": "IOLAwOPHtkUQ"
      },
      "source": [
        "###Создадим ячейку GRU"
      ]
    },
    {
      "cell_type": "markdown",
      "metadata": {
        "id": "vUg2iTqYtoRt"
      },
      "source": [
        "**Обратиться к документации к nn.GRU и ответить на вопрос, за что отвечают параметры input_size, hidden_size, num_layers.**\n",
        "\n",
        "input_size - количество ожидаемых функций во входных данных\n",
        "\n",
        "hidden_size - количество объектов в скрытом состоянии\n",
        "\n",
        "num_layers - количество повторяющихся слоев. Например, num_layers=2 будет означать объединение двух GRU вместе для формирования составного GRU, при этом второй GRU принимает выходные данные первого GRU и вычисляет окончательные результаты. По умолчанию: 1"
      ]
    },
    {
      "cell_type": "code",
      "execution_count": 19,
      "metadata": {
        "colab": {
          "base_uri": "https://localhost:8080/"
        },
        "id": "DNrWFnIkmZrM",
        "outputId": "123d90bc-9915-49fb-8015-83c45ef9d2cb"
      },
      "outputs": [
        {
          "output_type": "stream",
          "name": "stdout",
          "text": [
            "Размер output: torch.Size([5, 60])\n",
            "Размер h_n: torch.Size([2, 60])\n"
          ]
        }
      ],
      "source": [
        "# Определяем ячейку GRU в переменной gru, предварительно задав рамерность скрытого состояния и количество рекуррентных слоев\n",
        "input_size = emb.embedding_dim # вход в GRU должен соответствовать размеру эмбеддинга\n",
        "hidden_size = 60 #<your choice here>\n",
        "num_layers = 2 #<your choice here>\n",
        "gru = nn.GRU(input_size, hidden_size, num_layers)\n",
        "output, h_n = gru(emb_out)\n",
        "print(\"Размер output:\", output.shape)\n",
        "print(\"Размер h_n:\", h_n.shape)"
      ]
    },
    {
      "cell_type": "code",
      "execution_count": 20,
      "metadata": {
        "colab": {
          "base_uri": "https://localhost:8080/"
        },
        "id": "UL3Iq_-xuhUj",
        "outputId": "01f6f105-a5f2-4a92-9c8d-0c6cb3e9a202"
      },
      "outputs": [
        {
          "output_type": "stream",
          "name": "stdout",
          "text": [
            "Размер выходного слоя из нейросети:  torch.Size([5, 143])\n"
          ]
        }
      ],
      "source": [
        "in_features = gru.hidden_size\n",
        "out_features = len(vocab) #предсказываем букву из всего словаря\n",
        "linear = nn.Linear(in_features, out_features) # Определяем линейный слой. Почему заданы такие входные и выходные параметры для него?\n",
        "linear_out = linear(output) # output - выход GRU\n",
        "print(\"Размер выходного слоя из нейросети: \", linear_out.shape)"
      ]
    },
    {
      "cell_type": "markdown",
      "metadata": {
        "id": "65PUJ3c8vCKx"
      },
      "source": [
        "Входные данные для линейного слоя будут иметь размерность, соответствующую размерности скрытого состояния GRU. Это связано с тем, что выходной результат GRU имеет размерность скрытого состояния.\n",
        "\n"
      ]
    },
    {
      "cell_type": "markdown",
      "metadata": {
        "id": "q1T9KPNAyFyj"
      },
      "source": [
        "**Что содержится в векторе linear_out?**\n",
        "\n",
        "**Определить индекс символа, который наиболее вероятно выдаст ячейка GRU на первом шаге?**"
      ]
    },
    {
      "cell_type": "code",
      "execution_count": 21,
      "metadata": {
        "colab": {
          "base_uri": "https://localhost:8080/"
        },
        "id": "TLffVoovu1Vg",
        "outputId": "bd3dc6e6-446a-416f-bacc-5eda331a0178"
      },
      "outputs": [
        {
          "output_type": "execute_result",
          "data": {
            "text/plain": [
              "tensor([ 0.0361, -0.0640,  0.0394, -0.0283, -0.0898,  0.0388,  0.1608, -0.1193,\n",
              "        -0.1199, -0.1266, -0.0456, -0.0916,  0.0984,  0.0416,  0.0362, -0.0628,\n",
              "        -0.0605,  0.1285, -0.0197,  0.0212, -0.0759, -0.1449,  0.0218,  0.0504,\n",
              "         0.1132, -0.0138, -0.1027, -0.0834, -0.0024, -0.0411,  0.0865,  0.0806,\n",
              "        -0.0400,  0.0132,  0.0087,  0.1963, -0.1185, -0.0260, -0.0384,  0.0945,\n",
              "        -0.0407,  0.0679, -0.1504, -0.0553, -0.0082, -0.1166, -0.0238,  0.1043,\n",
              "         0.0937,  0.1259, -0.0268,  0.0155,  0.0276,  0.0506, -0.0520,  0.0839,\n",
              "         0.1025,  0.0542, -0.0251, -0.1095,  0.1437, -0.1144,  0.0884, -0.0302,\n",
              "        -0.0884,  0.0793, -0.0562, -0.1171, -0.1134, -0.1003, -0.0665, -0.0578,\n",
              "         0.1052, -0.0872, -0.0521, -0.0204,  0.0556, -0.0604,  0.0984,  0.1701,\n",
              "        -0.0250, -0.1297, -0.0182,  0.0906, -0.0293,  0.0189,  0.0699, -0.1164,\n",
              "         0.1224, -0.0438, -0.0670,  0.0918, -0.0004, -0.0513,  0.1124,  0.0343,\n",
              "         0.0577, -0.0319, -0.0489, -0.1138, -0.0514, -0.0629, -0.0883, -0.0268,\n",
              "         0.0777, -0.1262, -0.1112,  0.1614,  0.0104, -0.0873,  0.0486,  0.0132,\n",
              "         0.0891,  0.0514, -0.0779, -0.0596, -0.0773, -0.0593, -0.1234,  0.0197,\n",
              "         0.0417, -0.0916,  0.1661, -0.1437,  0.0126, -0.0929,  0.1232,  0.0016,\n",
              "         0.0601,  0.0737,  0.1079,  0.0780,  0.0417,  0.1681,  0.1061,  0.0976,\n",
              "        -0.0228,  0.1764, -0.0911,  0.0626, -0.0522,  0.0975,  0.0825],\n",
              "       grad_fn=<SelectBackward0>)"
            ]
          },
          "metadata": {},
          "execution_count": 21
        }
      ],
      "source": [
        "linear_out[0]"
      ]
    },
    {
      "cell_type": "code",
      "execution_count": 22,
      "metadata": {
        "id": "gShVDSn-yI7Z"
      },
      "outputs": [],
      "source": [
        "class CharGRULoop(nn.Module): # Описываем инициализатор класса.\n",
        "    def __init__(self, num_embeddings=52, embedding_dim=16, hidden_size=60, num_layers=2): # В методе __init__ определим архитектуру модели, создав необходимые слои\n",
        "        super(self.__class__, self).__init__()\n",
        "        self.emb = nn.Embedding(num_embeddings, embedding_dim)\n",
        "        self.gru = nn.GRU(embedding_dim, hidden_size, num_layers, batch_first=True)\n",
        "        self.hid_to_logits = nn.Linear(hidden_size, num_embeddings)\n",
        "\n",
        "    def forward(self, x, hid_state): # Здесь описываем структуру сети - как сигнал должен по ней проходить\n",
        "        x = self.emb(x) # Проходим через эмбеддинг-слой\n",
        "        if hid_state is not None: # Проходим через GRU, сохраняя hidden state\n",
        "            h_seq, hid_state = self.gru(x, hid_state)\n",
        "        else:\n",
        "            h_seq, hid_state = self.gru(x)\n",
        "        next_logits = self.hid_to_logits(h_seq) # проходим через полносвязный слой\n",
        "        next_logp = F.log_softmax(next_logits, dim=-1) # Используем функцию softmax\n",
        "        return next_logp, hid_state"
      ]
    },
    {
      "cell_type": "code",
      "execution_count": 23,
      "metadata": {
        "id": "lC9wFgZ_yLu1"
      },
      "outputs": [],
      "source": [
        "model = CharGRULoop(num_embeddings=len(vocab), embedding_dim=50, hidden_size=186, num_layers=3)\n",
        "#<your choice here> Можно попробовать создать сеть с другими значениями параметров"
      ]
    },
    {
      "cell_type": "code",
      "execution_count": 24,
      "metadata": {
        "id": "0Njn0ft4ybv7"
      },
      "outputs": [],
      "source": [
        "!pip -q install torchinfo"
      ]
    },
    {
      "cell_type": "code",
      "execution_count": 25,
      "metadata": {
        "colab": {
          "base_uri": "https://localhost:8080/"
        },
        "id": "ob-hFrMrylWc",
        "outputId": "d2d537de-2faf-4a63-d680-e80bf06b417a"
      },
      "outputs": [
        {
          "output_type": "execute_result",
          "data": {
            "text/plain": [
              "=================================================================\n",
              "Layer (type:depth-idx)                   Param #\n",
              "=================================================================\n",
              "CharGRULoop                              --\n",
              "├─Embedding: 1-1                         7,150\n",
              "├─GRU: 1-2                               550,188\n",
              "├─Linear: 1-3                            26,741\n",
              "=================================================================\n",
              "Total params: 584,079\n",
              "Trainable params: 584,079\n",
              "Non-trainable params: 0\n",
              "================================================================="
            ]
          },
          "metadata": {},
          "execution_count": 25
        }
      ],
      "source": [
        "from torchinfo import summary\n",
        "\n",
        "summary(model)"
      ]
    },
    {
      "cell_type": "code",
      "execution_count": 26,
      "metadata": {
        "id": "t0eNQFBryoa-"
      },
      "outputs": [],
      "source": [
        "def generate_sample(model, char2id, id2char, seed_phrase=' ', strategy=\"greedy\", max_length=100, temperature=1.0):\n",
        "    \"\"\"\n",
        "      model - нейросеть\n",
        "      char2id - словарь преобразования букв в их индексы\n",
        "      id2char - словарь преобразования индексов в буквы\n",
        "      seed_phrase - начальная фраза для генерации\n",
        "      strategy - стратегия генерации (жадная \"greedy\" или сэмплирование \"sample\")\n",
        "      max_length - максимальная длина сгенирированного текста\n",
        "      temperature - ???\n",
        "    \"\"\"\n",
        "\n",
        "    x_sequence = [char2id[token] for token in seed_phrase] # кодируем начальную фразу\n",
        "    x_sequence = torch.tensor([x_sequence], dtype=torch.int64) # создаем тензор\n",
        "    hid_state = None # задаем тензор скрытого состояния h_n, при такой подачи вектор заполнится нулями\n",
        "\n",
        "    with torch.no_grad(): # отключаем подсчет градиентов, поскольку сеть уже обучена и не нужно проводить обратное распространение ошибки\n",
        "      for i in range(len(seed_phrase) - 1): # подаем номер буквы и hid_state в цикле\n",
        "          _, hid_state = model(x_sequence[:, i].unsqueeze(0), hid_state)\n",
        "\n",
        "      # начинаем генерацию\n",
        "      for _ in range(max_length - len(seed_phrase)):\n",
        "\n",
        "          logp_next, hid_state = model(x_sequence[:, -1].unsqueeze(0), hid_state) # подаем последнюю букву из фразы\n",
        "          p_next = F.softmax(logp_next / temperature, dim=-1).data.numpy()[0] # нормируем выходы модели на температуру и применяем софтмакс\n",
        "\n",
        "          if strategy == \"greedy\": next_ix = p_next.argmax() #берем токен с максимальной вероятностью\n",
        "          elif strategy == \"sample\": next_ix = np.random.choice(len(id2char), p=p_next[0]) #получаем следующий токен сэмплированием с вероятностями\n",
        "          else: raise ValueError('Хулиган, не делай так! Выбери \"greedy\" или \"sample\"')\n",
        "\n",
        "          if id2char[next_ix] == \"EOS\": break # если получили токен EOS, то прекращаем генерацию\n",
        "          else:\n",
        "            next_ix = torch.tensor([[next_ix]], dtype=torch.int64) # создаем тензор следующий буквы\n",
        "            x_sequence = torch.cat([x_sequence, next_ix], dim=1) # добавляем предсказанный токен в конец последовательности\n",
        "\n",
        "    return ''.join([id2char[ix] for ix in x_sequence.data.numpy()[0]]) # возвращаем декодированную строку"
      ]
    },
    {
      "cell_type": "markdown",
      "metadata": {
        "id": "UeL66D0gzCO_"
      },
      "source": [
        "**Выполните следующую ячейку несколько раз с одной и той же SEED_PHRASE, запомните выводы модели и объясните результат - чем отличается стратегия greedy от sample?**"
      ]
    },
    {
      "cell_type": "code",
      "execution_count": 27,
      "metadata": {
        "colab": {
          "base_uri": "https://localhost:8080/"
        },
        "id": "s8WDxJ3-y82Y",
        "outputId": "ce4cd340-1631-4340-fa3c-eb988bcef7d5"
      },
      "outputs": [
        {
          "output_type": "stream",
          "name": "stdout",
          "text": [
            "я люблю сырники!\n",
            "uuûТPPТТûûPжжжжжжuuRuУuУ.u.шшшшшûûжжжжжжuuuRУУuu..шшшшшшûûжжжжжжuuuRУУuu..шшшшшшûûж\n",
            "\n",
            "я люблю сырники!\n",
            "NVçЕыFhûоû:сщцdJбФйèq!хN)tCЧ'ûФé;ШоЦьМHnЖшâAnэ*.йпвчSuБ«dюЧАL.âьХSnZХТувyç)\"xBrмt'_\n"
          ]
        }
      ],
      "source": [
        "SEED_PHRASE = 'я люблю сырники!\\n' # Ну или что-то другое\n",
        "print(generate_sample(model, char2id, id2char, seed_phrase=SEED_PHRASE, strategy=\"greedy\", max_length=100))\n",
        "print()\n",
        "print(generate_sample(model, char2id, id2char, seed_phrase=SEED_PHRASE, strategy=\"sample\", max_length=100))"
      ]
    },
    {
      "cell_type": "markdown",
      "metadata": {
        "id": "Iq2qSGpC0leL"
      },
      "source": [
        "**Greedy** - для выбора следующего символа в тексте выбирается символ с наибольшей вероятностью, предсказанной моделью. Т.о., каждый следующий символ выбирается как наиболее вероятный, основываясь только на предсказаниях модели. Такие тексты короче (т.к. eos имеет высокую вероятность) и проще (больше похожих символов)\n",
        "\n",
        "**Sample** - для выбора следующего символа используется случайный выбор с учетом вероятностей, предсказанных моделью. Эта стратегия приводит к более разнообразным и менее предсказуемым текстам."
      ]
    },
    {
      "cell_type": "code",
      "execution_count": 28,
      "metadata": {
        "id": "gtutkxgyzmTp"
      },
      "outputs": [],
      "source": [
        "from sklearn.model_selection import train_test_split\n",
        "\n",
        "batch = 128 # Тексты, для уменьшения накладных расходов, будем подавать на вход модели \"батчами\" - блоками по 128 документов\n",
        "\n",
        "train, test = train_test_split(data, test_size=0.2, random_state=42, shuffle=True)\n",
        "\n",
        "dataset_train = TensorDataset(torch.tensor(to_matrix(train, char2id, max_len=MAXLEN)))\n",
        "dataloader_train = DataLoader(dataset_train, batch_size=batch, shuffle=True)\n",
        "\n",
        "dataset_test = TensorDataset(torch.tensor(to_matrix(test, char2id, max_len=MAXLEN)))\n",
        "dataloader_test = DataLoader(dataset_test, batch_size=batch, shuffle=False)"
      ]
    },
    {
      "cell_type": "code",
      "execution_count": 29,
      "metadata": {
        "colab": {
          "base_uri": "https://localhost:8080/"
        },
        "id": "ws_XgF1H1aWV",
        "outputId": "a2c71366-1d25-49ec-f098-de65e06ac2f9"
      },
      "outputs": [
        {
          "output_type": "execute_result",
          "data": {
            "text/plain": [
              "=================================================================\n",
              "Layer (type:depth-idx)                   Param #\n",
              "=================================================================\n",
              "CharGRULoop                              --\n",
              "├─Embedding: 1-1                         9,152\n",
              "├─GRU: 1-2                               1,036,800\n",
              "├─Linear: 1-3                            36,751\n",
              "=================================================================\n",
              "Total params: 1,082,703\n",
              "Trainable params: 1,082,703\n",
              "Non-trainable params: 0\n",
              "================================================================="
            ]
          },
          "metadata": {},
          "execution_count": 29
        }
      ],
      "source": [
        "model = CharGRULoop(num_embeddings=len(vocab), embedding_dim=64, hidden_size=256, num_layers=3)\n",
        "optimizer = torch.optim.Adam(model.parameters(), lr=0.001)\n",
        "loss_fn = nn.NLLLoss(ignore_index=char2id[\"PAD\"])\n",
        "# Функция потерь - negative log likelihood loss (NLL Loss) - используеся для задачи многоклассовой классификации в ситуации, когда имеются логарифмы вероятностей каждого класса\n",
        "# NLL Loss эквивалентен CrossEntropyLoss, но применяется к логарифмам вероятностей - у нас на выходе линейного слоя как раз исопользуется функция softmax\n",
        "\n",
        "summary(model)"
      ]
    },
    {
      "cell_type": "code",
      "execution_count": 30,
      "metadata": {
        "colab": {
          "base_uri": "https://localhost:8080/"
        },
        "id": "F4R1bRAx1cOA",
        "outputId": "536a0306-3b13-4348-df68-7be3996a163e"
      },
      "outputs": [
        {
          "output_type": "execute_result",
          "data": {
            "text/plain": [
              "['Буря мглою небо кроет,\\nВихри снежные крутя:\\nТо, как зверь, она завоет,\\nТо заплачет, как дитя,\\nТо по кровле обветшалой\\nВдруг соломой зашумит,\\nТо, как путник запоздалый,\\nК нам в окошко застучит.\\n\\nНаша ветхая лачужка\\nИ печальна, и темна.\\nЧто же ты, моя старушка,\\nПриумолкла у окна?\\nИли бури завываньем\\nТы, мой друг, утомлена,\\nИли дремлешь под жужжаньем\\nСвоего веретена?\\n\\nВыпьем, добрая подружка\\nБедной юности моей,\\nВыпьем с горя; где же кружка?\\nСердцу будет веселей.\\nСпой мне песню, как синица\\nТихо за морем жила;\\nСпой мне песню, как девица\\nЗа водой поутру шла.\\n\\nБуря мглою небо кроет,\\nВихри снежные крутя;\\nТо, как зверь, она завоет.\\nТо заплачет, как дитя.\\nВыпьем, добрая подружка\\nБедной юности моей,\\nВыпьем с горя; где же кружка?\\nСердцу будет веселей.\\n\\n']"
            ]
          },
          "metadata": {},
          "execution_count": 30
        }
      ],
      "source": [
        "train[:1]"
      ]
    },
    {
      "cell_type": "code",
      "execution_count": 31,
      "metadata": {
        "colab": {
          "base_uri": "https://localhost:8080/"
        },
        "id": "UVgIBtc03niO",
        "outputId": "6b992097-d669-40b6-a995-e8d096c8d92e"
      },
      "outputs": [
        {
          "output_type": "stream",
          "name": "stdout",
          "text": [
            "perplexity:  143.99952697753906\n"
          ]
        }
      ],
      "source": [
        "example = torch.tensor(to_matrix(train[:1], char2id, max_len=MAXLEN)) # Возьмем первый документ и попробуем сгененировать этот же текст начиная с первой буквы\n",
        "\n",
        "train_example = example[:, :-1]\n",
        "target_example = example[:, 1:]\n",
        "\n",
        "next_logp, hid_state = model(train_example, hid_state=None)\n",
        "\n",
        "print('perplexity: ', torch.exp(loss_fn(next_logp.permute(0, 2, 1), target_example)).item())"
      ]
    },
    {
      "cell_type": "code",
      "execution_count": 32,
      "metadata": {
        "id": "O6PtiQUH3p_H"
      },
      "outputs": [],
      "source": [
        "device = torch.device(\"cuda\") if torch.cuda.is_available() else torch.device(\"cpu\")\n",
        "torch.cuda.empty_cache()"
      ]
    },
    {
      "cell_type": "code",
      "execution_count": 33,
      "metadata": {
        "id": "ZJ7K7ei63s-N",
        "colab": {
          "base_uri": "https://localhost:8080/",
          "height": 522
        },
        "outputId": "9018e01c-b68b-445b-9fa0-fdfd4664e63a"
      },
      "outputs": [
        {
          "output_type": "display_data",
          "data": {
            "text/plain": [
              "<Figure size 1400x600 with 1 Axes>"
            ],
            "image/png": "[encoded data removed]"
          },
          "metadata": {}
        }
      ],
      "source": [
        "EPOCH = 200 # количество эпох обучения\n",
        "history_train = [] # список значений лосса трейна на каждой эпохи\n",
        "history_test = [] # список значений лосса теста на каждой эпохи\n",
        "model.to(device) # И модель, и данные должны находиться на одном устройстве.\n",
        "                 # Поэтому при работе с GPU нужно следить и явно указывать, на каком устройстве проводится работа.\n",
        "\n",
        "\n",
        "best_test_loss = float(\"inf\")\n",
        "for i in range(EPOCH): #цикл по эпохам\n",
        "\n",
        "  loss_test = 0\n",
        "  loss_train = 0\n",
        "\n",
        "  for batch in dataloader_train: #цикл по тренировачным батчам\n",
        "\n",
        "    optimizer.zero_grad() #обнуляем градиенты\n",
        "    batch_ix = torch.tensor(batch[0], dtype=torch.int64).to(device) #делаем из батча тензор\n",
        "\n",
        "    predictions_logp, _ = model(batch_ix[:, :-1], hid_state=None) #подаем батч в модель\n",
        "\n",
        "    actual_next_tokens = batch_ix[:, 1:] # таргеры\n",
        "\n",
        "    loss = loss_fn(predictions_logp.permute(0, 2, 1), actual_next_tokens.long()) # считаем лосс на батче\n",
        "    loss_train += loss.item() # добавляем лосс с батча в суммарный лосс\n",
        "\n",
        "    loss.backward() # делаем обратный проход\n",
        "    optimizer.step() # делаем шаг оптимизатором\n",
        "\n",
        "  history_train.append(loss_train/len(dataloader_train)) # добавляем  средний лосс за эпоху в список\n",
        "\n",
        "  for batch in dataloader_test: #цикл по тестовым батчам\n",
        "    with torch.no_grad(): # отключаем подсчет градиентов\n",
        "\n",
        "      batch_ix = torch.tensor(batch[0], dtype=torch.int64).to(device)\n",
        "      predictions_logp, _ = model(batch_ix[:, :-1], hid_state=None)\n",
        "\n",
        "      actual_next_tokens = batch_ix[:, 1:]\n",
        "\n",
        "      loss = loss_fn(predictions_logp.permute(0, 2, 1), actual_next_tokens.long())\n",
        "      loss_test += loss.item()\n",
        "\n",
        "  loss_test = loss_test/len(dataloader_test)\n",
        "  history_test.append(loss_test)\n",
        "\n",
        "  if loss_test < best_test_loss: #сохраняем лучшую модель по лоссу на тесте\n",
        "    best_test_loss = loss_test\n",
        "    best_model = copy.deepcopy(model)\n",
        "    best_model.to(\"cpu\")\n",
        "\n",
        "  if (i + 1) % 5 == 0: # выводим график лосса каждые 5 эпох\n",
        "    clear_output(True)\n",
        "    plt.plot(history_train, label='loss_train')\n",
        "    plt.plot(history_test, label='loss_test')\n",
        "    plt.grid()\n",
        "    plt.legend()\n",
        "    plt.show()"
      ]
    },
    {
      "cell_type": "markdown",
      "metadata": {
        "id": "3GpQyoFh4EhS"
      },
      "source": [
        "**Достаточно ли обучилась модель? Имеет ли смысл изменить количество эпох обучения?**\n"
      ]
    },
    {
      "cell_type": "code",
      "execution_count": 34,
      "metadata": {
        "id": "jD3BpmRW34Y3",
        "colab": {
          "base_uri": "https://localhost:8080/"
        },
        "outputId": "05d355d0-b91b-482e-d3eb-fff3b2589e68"
      },
      "outputs": [
        {
          "output_type": "stream",
          "name": "stdout",
          "text": [
            "perplexity (best model test):  6.874816613361376\n",
            "perplexity (last epoch test):  8.362294116092965\n"
          ]
        }
      ],
      "source": [
        "print(\"perplexity (best model test): \", np.exp(best_test_loss))\n",
        "print(\"perplexity (last epoch test): \", np.exp(loss_test))"
      ]
    },
    {
      "cell_type": "code",
      "execution_count": 35,
      "metadata": {
        "id": "bfCuDqIc4NEk",
        "colab": {
          "base_uri": "https://localhost:8080/"
        },
        "outputId": "96d1572d-a1d7-4ca5-d611-ff1d0c956d5c"
      },
      "outputs": [
        {
          "output_type": "execute_result",
          "data": {
            "text/plain": [
              "CharGRULoop(\n",
              "  (emb): Embedding(143, 64)\n",
              "  (gru): GRU(64, 256, num_layers=3, batch_first=True)\n",
              "  (hid_to_logits): Linear(in_features=256, out_features=143, bias=True)\n",
              ")"
            ]
          },
          "metadata": {},
          "execution_count": 35
        }
      ],
      "source": [
        "device = 'cpu' # Обучение обычно проводится на GPU, но чтобы не тратить его ресурсы, работу по генерации текста уже обученной моделью стоит перенести обратно на CPU\n",
        "model.to(device)"
      ]
    },
    {
      "cell_type": "code",
      "execution_count": 36,
      "metadata": {
        "id": "niBmvCrk5b0x"
      },
      "outputs": [],
      "source": [
        "#Если вы не согласны, вы можете поменять стартовую фразу, но что думает об этом высказывание машина?\n",
        "SEED_PHRASE = 'Я люблю сырники,'"
      ]
    },
    {
      "cell_type": "code",
      "execution_count": 37,
      "metadata": {
        "id": "mMs-LIS65qXb",
        "colab": {
          "base_uri": "https://localhost:8080/"
        },
        "outputId": "0c873585-8f5e-471f-82be-36cfe8fe8952"
      },
      "outputs": [
        {
          "output_type": "stream",
          "name": "stdout",
          "text": [
            "Я люблю сырники, но богатор,\n",
            "Коржашен святый лес вод.\n",
            "Не дремлюсь и места, гресне!\n",
            "Царьме и холитель в той? —\n",
            "В, ей дере верен гпестме,\n",
            "Не буще круг старью, любовь лочь,\n",
            "Всё юностарь, ненавиделся\n",
            "Скольски лы, за вела...\n",
            "Где ль развясь, не как новы?\n",
            "\n",
            "Жувственные летит,\n",
            "Делаче садие старожно\n",
            "Неведающесь живой,\n",
            "Где мысла непоезный,\n",
            "Пора, питами и Пылаю.\n",
            "\n",
            "Не воздысли страсть а церный,\n",
            "Мо \n"
          ]
        }
      ],
      "source": [
        "print(generate_sample(best_model, char2id, id2char, seed_phrase=SEED_PHRASE, strategy=\"sample\", max_length=MAXLEN))"
      ]
    },
    {
      "cell_type": "code",
      "execution_count": 38,
      "metadata": {
        "id": "j-OwD05z5sET",
        "colab": {
          "base_uri": "https://localhost:8080/"
        },
        "outputId": "f8e5174e-4784-4105-aed8-ee37e4374020"
      },
      "outputs": [
        {
          "output_type": "stream",
          "name": "stdout",
          "text": [
            "Время спать ужели холодной\n",
            "Парнащие печали любви\n",
            "Ты кливого врага вот поли.\n",
            "Как непостоют будут дней\n",
            "Так видишь – и зажестивый,\n",
            "Не падругой и бейзать,\n",
            "И в стеснею воображенья\n",
            "И оковы рассказые,\n",
            "Обы его быть бежал\n",
            "С героею, пристаюсь,\n",
            "Не тут полгой, ты вдох\n"
          ]
        }
      ],
      "source": [
        "prompt = \"Время спать уже\"\n",
        "print(generate_sample(model, char2id, id2char, seed_phrase=prompt, strategy=\"sample\", max_length=256))"
      ]
    },
    {
      "cell_type": "code",
      "execution_count": 39,
      "metadata": {
        "id": "WxAQ0XBZ6SOT",
        "colab": {
          "base_uri": "https://localhost:8080/"
        },
        "outputId": "f99dffb7-2f41-4010-c7f4-bc35c0a91f67"
      },
      "outputs": [
        {
          "output_type": "stream",
          "name": "stdout",
          "text": [
            "Я люблю сырники, старик страстью,\n",
            "Под сердце прости и страсть\n",
            "И с тобой волненье моей.\n",
            "\n",
            "\n"
          ]
        }
      ],
      "source": [
        "print(generate_sample(best_model, char2id, id2char, seed_phrase=SEED_PHRASE, strategy=\"greedy\", max_length=MAXLEN))"
      ]
    },
    {
      "cell_type": "code",
      "execution_count": 40,
      "metadata": {
        "id": "45DOo1-i6ZfJ",
        "colab": {
          "base_uri": "https://localhost:8080/"
        },
        "outputId": "e87352b4-ad13-436f-8256-11f0a777fb10"
      },
      "outputs": [
        {
          "output_type": "stream",
          "name": "stdout",
          "text": [
            "Время спать уже с восколюбить,\n",
            "Во мне то будет в небеса,\n",
            "Не встречать не смеют посланье,\n",
            "Но с тобой покой и глазам\n",
            "И сердце на под небеса,\n",
            "И ты по не у нас ума.\n",
            "\n",
            "И вы, которы тебя любила\n",
            "И с ней собой не разбудит на бару,\n",
            "На воле за черно возвесть.\n",
            "\n",
            "В то в\n"
          ]
        }
      ],
      "source": [
        "print(generate_sample(model, char2id, id2char, seed_phrase=prompt, strategy=\"greedy\", max_length=256))"
      ]
    },
    {
      "cell_type": "markdown",
      "metadata": {
        "id": "OMhUGG0v60QP"
      },
      "source": [
        "###Эксперименты с температурой"
      ]
    },
    {
      "cell_type": "code",
      "execution_count": 41,
      "metadata": {
        "id": "ibogcV4h7JBG"
      },
      "outputs": [],
      "source": [
        "nice_strategy = \"sample\" #<your choice here>"
      ]
    },
    {
      "cell_type": "code",
      "execution_count": 42,
      "metadata": {
        "id": "svtp6xEM7nDx",
        "colab": {
          "base_uri": "https://localhost:8080/"
        },
        "outputId": "47571521-15e0-43ab-a5a0-f5354148b225"
      },
      "outputs": [
        {
          "output_type": "stream",
          "name": "stdout",
          "text": [
            "Я люблю сырники,\n",
            "Кт\n"
          ]
        }
      ],
      "source": [
        "print(generate_sample(best_model, char2id, id2char, seed_phrase=SEED_PHRASE, strategy=nice_strategy, max_length=MAXLEN, temperature=2.0))"
      ]
    },
    {
      "cell_type": "code",
      "execution_count": 43,
      "metadata": {
        "id": "an3fsdNCAFjl",
        "colab": {
          "base_uri": "https://localhost:8080/"
        },
        "outputId": "31c22aec-19f1-43f8-e1b8-913ceeaebf3c"
      },
      "outputs": [
        {
          "output_type": "stream",
          "name": "stdout",
          "text": [
            "Я люблю сырники, с себя достучей\n",
            "Сирой не желать в изменились великой\n",
            "И даго будет в дале собою\n",
            "Простеренней и томных поле,\n",
            "И дертвенный сердце внемлет на верего,\n",
            "Так презвышен благословенный день.\n",
            "\n",
            "\n"
          ]
        }
      ],
      "source": [
        "print(generate_sample(best_model, char2id, id2char, seed_phrase=SEED_PHRASE, strategy=nice_strategy, max_length=MAXLEN, temperature=0.5))"
      ]
    },
    {
      "cell_type": "markdown",
      "metadata": {
        "id": "pg6uADG67txj"
      },
      "source": [
        "**Сделайте выводы как влияет изменение температуры на генерацию текста.**\n",
        "\n",
        "Чем ниже температура, тем больший смысл имеет текст, но при этом уменьшается разнообразие используемых слов.\n",
        "\n",
        "**Выберите оптимальное значение температуры**\n",
        "\n",
        "0,5 показывает достаточно понятный текст"
      ]
    },
    {
      "cell_type": "code",
      "execution_count": 44,
      "metadata": {
        "id": "4vENUMO77pcf"
      },
      "outputs": [],
      "source": [
        "# По завершению работы с рекуррентной сетью, очистим кэш\n",
        "torch.cuda.empty_cache()"
      ]
    },
    {
      "cell_type": "markdown",
      "metadata": {
        "id": "-nEq_6TvB5ny"
      },
      "source": [
        "###Bonus track GPT"
      ]
    },
    {
      "cell_type": "code",
      "execution_count": 44,
      "metadata": {
        "id": "srkJfu3RB3sT"
      },
      "outputs": [],
      "source": []
    }
  ],
  "metadata": {
    "accelerator": "GPU",
    "colab": {
      "gpuType": "T4",
      "provenance": [],
      "authorship_tag": "ABX9TyMbaUSGWIpLivjqxSmlWJcf",
      "include_colab_link": true
    },
    "kernelspec": {
      "display_name": "Python 3",
      "name": "python3"
    },
    "language_info": {
      "name": "python"
    }
  },
  "nbformat": 4,
  "nbformat_minor": 0
}