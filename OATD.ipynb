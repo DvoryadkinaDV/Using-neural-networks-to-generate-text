{
  "nbformat": 4,
  "nbformat_minor": 0,
  "metadata": {
    "colab": {
      "provenance": [],
      "gpuType": "T4",
      "authorship_tag": "ABX9TyPZn4CMQBFFnx+EG33d7vHp",
      "include_colab_link": true
    },
    "kernelspec": {
      "name": "python3",
      "display_name": "Python 3"
    },
    "language_info": {
      "name": "python"
    },
    "accelerator": "GPU"
  },
  "cells": [
    {
      "cell_type": "markdown",
      "metadata": {
        "id": "view-in-github",
        "colab_type": "text"
      },
      "source": [
        "<a href=\"https://colab.research.google.com/github/DvoryadkinaDV/Using-neural-networks-to-generate-text/blob/main/OATD.ipynb\" target=\"_parent\"><img src=\"https://colab.research.google.com/assets/colab-badge.svg\" alt=\"Open In Colab\"/></a>"
      ]
    },
    {
      "cell_type": "markdown",
      "source": [
        "# Дворядкина\n",
        "# Отчет ЛР3"
      ],
      "metadata": {
        "id": "8Y71TZjvB2AE"
      }
    },
    {
      "cell_type": "markdown",
      "source": [
        "**Импорт библиотек**"
      ],
      "metadata": {
        "id": "vG8t-l7iCTUq"
      }
    },
    {
      "cell_type": "code",
      "execution_count": 2,
      "metadata": {
        "id": "S_2v5OuOBJh_"
      },
      "outputs": [],
      "source": [
        "import copy\n",
        "import torch\n",
        "import numpy as np\n",
        "import torch.nn as nn\n",
        "import torch.nn.functional as F\n",
        "import matplotlib.pyplot as plt\n",
        "\n",
        "\n",
        "from random import sample\n",
        "from IPython.display import clear_output\n",
        "from torch.utils.data import DataLoader, TensorDataset"
      ]
    },
    {
      "cell_type": "code",
      "source": [
        "torch.cuda.is_available()"
      ],
      "metadata": {
        "colab": {
          "base_uri": "https://localhost:8080/"
        },
        "id": "21bHAqeUCsv3",
        "outputId": "26fe50e4-01df-4c31-c7ee-4b8a8d4ff16e"
      },
      "execution_count": 3,
      "outputs": [
        {
          "output_type": "execute_result",
          "data": {
            "text/plain": [
              "True"
            ]
          },
          "metadata": {},
          "execution_count": 3
        }
      ]
    },
    {
      "cell_type": "markdown",
      "source": [
        "**Загрузим данные (Пушкин)**"
      ],
      "metadata": {
        "id": "BA0kZ_59C_Zs"
      }
    },
    {
      "cell_type": "code",
      "source": [
        "!wget -O poems.txt http://uit.mpei.ru/git/main/TDA/raw/branch/master/assets/poems/pushkin.txt"
      ],
      "metadata": {
        "colab": {
          "base_uri": "https://localhost:8080/"
        },
        "id": "PD-wkns_C7pw",
        "outputId": "29d2dc0b-721b-4245-bcb5-6b0c898a2361"
      },
      "execution_count": 4,
      "outputs": [
        {
          "output_type": "stream",
          "name": "stdout",
          "text": [
            "--2024-04-12 17:34:34--  http://uit.mpei.ru/git/main/TDA/raw/branch/master/assets/poems/pushkin.txt\n",
            "Resolving uit.mpei.ru (uit.mpei.ru)... 193.233.68.149\n",
            "Connecting to uit.mpei.ru (uit.mpei.ru)|193.233.68.149|:80... connected.\n",
            "HTTP request sent, awaiting response... 200 OK\n",
            "Length: 1048627 (1.0M) [text/plain]\n",
            "Saving to: ‘poems.txt’\n",
            "\n",
            "poems.txt           100%[===================>]   1.00M   596KB/s    in 1.7s    \n",
            "\n",
            "2024-04-12 17:34:36 (596 KB/s) - ‘poems.txt’ saved [1048627/1048627]\n",
            "\n"
          ]
        }
      ]
    },
    {
      "cell_type": "code",
      "source": [
        "# Загружаем текст из файла.\n",
        "# Стихотворения в файле разделены токеном '</s>'\n",
        "\n",
        "with open(\"poems.txt\") as file:\n",
        "  data = file.read().split(\"</s>\\n\\n\")\n",
        "print(f\"Количество стихов: {len(data)}\\n\", f\"Пример стиха:\\n\\n{data[10]}\",  sep=\"\\n\")"
      ],
      "metadata": {
        "colab": {
          "base_uri": "https://localhost:8080/"
        },
        "id": "i9EIiDUuDJUa",
        "outputId": "0a733c8d-e3ba-4855-c77d-1839e95587ac"
      },
      "execution_count": 5,
      "outputs": [
        {
          "output_type": "stream",
          "name": "stdout",
          "text": [
            "Количество стихов: 720\n",
            "\n",
            "Пример стиха:\n",
            "\n",
            "Возможно ль? вместо роз, Амуром насажденных,\n",
            "Тюльпанов гордо наклоненных,\n",
            "Душистых ландышей, ясминов и лилей,\n",
            "Которых ты всегда любила\n",
            "И прежде всякой день носила\n",
            "На мраморной груди твоей —\n",
            "Возможно ль, милая Климена,\n",
            "Какая странная во вкусе перемена!..\n",
            "Ты любишь обонять не утренний цветок,\n",
            "А вредную траву зелену,\n",
            "Искусством превращенну\n",
            "В пушистый порошок! —\n",
            "Пускай уже седой профессор Геттингена,\n",
            "На старой кафедре согнувшися дугой,\n",
            "Вперив в латинщину глубокой разум свой,\n",
            "Раскашлявшись, табак толченый\n",
            "Пихает в длинный нос иссохшею рукой;\n",
            "Пускай младой драгун усатый\n",
            "Поутру, сидя у окна,\n",
            "С остатком утреннего сна,\n",
            "Из трубки пенковой дым гонит сероватый;\n",
            "Пускай красавица шестидесяти лет,\n",
            "У Граций в отпуску, и у любви в отставке,\n",
            "Которой держится вся прелесть на подставке,\n",
            "Которой без морщин на теле места нет,\n",
            "Злословит, молится, зевает\n",
            "И с верным табаком печали забывает, —\n",
            "А ты, прелестная!.. но если уж табак\n",
            "Так нравится тебе – о пыл воображенья! —\n",
            "Ах! если, превращенный в прах,\n",
            "И в табакерке, в заточеньи,\n",
            "Я в персты нежные твои попасться мог,\n",
            "Тогда б в сердечном восхищеньи\n",
            "Рассыпался на грудь под шелковый платок\n",
            "И даже… может быть… Но что! мечта пустая.\n",
            "Не будет этого никак.\n",
            "Судьба завистливая, злая!\n",
            "Ах, отчего я не табак!..\n",
            "\n",
            "\n"
          ]
        }
      ]
    },
    {
      "cell_type": "markdown",
      "source": [
        "**Подготовка данных и сводные статистики**"
      ],
      "metadata": {
        "id": "UXO8ZgO7HspH"
      }
    },
    {
      "cell_type": "code",
      "source": [
        "# Составляем словарь уникальных токенов\n",
        "vocab = [\"PAD\", \"EOS\",] + list(set(\"\".join(data))) #список уникальных символов.\n",
        "\n",
        "# Формируем два словаря, реализующие перевод символов в их индексы и обратно\n",
        "id2char = dict(enumerate(vocab)) #словарь индексов в символы\n",
        "char2id = {char: ind for ind, char in id2char.items()} #словарь символов в индексы\n",
        "print(f\"Количество уникальных символов: {len(vocab)}\", id2char, sep=\"\\n\")"
      ],
      "metadata": {
        "colab": {
          "base_uri": "https://localhost:8080/"
        },
        "id": "UXWcW7_CDO89",
        "outputId": "7f29e19a-92e6-4edd-89e1-024872ec0009"
      },
      "execution_count": 6,
      "outputs": [
        {
          "output_type": "stream",
          "name": "stdout",
          "text": [
            "Количество уникальных символов: 143\n",
            "{0: 'PAD', 1: 'EOS', 2: 'И', 3: 'Е', 4: 'ê', 5: 'S', 6: 'р', 7: 'к', 8: '_', 9: 'о', 10: 'p', 11: 'h', 12: 'â', 13: 'Ю', 14: 'a', 15: 't', 16: 'O', 17: 'н', 18: 'ы', 19: 'П', 20: 'д', 21: '„', 22: 'u', 23: '«', 24: 'в', 25: 'М', 26: 'y', 27: 'R', 28: 'û', 29: 'Х', 30: 'ô', 31: '–', 32: 'k', 33: 'Я', 34: 'х', 35: '…', 36: 'б', 37: 'ъ', 38: 'г', 39: 'n', 40: 'x', 41: 'd', 42: 'Р', 43: 'я', 44: '»', 45: 'D', 46: 'ч', 47: 'у', 48: '\"', 49: 'C', 50: 'I', 51: 'Й', 52: 'g', 53: 'ю', 54: 'l', 55: 'j', 56: 'п', 57: 'c', 58: 'Б', 59: 'Л', 60: 'м', 61: ';', 62: 'ё', 63: '-', 64: 'й', 65: \"'\", 66: 'P', 67: '*', 68: 'Ж', 69: 'H', 70: 'ф', 71: 'è', 72: '\\n', 73: ':', 74: 'А', 75: 'У', 76: 'с', 77: 's', 78: 'i', 79: 'v', 80: 'Д', 81: 'Г', 82: 'т', 83: 'К', 84: 'J', 85: '.', 86: 'N', 87: 'ь', 88: ')', 89: ' ', 90: 'Щ', 91: ',', 92: 'э', 93: '\\xa0', 94: 'ç', 95: 'л', 96: '!', 97: '<', 98: 'Т', 99: 'à', 100: 'ж', 101: 'Н', 102: 'ц', 103: 'Э', 104: 'e', 105: 'b', 106: 'q', 107: 'f', 108: 'С', 109: 'ш', 110: '(', 111: 'z', 112: 'o', 113: 'В', 114: '?', 115: 'T', 116: 'щ', 117: 'L', 118: 'U', 119: 'З', 120: '—', 121: '>', 122: 'M', 123: 'Ц', 124: 'B', 125: 'é', 126: 'F', 127: 'Ш', 128: 'Q', 129: 'з', 130: 'A', 131: 'V', 132: 'Z', 133: 'E', 134: 'а', 135: 'r', 136: 'W', 137: 'О', 138: 'и', 139: 'm', 140: 'Ч', 141: 'е', 142: 'Ф'}\n"
          ]
        }
      ]
    },
    {
      "cell_type": "code",
      "source": [
        "lengths = list(map(len, data))\n",
        "print(\"Максимальная длина текста: \", max(lengths))"
      ],
      "metadata": {
        "colab": {
          "base_uri": "https://localhost:8080/"
        },
        "id": "cKUAaBeRHyaG",
        "outputId": "120b7292-e0c0-4824-d519-78a0bd90fe03"
      },
      "execution_count": 7,
      "outputs": [
        {
          "output_type": "stream",
          "name": "stdout",
          "text": [
            "Максимальная длина текста:  8948\n"
          ]
        }
      ]
    },
    {
      "cell_type": "code",
      "source": [
        "plt.rcParams[\"figure.figsize\"] = (14, 6)\n",
        "plt.hist(lengths, bins=30, range=[0, 6000])\n",
        "plt.xlabel(\"Длина текста в символах\")\n",
        "plt.title(\"Гистограмма длин текстов\")\n",
        "plt.grid()"
      ],
      "metadata": {
        "colab": {
          "base_uri": "https://localhost:8080/",
          "height": 564
        },
        "id": "z_5HS2atIBLj",
        "outputId": "3a401366-47bb-4c3a-ccf9-c7fd7aee0b29"
      },
      "execution_count": 8,
      "outputs": [
        {
          "output_type": "display_data",
          "data": {
            "text/plain": [
              "<Figure size 1400x600 with 1 Axes>"
            ],
            "image/png": "[encoded data removed]"
          },
          "metadata": {}
        }
      ]
    },
    {
      "cell_type": "code",
      "source": [
        "lengths = np.array(lengths)\n",
        "print(\"Средняя длина\", np.mean(lengths))\n",
        "print(\"Медиана длины\", np.median(lengths))\n",
        "print(\"Мода длины\", np.bincount(lengths).argmax())"
      ],
      "metadata": {
        "colab": {
          "base_uri": "https://localhost:8080/"
        },
        "id": "IIKZES1iIMIo",
        "outputId": "40619816-d740-486d-9514-4d8249d9c929"
      },
      "execution_count": 9,
      "outputs": [
        {
          "output_type": "stream",
          "name": "stdout",
          "text": [
            "Средняя длина 808.9125\n",
            "Медиана длины 453.5\n",
            "Мода длины 221\n"
          ]
        }
      ]
    },
    {
      "cell_type": "markdown",
      "source": [
        "Где можно будет использовать знание о параметрах распределения длин в выборке?"
      ],
      "metadata": {
        "id": "Tr0dU9DTZ4If"
      }
    },
    {
      "cell_type": "code",
      "source": [
        "# Устанавливаем, сколько символов будет генерировать модель (максимальная длина генерируемого текста)\n",
        "MAXLEN = 500"
      ],
      "metadata": {
        "id": "vWSy3Xf4IcxP"
      },
      "execution_count": 43,
      "outputs": []
    },
    {
      "cell_type": "markdown",
      "source": [
        "**Преобразование данных**"
      ],
      "metadata": {
        "id": "e1HAy2YjaDgD"
      }
    },
    {
      "cell_type": "code",
      "source": [
        "line_ix = [char2id[c] for c in data[5][:500]]"
      ],
      "metadata": {
        "id": "Thn8i8XsaBjl"
      },
      "execution_count": 44,
      "outputs": []
    },
    {
      "cell_type": "code",
      "source": [
        "data_ix = np.zeros([len(data[5]), 500], 'int64')\n",
        "data_ix[5, :len(line_ix)] = line_ix"
      ],
      "metadata": {
        "id": "gx63qHupaK6O"
      },
      "execution_count": 45,
      "outputs": []
    },
    {
      "cell_type": "code",
      "source": [
        "data_ix= np.transpose(data_ix)\n",
        "print(data_ix[5])"
      ],
      "metadata": {
        "colab": {
          "base_uri": "https://localhost:8080/"
        },
        "id": "BRR8trxtaNE2",
        "outputId": "932c88e4-db31-42a3-85b4-c11094ed4653"
      },
      "execution_count": 46,
      "outputs": [
        {
          "output_type": "stream",
          "name": "stdout",
          "text": [
            "[0 0 0 ... 0 0 0]\n"
          ]
        }
      ]
    },
    {
      "cell_type": "code",
      "source": [
        "def to_matrix(data, char2id, max_len=None, dtype='int64', batch_first = True):\n",
        "\n",
        "    max_len = max_len if max_len else max(map(len, data))\n",
        "    data = [text[:max_len] for text in data]\n",
        "    data_ix = np.zeros([len(data), max_len+1], dtype)\n",
        "\n",
        "    for i in range(len(data)):\n",
        "        line_ix = [char2id[c] for c in data[i][:max_len]] + [char2id[\"EOS\"]]\n",
        "        data_ix[i, :len(line_ix)] = line_ix\n",
        "\n",
        "    if not batch_first: # convert [batch, time] into [time, batch]\n",
        "        data_ix = np.transpose(data_ix)\n",
        "\n",
        "    return data_ix"
      ],
      "metadata": {
        "id": "lYp-bm8zaOg7"
      },
      "execution_count": 47,
      "outputs": []
    },
    {
      "cell_type": "code",
      "source": [
        "# Проверяем работу функции - кодируем один из текстов и смотрим как он выглядит в кодированном виде\n",
        "encode = to_matrix(data[:1], char2id, MAXLEN)\n",
        "print(\"Исходный текст:\\n\", data[0])\n",
        "print(\"Преобразованный текст:\\n\", encode[0])"
      ],
      "metadata": {
        "colab": {
          "base_uri": "https://localhost:8080/"
        },
        "id": "tDnimxTFaRsq",
        "outputId": "d76c2aab-436c-4f65-9bcd-482a6ee7e7f9"
      },
      "execution_count": 48,
      "outputs": [
        {
          "output_type": "stream",
          "name": "stdout",
          "text": [
            "Исходный текст:\n",
            " Так и мне узнать случилось,\n",
            "Что за птица Купидон;\n",
            "Сердце страстное пленилось;\n",
            "Признаюсь – и я влюблен!\n",
            "Пролетело счастья время,\n",
            "Как, любви не зная бремя,\n",
            "Я живал да попевал,\n",
            "Как в театре и на балах,\n",
            "На гуляньях иль в воксалах\n",
            "Легким зефиром летал;\n",
            "Как, смеясь во зло Амуру,\n",
            "Я писал карикатуру\n",
            "На любезный женской пол;\n",
            "Но напрасно я смеялся,\n",
            "Наконец и сам попался,\n",
            "Сам, увы! с ума сошел.\n",
            "Смехи, вольность – всё под лавку\n",
            "Из Катонов я в отставку,\n",
            "И теперь я – Селадон!\n",
            "Миловидной жрицы Тальи\n",
            "Видел прелести Натальи,\n",
            "И уж в сердце – Купидон!\n",
            "\n",
            "Так, Наталья! признаюся,\n",
            "Я тобою полонен,\n",
            "В первый раз еще, стыжуся,\n",
            "В женски прелести влюблен.\n",
            "Целый день, как ни верчуся\n",
            "Лишь тобою занят я;\n",
            "Ночь придет – и лишь тебя\n",
            "Вижу я в пустом мечтаньи,\n",
            "Вижу, в легком одеяньи\n",
            "Будто милая со мной;\n",
            "Робко, сладостно дыханье,\n",
            "Белой груди колебанье,\n",
            "Снег затмивший белизной,\n",
            "И полуотверсты очи,\n",
            "Скромный мрак безмолвной ночи —\n",
            "Дух в восторг приводят мой!..\n",
            "Я один в беседке с нею,\n",
            "Вижу… девственну лилею,\n",
            "Трепещу, томлюсь, немею…\n",
            "И проснулся… вижу мрак\n",
            "Вкруг постели одинокой!\n",
            "Испускаю вздох глубокой,\n",
            "Сон ленивый, томноокой\n",
            "Отлетает на крылах.\n",
            "Страсть сильнее становится\n",
            "И, любовью утомясь,\n",
            "Я слабею всякой час.\n",
            "Всё к чему-то ум стремится,\n",
            "А к чему? – никто из нас\n",
            "Дамам в слух того не скажет,\n",
            "А уж так и сяк размажет.\n",
            "Я – по-свойски объяснюсь.\n",
            "\n",
            "Все любовники желают\n",
            "И того, чего не знают;\n",
            "Это свойство их – дивлюсь!\n",
            "Завернувшись балахоном,\n",
            "С хватской шапкой на бекрень\n",
            "Я желал бы Филимоном\n",
            "Под вечер, как всюду тень,\n",
            "Взяв Анюты нежну руку,\n",
            "Изъяснять любовну муку,\n",
            "Говорить: она моя!\n",
            "Я желал бы, чтоб Назорой\n",
            "Ты старалася меня\n",
            "Удержать умильным взором.\n",
            "Иль седым Опекуном\n",
            "Легкой, миленькой Розины,\n",
            "Старым пасынком судьбины,\n",
            "В епанче и с париком,\n",
            "Дерзкой пламенной рукою\n",
            "Белоснежну, полну грудь…\n",
            "Я желал бы… да ногою\n",
            "Моря не перешагнуть.\n",
            "И, хоть по уши влюбленный,\n",
            "Но с тобою разлученный,\n",
            "Всей надежды я лишен.\n",
            "\n",
            "Но, Наталья! ты не знаешь\n",
            "Кто твой нежный Селадон,\n",
            "Ты еще не понимаешь,\n",
            "Отчего не смеет он\n",
            "И надеяться? – Наталья!\n",
            "Выслушай еще меня:\n",
            "\n",
            "Не владетель я Сераля,\n",
            "Не арап, не турок я.\n",
            "За учтивого китайца,\n",
            "Грубого американца\n",
            "Почитать меня нельзя,\n",
            "Не представь и немчурою,\n",
            "С колпаком на волосах,\n",
            "С кружкой, пивом налитою,\n",
            "И с цыгаркою в зубах.\n",
            "Не представь кавалергарда\n",
            "В каске, с длинным палашом.\n",
            "Не люблю я бранный гром:\n",
            "Шпага, сабля, алебарда\n",
            "Не тягчат моей руки\n",
            "За Адамовы грехи.\n",
            "\n",
            "– Кто же ты, болтун влюбленный?\n",
            "Взглянь на стены возвышенны,\n",
            "Где безмолвья вечный мрак;\n",
            "Взглянь на окны загражденны,\n",
            "На лампады там зажженны…\n",
            "Знай, Наталья! – я… монах!\n",
            "\n",
            "\n",
            "Преобразованный текст:\n",
            " [ 98 134   7  89 138  89  60  17 141  89  47 129  17 134  82  87  89  76\n",
            "  95  47  46 138  95   9  76  87  91  72 140  82   9  89 129 134  89  56\n",
            "  82 138 102 134  89  83  47  56 138  20   9  17  61  72 108 141   6  20\n",
            " 102 141  89  76  82   6 134  76  82  17   9 141  89  56  95 141  17 138\n",
            "  95   9  76  87  61  72  19   6 138 129  17 134  53  76  87  89  31  89\n",
            " 138  89  43  89  24  95  53  36  95 141  17  96  72  19   6   9  95 141\n",
            "  82 141  95   9  89  76  46 134  76  82  87  43  89  24   6 141  60  43\n",
            "  91  72  83 134   7  91  89  95  53  36  24 138  89  17 141  89 129  17\n",
            " 134  43  89  36   6 141  60  43  91  72  33  89 100 138  24 134  95  89\n",
            "  20 134  89  56   9  56 141  24 134  95  91  72  83 134   7  89  24  89\n",
            "  82 141 134  82   6 141  89 138  89  17 134  89  36 134  95 134  34  91\n",
            "  72 101 134  89  38  47  95  43  17  87  43  34  89 138  95  87  89  24\n",
            "  89  24   9   7  76 134  95 134  34  72  59 141  38   7 138  60  89 129\n",
            " 141  70 138   6   9  60  89  95 141  82 134  95  61  72  83 134   7  91\n",
            "  89  76  60 141  43  76  87  89  24   9  89 129  95   9  89  74  60  47\n",
            "   6  47  91  72  33  89  56 138  76 134  95  89   7 134   6 138   7 134\n",
            "  82  47   6  47  72 101 134  89  95  53  36 141 129  17  18  64  89 100\n",
            " 141  17  76   7   9  64  89  56   9  95  61  72 101   9  89  17 134  56\n",
            "   6 134  76  17   9  89  43  89  76  60 141  43  95  76  43  91  72 101\n",
            " 134   7   9  17 141 102  89 138  89  76 134  60  89  56   9  56 134  95\n",
            "  76  43  91  72 108 134  60  91  89  47  24  18  96  89  76  89  47  60\n",
            " 134  89  76   9 109 141  95  85  72 108  60 141  34 138  91  89  24   9\n",
            "  95  87  17   9  76  82  87  89  31  89  24  76  62  89  56   9  20  89\n",
            "  95 134  24   7  47  72   2 129  89  83 134  82   9  17   9  24  89  43\n",
            "  89  24  89   9  82  76  82 134  24   7  47  91  72   2  89  82 141  56\n",
            " 141   6  87  89  43  89  31  89 108 141  95 134  20   9  17  96  72  25\n",
            " 138  95   9  24 138  20  17   9  64  89 100   6 138 102  18  89  98 134\n",
            "  95  87 138  72 113 138  20 141  95  89  56   6 141  95   1]\n"
          ]
        }
      ]
    },
    {
      "cell_type": "markdown",
      "source": [
        "**Пояснить, что хранится в переменной encode.**\n",
        "\n",
        "Переменная encode - вызывает функцию to_matrix для кодирования первого текста из списка data, используя словарь char2id, каждый символ текста заменяется на соответствующий ему числовой индекс из словаря char2id, и длина каждой строки задается максимальной длиной последовательности MAXLEN.\n",
        "\n",
        "\n",
        "**Как будет выглядеть ваша фамилия в кодированном виде?**"
      ],
      "metadata": {
        "id": "wg8r4ZiyaiXj"
      }
    },
    {
      "cell_type": "code",
      "source": [
        "name = 'Dvoryadkina'\n",
        "encode = to_matrix(name, char2id, 5)\n",
        "print(\"Исходный текст:\\n\", name)\n",
        "print(\"Преобразованный текст:\\n\", encode)"
      ],
      "metadata": {
        "colab": {
          "base_uri": "https://localhost:8080/"
        },
        "id": "zs3sqmfoaUsZ",
        "outputId": "c548e706-162f-42ec-95c0-98b482621346"
      },
      "execution_count": 49,
      "outputs": [
        {
          "output_type": "stream",
          "name": "stdout",
          "text": [
            "Исходный текст:\n",
            " Dvoryadkina\n",
            "Преобразованный текст:\n",
            " [[ 45   1   0   0   0   0]\n",
            " [ 79   1   0   0   0   0]\n",
            " [112   1   0   0   0   0]\n",
            " [135   1   0   0   0   0]\n",
            " [ 26   1   0   0   0   0]\n",
            " [ 14   1   0   0   0   0]\n",
            " [ 41   1   0   0   0   0]\n",
            " [ 32   1   0   0   0   0]\n",
            " [ 78   1   0   0   0   0]\n",
            " [ 39   1   0   0   0   0]\n",
            " [ 14   1   0   0   0   0]]\n"
          ]
        }
      ]
    },
    {
      "cell_type": "markdown",
      "source": [
        "**Подготовка нейросети**"
      ],
      "metadata": {
        "id": "W5x-SCoblY5Z"
      }
    },
    {
      "cell_type": "code",
      "source": [
        "num_embeddings = len(vocab) #количество эмбеддингов должно соответствовать длине словаря\n",
        "embedding_dim = 32 #определяется размерность эмбеддинга\n",
        "emb = nn.Embedding(num_embeddings, embedding_dim) # Определяем объект emb как слой эмбеддингов заданного размера"
      ],
      "metadata": {
        "id": "epM1IiqVhyC6"
      },
      "execution_count": 50,
      "outputs": []
    },
    {
      "cell_type": "code",
      "source": [
        "num_embeddings"
      ],
      "metadata": {
        "colab": {
          "base_uri": "https://localhost:8080/"
        },
        "id": "L12Is55TlkWP",
        "outputId": "5c4a3877-6dbb-4dc1-a822-55782907d53d"
      },
      "execution_count": 55,
      "outputs": [
        {
          "output_type": "execute_result",
          "data": {
            "text/plain": [
              "143"
            ]
          },
          "metadata": {},
          "execution_count": 55
        }
      ]
    },
    {
      "cell_type": "markdown",
      "source": [
        "**Почему количество эмбеддингов должно соответствовать длине словаря?**\n",
        "\n",
        " Либо будет недостаточно информации для представления всех слов или символов, либо будет избыточная информация, что может привести к переобучению модели. Это связано с тем, что каждый уникальный элемент должен иметь свое собственное представление в пространстве эмбеддингов.\n",
        "\n",
        "**В качестве примера пропустим через этот слой первые 5 букв первого текста.**"
      ],
      "metadata": {
        "id": "HZhYKSTHl63O"
      }
    },
    {
      "cell_type": "code",
      "source": [
        "# emb_out - 5 первых символов в виде эмбедингов\n",
        "emb_out = emb(torch.tensor(encode[0][:5]))\n",
        "print(f\"Размер тензора: {emb_out.shape}\\n\")\n",
        "print(emb_out)"
      ],
      "metadata": {
        "colab": {
          "base_uri": "https://localhost:8080/"
        },
        "id": "hC6Y2sNVly4H",
        "outputId": "50537271-7107-4497-fe51-f4c46e28728c"
      },
      "execution_count": 52,
      "outputs": [
        {
          "output_type": "stream",
          "name": "stdout",
          "text": [
            "Размер тензора: torch.Size([5, 32])\n",
            "\n",
            "tensor([[ 2.1419e+00,  6.4880e-01, -5.0542e-01, -9.0028e-02,  3.3631e-01,\n",
            "         -5.3598e-01,  6.6615e-01,  1.0326e+00,  4.0378e-02,  6.9436e-01,\n",
            "         -3.1785e-01,  8.7901e-01, -7.7673e-01,  1.5005e-01,  1.1707e+00,\n",
            "          1.1007e+00, -7.2402e-02,  9.3015e-01,  9.1894e-01, -1.5107e+00,\n",
            "          2.3024e+00,  7.6099e-01, -3.7637e-01, -3.2740e-01, -1.0354e+00,\n",
            "         -2.1420e-01, -4.8397e-01, -8.9674e-01, -1.6555e+00,  8.1808e-01,\n",
            "         -2.8171e-01, -2.5328e-01],\n",
            "        [-1.6618e-02, -4.7833e-01, -2.5751e-01, -9.0939e-01, -6.2905e-01,\n",
            "          1.3572e+00, -1.3073e+00,  1.0538e-01,  4.4951e-01, -1.6170e+00,\n",
            "          1.8275e+00,  7.3720e-01,  1.0262e+00, -1.8211e+00, -9.2707e-01,\n",
            "          2.2508e-03,  9.9562e-02,  1.2520e+00, -8.7406e-01,  2.2867e-01,\n",
            "          1.2801e+00,  5.4227e-03,  1.6581e+00,  7.5354e-01, -2.5530e-01,\n",
            "          1.7971e+00, -9.0090e-01,  1.1381e-01, -9.0234e-01,  1.6030e+00,\n",
            "         -7.5009e-01,  2.5997e-01],\n",
            "        [-6.7106e-01, -5.6086e-01,  1.3757e+00, -1.2345e-01,  9.7187e-01,\n",
            "         -1.1431e+00, -1.0271e+00,  2.6975e-02, -5.9755e-01,  3.5443e-01,\n",
            "         -1.8676e+00, -4.5624e-02,  1.1031e+00,  1.2669e+00, -6.5860e-01,\n",
            "         -2.4635e+00, -8.4019e-01,  2.6705e+00,  5.9070e-02, -1.0713e+00,\n",
            "          1.0189e+00,  2.5982e+00, -9.8011e-01, -1.2784e+00,  1.5663e+00,\n",
            "          7.6040e-01, -4.0629e-02,  1.2784e-01, -1.7625e-01,  1.4485e+00,\n",
            "          5.9354e-01,  1.4534e+00],\n",
            "        [-6.7106e-01, -5.6086e-01,  1.3757e+00, -1.2345e-01,  9.7187e-01,\n",
            "         -1.1431e+00, -1.0271e+00,  2.6975e-02, -5.9755e-01,  3.5443e-01,\n",
            "         -1.8676e+00, -4.5624e-02,  1.1031e+00,  1.2669e+00, -6.5860e-01,\n",
            "         -2.4635e+00, -8.4019e-01,  2.6705e+00,  5.9070e-02, -1.0713e+00,\n",
            "          1.0189e+00,  2.5982e+00, -9.8011e-01, -1.2784e+00,  1.5663e+00,\n",
            "          7.6040e-01, -4.0629e-02,  1.2784e-01, -1.7625e-01,  1.4485e+00,\n",
            "          5.9354e-01,  1.4534e+00],\n",
            "        [-6.7106e-01, -5.6086e-01,  1.3757e+00, -1.2345e-01,  9.7187e-01,\n",
            "         -1.1431e+00, -1.0271e+00,  2.6975e-02, -5.9755e-01,  3.5443e-01,\n",
            "         -1.8676e+00, -4.5624e-02,  1.1031e+00,  1.2669e+00, -6.5860e-01,\n",
            "         -2.4635e+00, -8.4019e-01,  2.6705e+00,  5.9070e-02, -1.0713e+00,\n",
            "          1.0189e+00,  2.5982e+00, -9.8011e-01, -1.2784e+00,  1.5663e+00,\n",
            "          7.6040e-01, -4.0629e-02,  1.2784e-01, -1.7625e-01,  1.4485e+00,\n",
            "          5.9354e-01,  1.4534e+00]], grad_fn=<EmbeddingBackward0>)\n"
          ]
        }
      ]
    },
    {
      "cell_type": "markdown",
      "source": [
        "**Пояснить, почему получен такой размер emb_out?**\n",
        "\n",
        "Размер тензора: torch.Size([5, 32]) получается из того, что эмбеддинги применяются к первым пяти буквам из закодированной последовательности encode.  Каждая из пяти букв была преобразована в вектор размерности 32."
      ],
      "metadata": {
        "id": "O33XFu4dmeQb"
      }
    },
    {
      "cell_type": "markdown",
      "source": [
        "**Создадим ячейку GRU**"
      ],
      "metadata": {
        "id": "IOLAwOPHtkUQ"
      }
    },
    {
      "cell_type": "markdown",
      "source": [
        "**Обратиться к документации к nn.GRU и ответить на вопрос, за что отвечают параметры input_size, hidden_size, num_layers.**\n",
        "\n",
        "input_size - количество ожидаемых функций во входных данных\n",
        "\n",
        "hidden_size - количество объектов в скрытом состоянии\n",
        "\n",
        "num_layers - количество повторяющихся слоев. Например, num_layers=2 будет означать объединение двух GRU вместе для формирования составного GRU, при этом второй GRU принимает выходные данные первого GRU и вычисляет окончательные результаты. По умолчанию: 1"
      ],
      "metadata": {
        "id": "vUg2iTqYtoRt"
      }
    },
    {
      "cell_type": "code",
      "source": [
        "# Определяем ячейку GRU в переменной gru, предварительно задав рамерность скрытого состояния и количество рекуррентных слоев\n",
        "input_size = emb.embedding_dim # вход в GRU должен соответствовать размеру эмбеддинга\n",
        "hidden_size = 60 #<your choice here>\n",
        "num_layers = 2 #<your choice here>\n",
        "gru = nn.GRU(input_size, hidden_size, num_layers)\n",
        "output, h_n = gru(emb_out)\n",
        "print(\"Размер output:\", output.shape)\n",
        "print(\"Размер h_n:\", h_n.shape)"
      ],
      "metadata": {
        "colab": {
          "base_uri": "https://localhost:8080/"
        },
        "id": "DNrWFnIkmZrM",
        "outputId": "35645f16-e638-4ce1-e5fd-6d9903042358"
      },
      "execution_count": 56,
      "outputs": [
        {
          "output_type": "stream",
          "name": "stdout",
          "text": [
            "Размер output: torch.Size([5, 60])\n",
            "Размер h_n: torch.Size([2, 60])\n"
          ]
        }
      ]
    },
    {
      "cell_type": "code",
      "source": [
        "in_features = gru.hidden_size\n",
        "out_features = len(vocab) #предсказываем букву из всего словаря\n",
        "linear = nn.Linear(in_features, out_features) # Определяем линейный слой. Почему заданы такие входные и выходные параметры для него?\n",
        "linear_out = linear(output) # output - выход GRU\n",
        "print(\"Размер выходного слоя из нейросети: \", linear_out.shape)"
      ],
      "metadata": {
        "colab": {
          "base_uri": "https://localhost:8080/"
        },
        "id": "UL3Iq_-xuhUj",
        "outputId": "ce0c059e-1eff-4d19-a72e-7753d038d297"
      },
      "execution_count": 57,
      "outputs": [
        {
          "output_type": "stream",
          "name": "stdout",
          "text": [
            "Размер выходного слоя из нейросети:  torch.Size([5, 143])\n"
          ]
        }
      ]
    },
    {
      "cell_type": "markdown",
      "source": [
        "Входные данные для линейного слоя будут иметь размерность, соответствующую размерности скрытого состояния GRU. Это связано с тем, что выходной результат GRU имеет размерность скрытого состояния.\n"
      ],
      "metadata": {
        "id": "65PUJ3c8vCKx"
      }
    },
    {
      "cell_type": "markdown",
      "source": [
        "**Что содержится в векторе linear_out?**\n",
        "\n",
        "**Определить индекс символа, который наиболее вероятно выдаст ячейка GRU на первом шаге?**"
      ],
      "metadata": {
        "id": "q1T9KPNAyFyj"
      }
    },
    {
      "cell_type": "code",
      "source": [
        "linear_out[0]"
      ],
      "metadata": {
        "colab": {
          "base_uri": "https://localhost:8080/"
        },
        "id": "TLffVoovu1Vg",
        "outputId": "500bfd1a-6d49-47b0-c700-839eecd58395"
      },
      "execution_count": 58,
      "outputs": [
        {
          "output_type": "execute_result",
          "data": {
            "text/plain": [
              "tensor([-0.0043, -0.0007, -0.0362, -0.0159, -0.0071,  0.0002,  0.0509,  0.0627,\n",
              "        -0.0814,  0.0034, -0.0778,  0.0591, -0.0896,  0.0316,  0.1369,  0.0675,\n",
              "        -0.0087, -0.1524, -0.0318, -0.0401, -0.1525,  0.1080, -0.1384, -0.0784,\n",
              "        -0.1758, -0.1205,  0.0855,  0.0579, -0.0992,  0.0493, -0.0738,  0.0235,\n",
              "        -0.0620, -0.0800,  0.1122, -0.0701,  0.0374,  0.0180,  0.1356, -0.1702,\n",
              "         0.0282,  0.0286, -0.1289,  0.1529,  0.0255,  0.0748,  0.1436, -0.0092,\n",
              "         0.0642, -0.0858, -0.0079, -0.0155, -0.0219, -0.0658, -0.1344,  0.1391,\n",
              "         0.0760,  0.0289, -0.1153, -0.0643,  0.0411, -0.0747,  0.1270,  0.0322,\n",
              "        -0.1005,  0.1021,  0.1283,  0.1571, -0.0082,  0.0827, -0.0755, -0.0406,\n",
              "        -0.0879,  0.0803,  0.1369,  0.0102,  0.0591,  0.0874,  0.1204,  0.0193,\n",
              "        -0.0397, -0.0364, -0.0663,  0.1528, -0.1286, -0.0020,  0.1204, -0.1363,\n",
              "         0.0038, -0.0675,  0.0687, -0.1106,  0.0619,  0.0393,  0.0042,  0.0515,\n",
              "        -0.0304,  0.0494, -0.1496, -0.1531, -0.1262, -0.0897, -0.0491,  0.0749,\n",
              "        -0.0590,  0.1347,  0.0715, -0.1184,  0.0808,  0.0547, -0.0933, -0.0065,\n",
              "         0.1047, -0.0367,  0.0046,  0.0309, -0.0579, -0.0349, -0.1031, -0.0710,\n",
              "        -0.1174,  0.1202,  0.0810,  0.1221, -0.0801, -0.0829,  0.0249,  0.0876,\n",
              "         0.0823,  0.0422,  0.0139, -0.0806, -0.0213,  0.1422, -0.0087,  0.1592,\n",
              "         0.0874,  0.0090,  0.0327, -0.0424, -0.0611, -0.0326, -0.0298],\n",
              "       grad_fn=<SelectBackward0>)"
            ]
          },
          "metadata": {},
          "execution_count": 58
        }
      ]
    },
    {
      "cell_type": "code",
      "source": [
        "class CharGRULoop(nn.Module): # Описываем инициализатор класса.\n",
        "    def __init__(self, num_embeddings=52, embedding_dim=16, hidden_size=60, num_layers=2): # В методе __init__ определим архитектуру модели, создав необходимые слои\n",
        "        super(self.__class__, self).__init__()\n",
        "        self.emb = nn.Embedding(num_embeddings, embedding_dim)\n",
        "        self.gru = nn.GRU(embedding_dim, hidden_size, num_layers, batch_first=True)\n",
        "        self.hid_to_logits = nn.Linear(hidden_size, num_embeddings)\n",
        "\n",
        "    def forward(self, x, hid_state): # Здесь описываем структуру сети - как сигнал должен по ней проходить\n",
        "        x = self.emb(x) # Проходим через эмбеддинг-слой\n",
        "        if hid_state is not None: # Проходим через GRU, сохраняя hidden state\n",
        "            h_seq, hid_state = self.gru(x, hid_state)\n",
        "        else:\n",
        "            h_seq, hid_state = self.gru(x)\n",
        "        next_logits = self.hid_to_logits(h_seq) # проходим через полносвязный слой\n",
        "        next_logp = F.log_softmax(next_logits, dim=-1) # Используем функцию softmax\n",
        "        return next_logp, hid_state"
      ],
      "metadata": {
        "id": "gShVDSn-yI7Z"
      },
      "execution_count": 65,
      "outputs": []
    },
    {
      "cell_type": "code",
      "source": [
        "model = CharGRULoop(num_embeddings=len(vocab), embedding_dim=50, hidden_size=186, num_layers=3)\n",
        "#<your choice here> Можно попробовать создать сеть с другими значениями параметров"
      ],
      "metadata": {
        "id": "lC9wFgZ_yLu1"
      },
      "execution_count": 66,
      "outputs": []
    },
    {
      "cell_type": "code",
      "source": [
        "!pip -q install torchinfo"
      ],
      "metadata": {
        "id": "0Njn0ft4ybv7"
      },
      "execution_count": 67,
      "outputs": []
    },
    {
      "cell_type": "code",
      "source": [
        "from torchinfo import summary\n",
        "\n",
        "summary(model)"
      ],
      "metadata": {
        "colab": {
          "base_uri": "https://localhost:8080/"
        },
        "id": "ob-hFrMrylWc",
        "outputId": "bb87ecae-af1f-4af6-d597-8abb55548569"
      },
      "execution_count": 68,
      "outputs": [
        {
          "output_type": "execute_result",
          "data": {
            "text/plain": [
              "=================================================================\n",
              "Layer (type:depth-idx)                   Param #\n",
              "=================================================================\n",
              "CharGRULoop                              --\n",
              "├─Embedding: 1-1                         7,150\n",
              "├─GRU: 1-2                               550,188\n",
              "├─Linear: 1-3                            26,741\n",
              "=================================================================\n",
              "Total params: 584,079\n",
              "Trainable params: 584,079\n",
              "Non-trainable params: 0\n",
              "================================================================="
            ]
          },
          "metadata": {},
          "execution_count": 68
        }
      ]
    },
    {
      "cell_type": "code",
      "source": [
        "def generate_sample(model, char2id, id2char, seed_phrase=' ', strategy=\"greedy\", max_length=100, temperature=1.0):\n",
        "    \"\"\"\n",
        "      model - нейросеть\n",
        "      char2id - словарь преобразования букв в их индексы\n",
        "      id2char - словарь преобразования индексов в буквы\n",
        "      seed_phrase - начальная фраза для генерации\n",
        "      strategy - стратегия генерации (жадная \"greedy\" или сэмплирование \"sample\")\n",
        "      max_length - максимальная длина сгенирированного текста\n",
        "      temperature - ???\n",
        "    \"\"\"\n",
        "\n",
        "    x_sequence = [char2id[token] for token in seed_phrase] # кодируем начальную фразу\n",
        "    x_sequence = torch.tensor([x_sequence], dtype=torch.int64) # создаем тензор\n",
        "    hid_state = None # задаем тензор скрытого состояния h_n, при такой подачи вектор заполнится нулями\n",
        "\n",
        "    with torch.no_grad(): # отключаем подсчет градиентов, поскольку сеть уже обучена и не нужно проводить обратное распространение ошибки\n",
        "      for i in range(len(seed_phrase) - 1): # подаем номер буквы и hid_state в цикле\n",
        "          _, hid_state = model(x_sequence[:, i].unsqueeze(0), hid_state)\n",
        "\n",
        "      # начинаем генерацию\n",
        "      for _ in range(max_length - len(seed_phrase)):\n",
        "\n",
        "          logp_next, hid_state = model(x_sequence[:, -1].unsqueeze(0), hid_state) # подаем последнюю букву из фразы\n",
        "          p_next = F.softmax(logp_next / temperature, dim=-1).data.numpy()[0] # нормируем выходы модели на температуру и применяем софтмакс\n",
        "\n",
        "          if strategy == \"greedy\": next_ix = p_next.argmax() #берем токен с максимальной вероятностью\n",
        "          elif strategy == \"sample\": next_ix = np.random.choice(len(id2char), p=p_next[0]) #получаем следующий токен сэмплированием с вероятностями\n",
        "          else: raise ValueError('Хулиган, не делай так! Выбери \"greedy\" или \"sample\"')\n",
        "\n",
        "          if id2char[next_ix] == \"EOS\": break # если получили токен EOS, то прекращаем генерацию\n",
        "          else:\n",
        "            next_ix = torch.tensor([[next_ix]], dtype=torch.int64) # создаем тензор следующий буквы\n",
        "            x_sequence = torch.cat([x_sequence, next_ix], dim=1) # добавляем предсказанный токен в конец последовательности\n",
        "\n",
        "    return ''.join([id2char[ix] for ix in x_sequence.data.numpy()[0]]) # возвращаем декодированную строку"
      ],
      "metadata": {
        "id": "t0eNQFBryoa-"
      },
      "execution_count": 74,
      "outputs": []
    },
    {
      "cell_type": "markdown",
      "source": [
        "**Выполните следующую ячейку несколько раз с одной и той же SEED_PHRASE, запомните выводы модели и объясните результат - чем отличается стратегия greedy от sample?**"
      ],
      "metadata": {
        "id": "UeL66D0gzCO_"
      }
    },
    {
      "cell_type": "code",
      "source": [
        "SEED_PHRASE = 'я люблю сырники!\\n' # Ну или что-то другое\n",
        "print(generate_sample(model, char2id, id2char, seed_phrase=SEED_PHRASE, strategy=\"greedy\", max_length=100))\n",
        "print()\n",
        "print(generate_sample(model, char2id, id2char, seed_phrase=SEED_PHRASE, strategy=\"sample\", max_length=100))"
      ],
      "metadata": {
        "colab": {
          "base_uri": "https://localhost:8080/"
        },
        "id": "s8WDxJ3-y82Y",
        "outputId": "e8ed733e-a76f-486b-b365-abd3ad5f282d"
      },
      "execution_count": 71,
      "outputs": [
        {
          "output_type": "stream",
          "name": "stdout",
          "text": [
            "я люблю сырники!\n",
            "ццццццццццццццццццццццццццццццццццццццццццццццццццццццццццццццццццццццццццццццццццц\n",
            "\n",
            "я люблю сырники!\n",
            "QшV:k\n"
          ]
        }
      ]
    },
    {
      "cell_type": "markdown",
      "source": [
        "**Greedy** - для выбора следующего символа в тексте выбирается символ с наибольшей вероятностью, предсказанной моделью. Т.о., каждый следующий символ выбирается как наиболее вероятный, основываясь только на предсказаниях модели. Обычно приводит к четким и определенным текстам.\n",
        "\n",
        "**Sample** - для выбора следующего символа используется случайный выбор с учетом вероятностей, предсказанных моделью. Эта стратегия приводит к более разнообразным и меньше предсказуемым текстам."
      ],
      "metadata": {
        "id": "Iq2qSGpC0leL"
      }
    },
    {
      "cell_type": "code",
      "source": [
        "from sklearn.model_selection import train_test_split\n",
        "\n",
        "batch = 128 # Тексты, для уменьшения накладных расходов, будем подавать на вход модели \"батчами\" - блоками по 128 документов\n",
        "\n",
        "train, test = train_test_split(data, test_size=0.2, random_state=42, shuffle=True)\n",
        "\n",
        "dataset_train = TensorDataset(torch.tensor(to_matrix(train, char2id, max_len=MAXLEN)))\n",
        "dataloader_train = DataLoader(dataset_train, batch_size=batch, shuffle=True)\n",
        "\n",
        "dataset_test = TensorDataset(torch.tensor(to_matrix(test, char2id, max_len=MAXLEN)))\n",
        "dataloader_test = DataLoader(dataset_test, batch_size=batch, shuffle=False)"
      ],
      "metadata": {
        "id": "gtutkxgyzmTp"
      },
      "execution_count": 72,
      "outputs": []
    },
    {
      "cell_type": "code",
      "source": [
        "model = CharGRULoop(num_embeddings=len(vocab), embedding_dim=64, hidden_size=256, num_layers=3)\n",
        "optimizer = torch.optim.Adam(model.parameters(), lr=0.001)\n",
        "loss_fn = nn.NLLLoss(ignore_index=char2id[\"PAD\"])\n",
        "# Функция потерь - negative log likelihood loss (NLL Loss) - используеся для задачи многоклассовой классификации в ситуации, когда имеются логарифмы вероятностей каждого класса\n",
        "# NLL Loss эквивалентен CrossEntropyLoss, но применяется к логарифмам вероятностей - у нас на выходе линейного слоя как раз исопользуется функция softmax\n",
        "\n",
        "summary(model)"
      ],
      "metadata": {
        "colab": {
          "base_uri": "https://localhost:8080/"
        },
        "id": "ws_XgF1H1aWV",
        "outputId": "be864cf0-c1f2-4c67-8d61-08cb23d9fb32"
      },
      "execution_count": 73,
      "outputs": [
        {
          "output_type": "execute_result",
          "data": {
            "text/plain": [
              "=================================================================\n",
              "Layer (type:depth-idx)                   Param #\n",
              "=================================================================\n",
              "CharGRULoop                              --\n",
              "├─Embedding: 1-1                         9,152\n",
              "├─GRU: 1-2                               1,036,800\n",
              "├─Linear: 1-3                            36,751\n",
              "=================================================================\n",
              "Total params: 1,082,703\n",
              "Trainable params: 1,082,703\n",
              "Non-trainable params: 0\n",
              "================================================================="
            ]
          },
          "metadata": {},
          "execution_count": 73
        }
      ]
    },
    {
      "cell_type": "code",
      "source": [],
      "metadata": {
        "id": "F4R1bRAx1cOA"
      },
      "execution_count": 74,
      "outputs": []
    }
  ]
}