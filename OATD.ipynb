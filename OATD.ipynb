{
  "cells": [
    {
      "cell_type": "markdown",
      "metadata": {
        "id": "view-in-github",
        "colab_type": "text"
      },
      "source": [
        "<a href=\"https://colab.research.google.com/github/DvoryadkinaDV/Using-neural-networks-to-generate-text/blob/main/OATD.ipynb\" target=\"_parent\"><img src=\"https://colab.research.google.com/assets/colab-badge.svg\" alt=\"Open In Colab\"/></a>"
      ]
    },
    {
      "cell_type": "markdown",
      "metadata": {
        "id": "8Y71TZjvB2AE"
      },
      "source": [
        "# Дворядкина Отчет ЛР4"
      ]
    },
    {
      "cell_type": "markdown",
      "metadata": {
        "id": "vG8t-l7iCTUq"
      },
      "source": [
        "###Импорт библиотек"
      ]
    },
    {
      "cell_type": "code",
      "execution_count": 1,
      "metadata": {
        "id": "S_2v5OuOBJh_"
      },
      "outputs": [],
      "source": [
        "import copy\n",
        "import torch\n",
        "import numpy as np\n",
        "import torch.nn as nn\n",
        "import torch.nn.functional as F\n",
        "import matplotlib.pyplot as plt\n",
        "\n",
        "\n",
        "from random import sample\n",
        "from IPython.display import clear_output\n",
        "from torch.utils.data import DataLoader, TensorDataset"
      ]
    },
    {
      "cell_type": "code",
      "execution_count": 2,
      "metadata": {
        "colab": {
          "base_uri": "https://localhost:8080/"
        },
        "id": "21bHAqeUCsv3",
        "outputId": "e0b457e4-1f5d-419e-a81c-117b76fae7ad"
      },
      "outputs": [
        {
          "output_type": "execute_result",
          "data": {
            "text/plain": [
              "True"
            ]
          },
          "metadata": {},
          "execution_count": 2
        }
      ],
      "source": [
        "torch.cuda.is_available()"
      ]
    },
    {
      "cell_type": "markdown",
      "metadata": {
        "id": "BA0kZ_59C_Zs"
      },
      "source": [
        "###Загрузим данные"
      ]
    },
    {
      "cell_type": "code",
      "execution_count": 3,
      "metadata": {
        "colab": {
          "base_uri": "https://localhost:8080/"
        },
        "id": "PD-wkns_C7pw",
        "outputId": "a81fdab4-d570-4d2d-ccb2-d3416aee3157"
      },
      "outputs": [
        {
          "output_type": "stream",
          "name": "stdout",
          "text": [
            "--2024-04-18 07:40:13--  http://uit.mpei.ru/git/main/TDA/raw/branch/master/assets/poems/pushkin.txt\n",
            "Resolving uit.mpei.ru (uit.mpei.ru)... 193.233.68.149\n",
            "Connecting to uit.mpei.ru (uit.mpei.ru)|193.233.68.149|:80... connected.\n",
            "HTTP request sent, awaiting response... 200 OK\n",
            "Length: 1048627 (1.0M) [text/plain]\n",
            "Saving to: ‘poems.txt’\n",
            "\n",
            "poems.txt           100%[===================>]   1.00M  1.22MB/s    in 0.8s    \n",
            "\n",
            "2024-04-18 07:40:14 (1.22 MB/s) - ‘poems.txt’ saved [1048627/1048627]\n",
            "\n"
          ]
        }
      ],
      "source": [
        "!wget -O poems.txt http://uit.mpei.ru/git/main/TDA/raw/branch/master/assets/poems/pushkin.txt"
      ]
    },
    {
      "cell_type": "code",
      "execution_count": 4,
      "metadata": {
        "colab": {
          "base_uri": "https://localhost:8080/"
        },
        "id": "i9EIiDUuDJUa",
        "outputId": "84883c30-ad6d-40eb-be43-b8c7a8d76d48"
      },
      "outputs": [
        {
          "output_type": "stream",
          "name": "stdout",
          "text": [
            "Количество стихов: 720\n",
            "\n",
            "Пример стиха:\n",
            "\n",
            "Возможно ль? вместо роз, Амуром насажденных,\n",
            "Тюльпанов гордо наклоненных,\n",
            "Душистых ландышей, ясминов и лилей,\n",
            "Которых ты всегда любила\n",
            "И прежде всякой день носила\n",
            "На мраморной груди твоей —\n",
            "Возможно ль, милая Климена,\n",
            "Какая странная во вкусе перемена!..\n",
            "Ты любишь обонять не утренний цветок,\n",
            "А вредную траву зелену,\n",
            "Искусством превращенну\n",
            "В пушистый порошок! —\n",
            "Пускай уже седой профессор Геттингена,\n",
            "На старой кафедре согнувшися дугой,\n",
            "Вперив в латинщину глубокой разум свой,\n",
            "Раскашлявшись, табак толченый\n",
            "Пихает в длинный нос иссохшею рукой;\n",
            "Пускай младой драгун усатый\n",
            "Поутру, сидя у окна,\n",
            "С остатком утреннего сна,\n",
            "Из трубки пенковой дым гонит сероватый;\n",
            "Пускай красавица шестидесяти лет,\n",
            "У Граций в отпуску, и у любви в отставке,\n",
            "Которой держится вся прелесть на подставке,\n",
            "Которой без морщин на теле места нет,\n",
            "Злословит, молится, зевает\n",
            "И с верным табаком печали забывает, —\n",
            "А ты, прелестная!.. но если уж табак\n",
            "Так нравится тебе – о пыл воображенья! —\n",
            "Ах! если, превращенный в прах,\n",
            "И в табакерке, в заточеньи,\n",
            "Я в персты нежные твои попасться мог,\n",
            "Тогда б в сердечном восхищеньи\n",
            "Рассыпался на грудь под шелковый платок\n",
            "И даже… может быть… Но что! мечта пустая.\n",
            "Не будет этого никак.\n",
            "Судьба завистливая, злая!\n",
            "Ах, отчего я не табак!..\n",
            "\n",
            "\n"
          ]
        }
      ],
      "source": [
        "# Загружаем текст из файла.\n",
        "# Стихотворения в файле разделены токеном '</s>'\n",
        "\n",
        "with open(\"poems.txt\") as file:\n",
        "  data = file.read().split(\"</s>\\n\\n\")\n",
        "print(f\"Количество стихов: {len(data)}\\n\", f\"Пример стиха:\\n\\n{data[10]}\",  sep=\"\\n\")"
      ]
    },
    {
      "cell_type": "markdown",
      "metadata": {
        "id": "UXO8ZgO7HspH"
      },
      "source": [
        "###Подготовка данных и сводные статистики"
      ]
    },
    {
      "cell_type": "code",
      "execution_count": 5,
      "metadata": {
        "colab": {
          "base_uri": "https://localhost:8080/"
        },
        "id": "UXWcW7_CDO89",
        "outputId": "cb4f3051-bee0-47de-aaee-0bdefed002c1"
      },
      "outputs": [
        {
          "output_type": "stream",
          "name": "stdout",
          "text": [
            "Количество уникальных символов: 143\n",
            "{0: 'PAD', 1: 'EOS', 2: 'V', 3: 'н', 4: 'Г', 5: 'T', 6: '\"', 7: 'Р', 8: 'x', 9: 'ç', 10: 'Т', 11: 'P', 12: 'e', 13: '(', 14: 'В', 15: \"'\", 16: 'д', 17: 'y', 18: 'r', 19: 'o', 20: 'f', 21: 'H', 22: '–', 23: 'g', 24: 'Й', 25: '!', 26: '<', 27: 'F', 28: ';', 29: 'Ф', 30: 'ф', 31: ' ', 32: 't', 33: 'S', 34: 'б', 35: 'è', 36: '„', 37: 'â', 38: 'м', 39: 'Л', 40: 'ô', 41: 'l', 42: 'i', 43: 'Ч', 44: 'Ю', 45: 'х', 46: 'М', 47: 'n', 48: 'b', 49: 'ч', 50: 'Э', 51: 'в', 52: 'ъ', 53: 'э', 54: ')', 55: 'А', 56: 'Ш', 57: 'p', 58: 'B', 59: 'U', 60: 'd', 61: 'з', 62: 'к', 63: 'ь', 64: 'Д', 65: 'и', 66: '\\xa0', 67: 'j', 68: '?', 69: 'm', 70: 'Щ', 71: 'J', 72: 'п', 73: 'ж', 74: 'ш', 75: 'h', 76: 'К', 77: 'ё', 78: '—', 79: 'u', 80: 'M', 81: '»', 82: 'л', 83: 'v', 84: '*', 85: 'D', 86: 'З', 87: 'г', 88: 's', 89: 'R', 90: '>', 91: 'à', 92: 'O', 93: 'р', 94: 'ц', 95: 'Я', 96: 'И', 97: 'Н', 98: 'о', 99: 'I', 100: 'ю', 101: '\\n', 102: 'а', 103: 'У', 104: 'Ж', 105: 'z', 106: 'c', 107: 'Q', 108: 'Z', 109: '_', 110: 'ê', 111: 'A', 112: 'N', 113: '«', 114: 'û', 115: 'у', 116: 'щ', 117: 'е', 118: '…', 119: 'О', 120: 'a', 121: 'Е', 122: 'ы', 123: 'с', 124: 'Х', 125: 'С', 126: 'L', 127: 'é', 128: 'C', 129: 'я', 130: 'Б', 131: 'W', 132: 'E', 133: 'т', 134: 'k', 135: '-', 136: 'й', 137: ':', 138: 'П', 139: 'q', 140: '.', 141: 'Ц', 142: ','}\n"
          ]
        }
      ],
      "source": [
        "# Составляем словарь уникальных токенов\n",
        "vocab = [\"PAD\", \"EOS\",] + list(set(\"\".join(data))) #список уникальных символов.\n",
        "\n",
        "# Формируем два словаря, реализующие перевод символов в их индексы и обратно\n",
        "id2char = dict(enumerate(vocab)) #словарь индексов в символы\n",
        "char2id = {char: ind for ind, char in id2char.items()} #словарь символов в индексы\n",
        "print(f\"Количество уникальных символов: {len(vocab)}\", id2char, sep=\"\\n\")"
      ]
    },
    {
      "cell_type": "code",
      "execution_count": 6,
      "metadata": {
        "colab": {
          "base_uri": "https://localhost:8080/"
        },
        "id": "cKUAaBeRHyaG",
        "outputId": "74cbd490-5214-4caf-ace2-69a163f86750"
      },
      "outputs": [
        {
          "output_type": "stream",
          "name": "stdout",
          "text": [
            "Максимальная длина текста:  8948\n"
          ]
        }
      ],
      "source": [
        "lengths = list(map(len, data))\n",
        "print(\"Максимальная длина текста: \", max(lengths))"
      ]
    },
    {
      "cell_type": "code",
      "execution_count": 7,
      "metadata": {
        "colab": {
          "base_uri": "https://localhost:8080/",
          "height": 564
        },
        "id": "z_5HS2atIBLj",
        "outputId": "33f8f710-32d1-46f0-abe1-85855e5fc117"
      },
      "outputs": [
        {
          "output_type": "display_data",
          "data": {
            "text/plain": [
              "<Figure size 1400x600 with 1 Axes>"
            ],
            "image/png": "[encoded data removed]"
          },
          "metadata": {}
        }
      ],
      "source": [
        "plt.rcParams[\"figure.figsize\"] = (14, 6)\n",
        "plt.hist(lengths, bins=30, range=[0, 6000])\n",
        "plt.xlabel(\"Длина текста в символах\")\n",
        "plt.title(\"Гистограмма длин текстов\")\n",
        "plt.grid()"
      ]
    },
    {
      "cell_type": "code",
      "execution_count": 8,
      "metadata": {
        "colab": {
          "base_uri": "https://localhost:8080/"
        },
        "id": "IIKZES1iIMIo",
        "outputId": "fcf31c23-c70a-4ea8-84c1-9a03edacd8b2"
      },
      "outputs": [
        {
          "output_type": "stream",
          "name": "stdout",
          "text": [
            "Средняя длина 808.9125\n",
            "Медиана длины 453.5\n",
            "Мода длины 221\n"
          ]
        }
      ],
      "source": [
        "lengths = np.array(lengths)\n",
        "print(\"Средняя длина\", np.mean(lengths))\n",
        "print(\"Медиана длины\", np.median(lengths))\n",
        "print(\"Мода длины\", np.bincount(lengths).argmax())"
      ]
    },
    {
      "cell_type": "markdown",
      "metadata": {
        "id": "Tr0dU9DTZ4If"
      },
      "source": [
        "Где можно будет использовать знание о параметрах распределения длин в выборке?"
      ]
    },
    {
      "cell_type": "code",
      "execution_count": 9,
      "metadata": {
        "id": "vWSy3Xf4IcxP"
      },
      "outputs": [],
      "source": [
        "# Устанавливаем, сколько символов будет генерировать модель (максимальная длина генерируемого текста)\n",
        "MAXLEN = 500"
      ]
    },
    {
      "cell_type": "markdown",
      "metadata": {
        "id": "e1HAy2YjaDgD"
      },
      "source": [
        "###Преобразование данных"
      ]
    },
    {
      "cell_type": "code",
      "execution_count": 10,
      "metadata": {
        "id": "Thn8i8XsaBjl"
      },
      "outputs": [],
      "source": [
        "line_ix = [char2id[c] for c in data[5][:500]]"
      ]
    },
    {
      "cell_type": "code",
      "execution_count": 11,
      "metadata": {
        "id": "gx63qHupaK6O"
      },
      "outputs": [],
      "source": [
        "data_ix = np.zeros([len(data[5]), 500], 'int64')\n",
        "data_ix[5, :len(line_ix)] = line_ix"
      ]
    },
    {
      "cell_type": "code",
      "execution_count": 12,
      "metadata": {
        "colab": {
          "base_uri": "https://localhost:8080/"
        },
        "id": "BRR8trxtaNE2",
        "outputId": "3def79e4-32a3-46b7-9ae2-65cff4f4aa18"
      },
      "outputs": [
        {
          "output_type": "stream",
          "name": "stdout",
          "text": [
            "[0 0 0 ... 0 0 0]\n"
          ]
        }
      ],
      "source": [
        "data_ix= np.transpose(data_ix)\n",
        "print(data_ix[5])"
      ]
    },
    {
      "cell_type": "code",
      "execution_count": 13,
      "metadata": {
        "id": "lYp-bm8zaOg7"
      },
      "outputs": [],
      "source": [
        "def to_matrix(data, char2id, max_len=None, dtype='int64', batch_first = True):\n",
        "\n",
        "    max_len = max_len if max_len else max(map(len, data))\n",
        "    data = [text[:max_len] for text in data]\n",
        "    data_ix = np.zeros([len(data), max_len+1], dtype)\n",
        "\n",
        "    for i in range(len(data)):\n",
        "        line_ix = [char2id[c] for c in data[i][:max_len]] + [char2id[\"EOS\"]]\n",
        "        data_ix[i, :len(line_ix)] = line_ix\n",
        "\n",
        "    if not batch_first: # convert [batch, time] into [time, batch]\n",
        "        data_ix = np.transpose(data_ix)\n",
        "\n",
        "    return data_ix"
      ]
    },
    {
      "cell_type": "code",
      "execution_count": 14,
      "metadata": {
        "colab": {
          "base_uri": "https://localhost:8080/"
        },
        "id": "tDnimxTFaRsq",
        "outputId": "4cf530c1-1e68-4976-d422-6b8a43edfda6"
      },
      "outputs": [
        {
          "output_type": "stream",
          "name": "stdout",
          "text": [
            "Исходный текст:\n",
            " Так и мне узнать случилось,\n",
            "Что за птица Купидон;\n",
            "Сердце страстное пленилось;\n",
            "Признаюсь – и я влюблен!\n",
            "Пролетело счастья время,\n",
            "Как, любви не зная бремя,\n",
            "Я живал да попевал,\n",
            "Как в театре и на балах,\n",
            "На гуляньях иль в воксалах\n",
            "Легким зефиром летал;\n",
            "Как, смеясь во зло Амуру,\n",
            "Я писал карикатуру\n",
            "На любезный женской пол;\n",
            "Но напрасно я смеялся,\n",
            "Наконец и сам попался,\n",
            "Сам, увы! с ума сошел.\n",
            "Смехи, вольность – всё под лавку\n",
            "Из Катонов я в отставку,\n",
            "И теперь я – Селадон!\n",
            "Миловидной жрицы Тальи\n",
            "Видел прелести Натальи,\n",
            "И уж в сердце – Купидон!\n",
            "\n",
            "Так, Наталья! признаюся,\n",
            "Я тобою полонен,\n",
            "В первый раз еще, стыжуся,\n",
            "В женски прелести влюблен.\n",
            "Целый день, как ни верчуся\n",
            "Лишь тобою занят я;\n",
            "Ночь придет – и лишь тебя\n",
            "Вижу я в пустом мечтаньи,\n",
            "Вижу, в легком одеяньи\n",
            "Будто милая со мной;\n",
            "Робко, сладостно дыханье,\n",
            "Белой груди колебанье,\n",
            "Снег затмивший белизной,\n",
            "И полуотверсты очи,\n",
            "Скромный мрак безмолвной ночи —\n",
            "Дух в восторг приводят мой!..\n",
            "Я один в беседке с нею,\n",
            "Вижу… девственну лилею,\n",
            "Трепещу, томлюсь, немею…\n",
            "И проснулся… вижу мрак\n",
            "Вкруг постели одинокой!\n",
            "Испускаю вздох глубокой,\n",
            "Сон ленивый, томноокой\n",
            "Отлетает на крылах.\n",
            "Страсть сильнее становится\n",
            "И, любовью утомясь,\n",
            "Я слабею всякой час.\n",
            "Всё к чему-то ум стремится,\n",
            "А к чему? – никто из нас\n",
            "Дамам в слух того не скажет,\n",
            "А уж так и сяк размажет.\n",
            "Я – по-свойски объяснюсь.\n",
            "\n",
            "Все любовники желают\n",
            "И того, чего не знают;\n",
            "Это свойство их – дивлюсь!\n",
            "Завернувшись балахоном,\n",
            "С хватской шапкой на бекрень\n",
            "Я желал бы Филимоном\n",
            "Под вечер, как всюду тень,\n",
            "Взяв Анюты нежну руку,\n",
            "Изъяснять любовну муку,\n",
            "Говорить: она моя!\n",
            "Я желал бы, чтоб Назорой\n",
            "Ты старалася меня\n",
            "Удержать умильным взором.\n",
            "Иль седым Опекуном\n",
            "Легкой, миленькой Розины,\n",
            "Старым пасынком судьбины,\n",
            "В епанче и с париком,\n",
            "Дерзкой пламенной рукою\n",
            "Белоснежну, полну грудь…\n",
            "Я желал бы… да ногою\n",
            "Моря не перешагнуть.\n",
            "И, хоть по уши влюбленный,\n",
            "Но с тобою разлученный,\n",
            "Всей надежды я лишен.\n",
            "\n",
            "Но, Наталья! ты не знаешь\n",
            "Кто твой нежный Селадон,\n",
            "Ты еще не понимаешь,\n",
            "Отчего не смеет он\n",
            "И надеяться? – Наталья!\n",
            "Выслушай еще меня:\n",
            "\n",
            "Не владетель я Сераля,\n",
            "Не арап, не турок я.\n",
            "За учтивого китайца,\n",
            "Грубого американца\n",
            "Почитать меня нельзя,\n",
            "Не представь и немчурою,\n",
            "С колпаком на волосах,\n",
            "С кружкой, пивом налитою,\n",
            "И с цыгаркою в зубах.\n",
            "Не представь кавалергарда\n",
            "В каске, с длинным палашом.\n",
            "Не люблю я бранный гром:\n",
            "Шпага, сабля, алебарда\n",
            "Не тягчат моей руки\n",
            "За Адамовы грехи.\n",
            "\n",
            "– Кто же ты, болтун влюбленный?\n",
            "Взглянь на стены возвышенны,\n",
            "Где безмолвья вечный мрак;\n",
            "Взглянь на окны загражденны,\n",
            "На лампады там зажженны…\n",
            "Знай, Наталья! – я… монах!\n",
            "\n",
            "\n",
            "Преобразованный текст:\n",
            " [ 10 102  62  31  65  31  38   3 117  31 115  61   3 102 133  63  31 123\n",
            "  82 115  49  65  82  98 123  63 142 101  43 133  98  31  61 102  31  72\n",
            " 133  65  94 102  31  76 115  72  65  16  98   3  28 101 125 117  93  16\n",
            "  94 117  31 123 133  93 102 123 133   3  98 117  31  72  82 117   3  65\n",
            "  82  98 123  63  28 101 138  93  65  61   3 102 100 123  63  31  22  31\n",
            "  65  31 129  31  51  82 100  34  82 117   3  25 101 138  93  98  82 117\n",
            " 133 117  82  98  31 123  49 102 123 133  63 129  31  51  93 117  38 129\n",
            " 142 101  76 102  62 142  31  82 100  34  51  65  31   3 117  31  61   3\n",
            " 102 129  31  34  93 117  38 129 142 101  95  31  73  65  51 102  82  31\n",
            "  16 102  31  72  98  72 117  51 102  82 142 101  76 102  62  31  51  31\n",
            " 133 117 102 133  93 117  31  65  31   3 102  31  34 102  82 102  45 142\n",
            " 101  97 102  31  87 115  82 129   3  63 129  45  31  65  82  63  31  51\n",
            "  31  51  98  62 123 102  82 102  45 101  39 117  87  62  65  38  31  61\n",
            " 117  30  65  93  98  38  31  82 117 133 102  82  28 101  76 102  62 142\n",
            "  31 123  38 117 129 123  63  31  51  98  31  61  82  98  31  55  38 115\n",
            "  93 115 142 101  95  31  72  65 123 102  82  31  62 102  93  65  62 102\n",
            " 133 115  93 115 101  97 102  31  82 100  34 117  61   3 122 136  31  73\n",
            " 117   3 123  62  98 136  31  72  98  82  28 101  97  98  31   3 102  72\n",
            "  93 102 123   3  98  31 129  31 123  38 117 129  82 123 129 142 101  97\n",
            " 102  62  98   3 117  94  31  65  31 123 102  38  31  72  98  72 102  82\n",
            " 123 129 142 101 125 102  38 142  31 115  51 122  25  31 123  31 115  38\n",
            " 102  31 123  98  74 117  82 140 101 125  38 117  45  65 142  31  51  98\n",
            "  82  63   3  98 123 133  63  31  22  31  51 123  77  31  72  98  16  31\n",
            "  82 102  51  62 115 101  96  61  31  76 102 133  98   3  98  51  31 129\n",
            "  31  51  31  98 133 123 133 102  51  62 115 142 101  96  31 133 117  72\n",
            " 117  93  63  31 129  31  22  31 125 117  82 102  16  98   3  25 101  46\n",
            "  65  82  98  51  65  16   3  98 136  31  73  93  65  94 122  31  10 102\n",
            "  82  63  65 101  14  65  16 117  82  31  72  93 117  82   1]\n"
          ]
        }
      ],
      "source": [
        "# Проверяем работу функции - кодируем один из текстов и смотрим как он выглядит в кодированном виде\n",
        "encode = to_matrix(data[:1], char2id, MAXLEN)\n",
        "print(\"Исходный текст:\\n\", data[0])\n",
        "print(\"Преобразованный текст:\\n\", encode[0])"
      ]
    },
    {
      "cell_type": "markdown",
      "metadata": {
        "id": "wg8r4ZiyaiXj"
      },
      "source": [
        "**Пояснить, что хранится в переменной encode.**\n",
        "\n",
        "Переменная encode - вызывает функцию to_matrix для кодирования первого текста из списка data, используя словарь char2id, каждый символ текста заменяется на соответствующий ему числовой индекс из словаря char2id, и длина каждой строки задается максимальной длиной последовательности MAXLEN.\n",
        "\n",
        "\n",
        "**Как будет выглядеть ваша фамилия в кодированном виде?**"
      ]
    },
    {
      "cell_type": "code",
      "execution_count": 15,
      "metadata": {
        "colab": {
          "base_uri": "https://localhost:8080/"
        },
        "id": "zs3sqmfoaUsZ",
        "outputId": "1653004a-cea3-4287-ed73-e49b4cad3550"
      },
      "outputs": [
        {
          "output_type": "stream",
          "name": "stdout",
          "text": [
            "Исходный текст:\n",
            " Dvoryadkina\n",
            "Преобразованный текст:\n",
            " [[ 85   1   0   0   0   0]\n",
            " [ 83   1   0   0   0   0]\n",
            " [ 19   1   0   0   0   0]\n",
            " [ 18   1   0   0   0   0]\n",
            " [ 17   1   0   0   0   0]\n",
            " [120   1   0   0   0   0]\n",
            " [ 60   1   0   0   0   0]\n",
            " [134   1   0   0   0   0]\n",
            " [ 42   1   0   0   0   0]\n",
            " [ 47   1   0   0   0   0]\n",
            " [120   1   0   0   0   0]]\n"
          ]
        }
      ],
      "source": [
        "name = 'Dvoryadkina'\n",
        "encode = to_matrix(name, char2id, 5)\n",
        "print(\"Исходный текст:\\n\", name)\n",
        "print(\"Преобразованный текст:\\n\", encode)"
      ]
    },
    {
      "cell_type": "markdown",
      "metadata": {
        "id": "W5x-SCoblY5Z"
      },
      "source": [
        "###Подготовка нейросети"
      ]
    },
    {
      "cell_type": "code",
      "execution_count": 16,
      "metadata": {
        "id": "epM1IiqVhyC6"
      },
      "outputs": [],
      "source": [
        "num_embeddings = len(vocab) #количество эмбеддингов должно соответствовать длине словаря\n",
        "embedding_dim = 32 #определяется размерность эмбеддинга\n",
        "emb = nn.Embedding(num_embeddings, embedding_dim) # Определяем объект emb как слой эмбеддингов заданного размера"
      ]
    },
    {
      "cell_type": "code",
      "execution_count": 17,
      "metadata": {
        "colab": {
          "base_uri": "https://localhost:8080/"
        },
        "id": "L12Is55TlkWP",
        "outputId": "2bcf1526-c8cd-4c07-f0d2-8b5712c3d419"
      },
      "outputs": [
        {
          "output_type": "execute_result",
          "data": {
            "text/plain": [
              "143"
            ]
          },
          "metadata": {},
          "execution_count": 17
        }
      ],
      "source": [
        "num_embeddings"
      ]
    },
    {
      "cell_type": "markdown",
      "metadata": {
        "id": "HZhYKSTHl63O"
      },
      "source": [
        "**Почему количество эмбеддингов должно соответствовать длине словаря?**\n",
        "\n",
        " Либо будет недостаточно информации для представления всех слов или символов, либо будет избыточная информация, что может привести к переобучению модели. Это связано с тем, что каждый уникальный элемент должен иметь свое собственное представление в пространстве эмбеддингов.\n",
        "\n",
        "**В качестве примера пропустим через этот слой первые 5 букв первого текста.**"
      ]
    },
    {
      "cell_type": "code",
      "execution_count": 18,
      "metadata": {
        "colab": {
          "base_uri": "https://localhost:8080/"
        },
        "id": "hC6Y2sNVly4H",
        "outputId": "8cae7e53-fd55-4aab-aa4e-0dc6aac8aeb5"
      },
      "outputs": [
        {
          "output_type": "stream",
          "name": "stdout",
          "text": [
            "Размер тензора: torch.Size([5, 32])\n",
            "\n",
            "tensor([[ 0.1002,  0.7935,  0.3133, -0.4476,  0.0514, -0.5517, -0.4508, -1.2050,\n",
            "          0.8082,  0.5026, -0.1521,  0.5414,  1.3278, -0.2600,  0.5115, -0.1955,\n",
            "         -1.6218, -1.3142, -1.0890, -0.5827,  1.3585, -1.2275,  0.9571,  1.1837,\n",
            "         -1.0776,  0.9563, -1.5663, -0.1934, -0.2552, -0.5141,  0.4714, -1.0009],\n",
            "        [ 0.5107,  0.7104, -1.1304, -0.8029, -1.3066,  2.1312, -0.0852,  0.2330,\n",
            "          0.2069,  0.0565,  1.5922, -0.2661, -1.2324, -0.1144,  1.4216,  0.6076,\n",
            "          0.2900,  0.5239,  0.3581,  0.1410, -0.8366, -1.4822, -0.2475,  0.2019,\n",
            "         -0.3391,  2.3931,  1.5239, -0.1627, -0.9418,  0.1005,  0.2718, -1.4765],\n",
            "        [ 0.9270,  0.0563, -1.2261, -1.6572, -1.3818, -0.6438,  1.5610,  0.8573,\n",
            "         -1.8048,  0.4159, -0.1240, -0.5083,  1.2732,  0.3260,  2.0373, -1.0383,\n",
            "         -1.1057,  0.5837,  0.9239, -0.3680,  0.8349, -1.4553, -1.3847,  0.3467,\n",
            "         -1.1813,  0.7868,  0.1835, -0.8935,  0.5798, -1.3417, -0.1769,  0.0654],\n",
            "        [ 0.9270,  0.0563, -1.2261, -1.6572, -1.3818, -0.6438,  1.5610,  0.8573,\n",
            "         -1.8048,  0.4159, -0.1240, -0.5083,  1.2732,  0.3260,  2.0373, -1.0383,\n",
            "         -1.1057,  0.5837,  0.9239, -0.3680,  0.8349, -1.4553, -1.3847,  0.3467,\n",
            "         -1.1813,  0.7868,  0.1835, -0.8935,  0.5798, -1.3417, -0.1769,  0.0654],\n",
            "        [ 0.9270,  0.0563, -1.2261, -1.6572, -1.3818, -0.6438,  1.5610,  0.8573,\n",
            "         -1.8048,  0.4159, -0.1240, -0.5083,  1.2732,  0.3260,  2.0373, -1.0383,\n",
            "         -1.1057,  0.5837,  0.9239, -0.3680,  0.8349, -1.4553, -1.3847,  0.3467,\n",
            "         -1.1813,  0.7868,  0.1835, -0.8935,  0.5798, -1.3417, -0.1769,  0.0654]],\n",
            "       grad_fn=<EmbeddingBackward0>)\n"
          ]
        }
      ],
      "source": [
        "# emb_out - 5 первых символов в виде эмбедингов\n",
        "emb_out = emb(torch.tensor(encode[0][:5]))\n",
        "print(f\"Размер тензора: {emb_out.shape}\\n\")\n",
        "print(emb_out)"
      ]
    },
    {
      "cell_type": "markdown",
      "metadata": {
        "id": "O33XFu4dmeQb"
      },
      "source": [
        "**Пояснить, почему получен такой размер emb_out?**\n",
        "\n",
        "Размер тензора: torch.Size([5, 32]) получается из того, что эмбеддинги применяются к первым пяти буквам из закодированной последовательности encode.  Каждая из пяти букв была преобразована в вектор размерности 32."
      ]
    },
    {
      "cell_type": "markdown",
      "metadata": {
        "id": "IOLAwOPHtkUQ"
      },
      "source": [
        "###Создадим ячейку GRU"
      ]
    },
    {
      "cell_type": "markdown",
      "metadata": {
        "id": "vUg2iTqYtoRt"
      },
      "source": [
        "**Обратиться к документации к nn.GRU и ответить на вопрос, за что отвечают параметры input_size, hidden_size, num_layers.**\n",
        "\n",
        "input_size - количество ожидаемых функций во входных данных\n",
        "\n",
        "hidden_size - количество объектов в скрытом состоянии\n",
        "\n",
        "num_layers - количество повторяющихся слоев. Например, num_layers=2 будет означать объединение двух GRU вместе для формирования составного GRU, при этом второй GRU принимает выходные данные первого GRU и вычисляет окончательные результаты. По умолчанию: 1"
      ]
    },
    {
      "cell_type": "code",
      "execution_count": 19,
      "metadata": {
        "colab": {
          "base_uri": "https://localhost:8080/"
        },
        "id": "DNrWFnIkmZrM",
        "outputId": "1a4af6c9-99df-408d-c6b7-5ad74ebe2658"
      },
      "outputs": [
        {
          "output_type": "stream",
          "name": "stdout",
          "text": [
            "Размер output: torch.Size([5, 60])\n",
            "Размер h_n: torch.Size([2, 60])\n"
          ]
        }
      ],
      "source": [
        "# Определяем ячейку GRU в переменной gru, предварительно задав рамерность скрытого состояния и количество рекуррентных слоев\n",
        "input_size = emb.embedding_dim # вход в GRU должен соответствовать размеру эмбеддинга\n",
        "hidden_size = 60 #<your choice here>\n",
        "num_layers = 2 #<your choice here>\n",
        "gru = nn.GRU(input_size, hidden_size, num_layers)\n",
        "output, h_n = gru(emb_out)\n",
        "print(\"Размер output:\", output.shape)\n",
        "print(\"Размер h_n:\", h_n.shape)"
      ]
    },
    {
      "cell_type": "code",
      "execution_count": 20,
      "metadata": {
        "colab": {
          "base_uri": "https://localhost:8080/"
        },
        "id": "UL3Iq_-xuhUj",
        "outputId": "86e3d208-a9fb-4661-c7b7-708a33996702"
      },
      "outputs": [
        {
          "output_type": "stream",
          "name": "stdout",
          "text": [
            "Размер выходного слоя из нейросети:  torch.Size([5, 143])\n"
          ]
        }
      ],
      "source": [
        "in_features = gru.hidden_size\n",
        "out_features = len(vocab) #предсказываем букву из всего словаря\n",
        "linear = nn.Linear(in_features, out_features) # Определяем линейный слой. Почему заданы такие входные и выходные параметры для него?\n",
        "linear_out = linear(output) # output - выход GRU\n",
        "print(\"Размер выходного слоя из нейросети: \", linear_out.shape)"
      ]
    },
    {
      "cell_type": "markdown",
      "metadata": {
        "id": "65PUJ3c8vCKx"
      },
      "source": [
        "Входные данные для линейного слоя будут иметь размерность, соответствующую размерности скрытого состояния GRU. Это связано с тем, что выходной результат GRU имеет размерность скрытого состояния.\n",
        "\n"
      ]
    },
    {
      "cell_type": "markdown",
      "metadata": {
        "id": "q1T9KPNAyFyj"
      },
      "source": [
        "**Что содержится в векторе linear_out?**\n",
        "\n",
        "**Определить индекс символа, который наиболее вероятно выдаст ячейка GRU на первом шаге?**"
      ]
    },
    {
      "cell_type": "code",
      "execution_count": 21,
      "metadata": {
        "colab": {
          "base_uri": "https://localhost:8080/"
        },
        "id": "TLffVoovu1Vg",
        "outputId": "1ee729bb-5024-4290-8504-cd43056131e8"
      },
      "outputs": [
        {
          "output_type": "execute_result",
          "data": {
            "text/plain": [
              "tensor([-0.0342,  0.0946, -0.0473,  0.0587, -0.1448,  0.1550,  0.0498,  0.0362,\n",
              "        -0.0179, -0.0500,  0.1082, -0.1278, -0.0490, -0.0204, -0.0082,  0.1164,\n",
              "         0.0313, -0.0903,  0.1096, -0.1135, -0.0600,  0.0164,  0.1558, -0.0617,\n",
              "        -0.0417, -0.0961, -0.0746,  0.0485, -0.0239,  0.1478, -0.1253, -0.0771,\n",
              "        -0.0356, -0.0319,  0.1494,  0.1016,  0.0095,  0.1067, -0.1073,  0.0181,\n",
              "        -0.0979,  0.0651, -0.1137, -0.0379,  0.0275,  0.0623,  0.0302, -0.0257,\n",
              "         0.1517, -0.1687, -0.1555,  0.0754,  0.0027, -0.0514,  0.0118,  0.1382,\n",
              "         0.0816, -0.0655,  0.1487, -0.1137, -0.0095, -0.1731, -0.0124,  0.0677,\n",
              "        -0.1655, -0.0701, -0.0605, -0.0227, -0.0156,  0.0515,  0.0126, -0.0503,\n",
              "        -0.0181,  0.1023,  0.0358, -0.0789, -0.0022, -0.0755,  0.0543, -0.0565,\n",
              "         0.0112, -0.1017,  0.0883,  0.0477,  0.0783, -0.1230,  0.0339, -0.0334,\n",
              "         0.0674,  0.0545,  0.0677,  0.0406,  0.0318, -0.0004, -0.0456, -0.0711,\n",
              "         0.0464,  0.0249,  0.0803,  0.0620,  0.0187,  0.0053,  0.1113, -0.0563,\n",
              "         0.0653, -0.0634, -0.0461,  0.0101,  0.0293, -0.0771,  0.0019,  0.0302,\n",
              "         0.0552, -0.0434, -0.1067, -0.0791, -0.0218, -0.0837, -0.0910, -0.1296,\n",
              "        -0.0214, -0.0759, -0.0043,  0.1807,  0.1063,  0.1583, -0.0562, -0.0611,\n",
              "         0.0021,  0.0096,  0.1074,  0.1371,  0.0847,  0.0228,  0.0281,  0.0886,\n",
              "        -0.1270, -0.1717, -0.0145, -0.0690,  0.1616, -0.0280, -0.1281],\n",
              "       grad_fn=<SelectBackward0>)"
            ]
          },
          "metadata": {},
          "execution_count": 21
        }
      ],
      "source": [
        "linear_out[0]"
      ]
    },
    {
      "cell_type": "code",
      "execution_count": 22,
      "metadata": {
        "id": "gShVDSn-yI7Z"
      },
      "outputs": [],
      "source": [
        "class CharGRULoop(nn.Module): # Описываем инициализатор класса.\n",
        "    def __init__(self, num_embeddings=52, embedding_dim=16, hidden_size=60, num_layers=2): # В методе __init__ определим архитектуру модели, создав необходимые слои\n",
        "        super(self.__class__, self).__init__()\n",
        "        self.emb = nn.Embedding(num_embeddings, embedding_dim)\n",
        "        self.gru = nn.GRU(embedding_dim, hidden_size, num_layers, batch_first=True)\n",
        "        self.hid_to_logits = nn.Linear(hidden_size, num_embeddings)\n",
        "\n",
        "    def forward(self, x, hid_state): # Здесь описываем структуру сети - как сигнал должен по ней проходить\n",
        "        x = self.emb(x) # Проходим через эмбеддинг-слой\n",
        "        if hid_state is not None: # Проходим через GRU, сохраняя hidden state\n",
        "            h_seq, hid_state = self.gru(x, hid_state)\n",
        "        else:\n",
        "            h_seq, hid_state = self.gru(x)\n",
        "        next_logits = self.hid_to_logits(h_seq) # проходим через полносвязный слой\n",
        "        next_logp = F.log_softmax(next_logits, dim=-1) # Используем функцию softmax\n",
        "        return next_logp, hid_state"
      ]
    },
    {
      "cell_type": "code",
      "execution_count": 23,
      "metadata": {
        "id": "lC9wFgZ_yLu1"
      },
      "outputs": [],
      "source": [
        "model = CharGRULoop(num_embeddings=len(vocab), embedding_dim=50, hidden_size=186, num_layers=3)\n",
        "#<your choice here> Можно попробовать создать сеть с другими значениями параметров"
      ]
    },
    {
      "cell_type": "code",
      "execution_count": 24,
      "metadata": {
        "id": "0Njn0ft4ybv7"
      },
      "outputs": [],
      "source": [
        "!pip -q install torchinfo"
      ]
    },
    {
      "cell_type": "code",
      "execution_count": 25,
      "metadata": {
        "colab": {
          "base_uri": "https://localhost:8080/"
        },
        "id": "ob-hFrMrylWc",
        "outputId": "13cdf4f3-8cc1-488e-e86e-b88aa0b571d8"
      },
      "outputs": [
        {
          "output_type": "execute_result",
          "data": {
            "text/plain": [
              "=================================================================\n",
              "Layer (type:depth-idx)                   Param #\n",
              "=================================================================\n",
              "CharGRULoop                              --\n",
              "├─Embedding: 1-1                         7,150\n",
              "├─GRU: 1-2                               550,188\n",
              "├─Linear: 1-3                            26,741\n",
              "=================================================================\n",
              "Total params: 584,079\n",
              "Trainable params: 584,079\n",
              "Non-trainable params: 0\n",
              "================================================================="
            ]
          },
          "metadata": {},
          "execution_count": 25
        }
      ],
      "source": [
        "from torchinfo import summary\n",
        "\n",
        "summary(model)"
      ]
    },
    {
      "cell_type": "code",
      "execution_count": 26,
      "metadata": {
        "id": "t0eNQFBryoa-"
      },
      "outputs": [],
      "source": [
        "def generate_sample(model, char2id, id2char, seed_phrase=' ', strategy=\"greedy\", max_length=100, temperature=1.0):\n",
        "    \"\"\"\n",
        "      model - нейросеть\n",
        "      char2id - словарь преобразования букв в их индексы\n",
        "      id2char - словарь преобразования индексов в буквы\n",
        "      seed_phrase - начальная фраза для генерации\n",
        "      strategy - стратегия генерации (жадная \"greedy\" или сэмплирование \"sample\")\n",
        "      max_length - максимальная длина сгенирированного текста\n",
        "      temperature - ???\n",
        "    \"\"\"\n",
        "\n",
        "    x_sequence = [char2id[token] for token in seed_phrase] # кодируем начальную фразу\n",
        "    x_sequence = torch.tensor([x_sequence], dtype=torch.int64) # создаем тензор\n",
        "    hid_state = None # задаем тензор скрытого состояния h_n, при такой подачи вектор заполнится нулями\n",
        "\n",
        "    with torch.no_grad(): # отключаем подсчет градиентов, поскольку сеть уже обучена и не нужно проводить обратное распространение ошибки\n",
        "      for i in range(len(seed_phrase) - 1): # подаем номер буквы и hid_state в цикле\n",
        "          _, hid_state = model(x_sequence[:, i].unsqueeze(0), hid_state)\n",
        "\n",
        "      # начинаем генерацию\n",
        "      for _ in range(max_length - len(seed_phrase)):\n",
        "\n",
        "          logp_next, hid_state = model(x_sequence[:, -1].unsqueeze(0), hid_state) # подаем последнюю букву из фразы\n",
        "          p_next = F.softmax(logp_next / temperature, dim=-1).data.numpy()[0] # нормируем выходы модели на температуру и применяем софтмакс\n",
        "\n",
        "          if strategy == \"greedy\": next_ix = p_next.argmax() #берем токен с максимальной вероятностью\n",
        "          elif strategy == \"sample\": next_ix = np.random.choice(len(id2char), p=p_next[0]) #получаем следующий токен сэмплированием с вероятностями\n",
        "          else: raise ValueError('Хулиган, не делай так! Выбери \"greedy\" или \"sample\"')\n",
        "\n",
        "          if id2char[next_ix] == \"EOS\": break # если получили токен EOS, то прекращаем генерацию\n",
        "          else:\n",
        "            next_ix = torch.tensor([[next_ix]], dtype=torch.int64) # создаем тензор следующий буквы\n",
        "            x_sequence = torch.cat([x_sequence, next_ix], dim=1) # добавляем предсказанный токен в конец последовательности\n",
        "\n",
        "    return ''.join([id2char[ix] for ix in x_sequence.data.numpy()[0]]) # возвращаем декодированную строку"
      ]
    },
    {
      "cell_type": "markdown",
      "metadata": {
        "id": "UeL66D0gzCO_"
      },
      "source": [
        "**Выполните следующую ячейку несколько раз с одной и той же SEED_PHRASE, запомните выводы модели и объясните результат - чем отличается стратегия greedy от sample?**"
      ]
    },
    {
      "cell_type": "code",
      "execution_count": 27,
      "metadata": {
        "colab": {
          "base_uri": "https://localhost:8080/"
        },
        "id": "s8WDxJ3-y82Y",
        "outputId": "fc3f8694-423e-45e4-c9af-4a510f11c222"
      },
      "outputs": [
        {
          "output_type": "stream",
          "name": "stdout",
          "text": [
            "я люблю сырники!\n",
            "    д::ББББББББББ    ::ééччччTTчыыБББББББ     ::ééччччTTчыыБББББББ     ::ééччччTTчы\n",
            "\n",
            "я люблю сырники!\n",
            "ю-M«QНogЭATbèИPADMСnвоH PADдФуQ_цxèо\n",
            "Sаc\n"
          ]
        }
      ],
      "source": [
        "SEED_PHRASE = 'я люблю сырники!\\n' # Ну или что-то другое\n",
        "print(generate_sample(model, char2id, id2char, seed_phrase=SEED_PHRASE, strategy=\"greedy\", max_length=100))\n",
        "print()\n",
        "print(generate_sample(model, char2id, id2char, seed_phrase=SEED_PHRASE, strategy=\"sample\", max_length=100))"
      ]
    },
    {
      "cell_type": "markdown",
      "metadata": {
        "id": "Iq2qSGpC0leL"
      },
      "source": [
        "**Greedy** - для выбора следующего символа в тексте выбирается символ с наибольшей вероятностью, предсказанной моделью. Т.о., каждый следующий символ выбирается как наиболее вероятный, основываясь только на предсказаниях модели. Такие тексты короче (т.к. eos имеет высокую вероятность) и проще (больше похожих символов)\n",
        "\n",
        "**Sample** - для выбора следующего символа используется случайный выбор с учетом вероятностей, предсказанных моделью. Эта стратегия приводит к более разнообразным и менее предсказуемым текстам."
      ]
    },
    {
      "cell_type": "code",
      "execution_count": 28,
      "metadata": {
        "id": "gtutkxgyzmTp"
      },
      "outputs": [],
      "source": [
        "from sklearn.model_selection import train_test_split\n",
        "\n",
        "batch = 128 # Тексты, для уменьшения накладных расходов, будем подавать на вход модели \"батчами\" - блоками по 128 документов\n",
        "\n",
        "train, test = train_test_split(data, test_size=0.2, random_state=42, shuffle=True)\n",
        "\n",
        "dataset_train = TensorDataset(torch.tensor(to_matrix(train, char2id, max_len=MAXLEN)))\n",
        "dataloader_train = DataLoader(dataset_train, batch_size=batch, shuffle=True)\n",
        "\n",
        "dataset_test = TensorDataset(torch.tensor(to_matrix(test, char2id, max_len=MAXLEN)))\n",
        "dataloader_test = DataLoader(dataset_test, batch_size=batch, shuffle=False)"
      ]
    },
    {
      "cell_type": "code",
      "execution_count": 29,
      "metadata": {
        "colab": {
          "base_uri": "https://localhost:8080/"
        },
        "id": "ws_XgF1H1aWV",
        "outputId": "fde526c9-8e2b-4177-b0ff-dade9230bdba"
      },
      "outputs": [
        {
          "output_type": "execute_result",
          "data": {
            "text/plain": [
              "=================================================================\n",
              "Layer (type:depth-idx)                   Param #\n",
              "=================================================================\n",
              "CharGRULoop                              --\n",
              "├─Embedding: 1-1                         9,152\n",
              "├─GRU: 1-2                               1,036,800\n",
              "├─Linear: 1-3                            36,751\n",
              "=================================================================\n",
              "Total params: 1,082,703\n",
              "Trainable params: 1,082,703\n",
              "Non-trainable params: 0\n",
              "================================================================="
            ]
          },
          "metadata": {},
          "execution_count": 29
        }
      ],
      "source": [
        "model = CharGRULoop(num_embeddings=len(vocab), embedding_dim=64, hidden_size=256, num_layers=3)\n",
        "optimizer = torch.optim.Adam(model.parameters(), lr=0.001)\n",
        "loss_fn = nn.NLLLoss(ignore_index=char2id[\"PAD\"])\n",
        "# Функция потерь - negative log likelihood loss (NLL Loss) - используеся для задачи многоклассовой классификации в ситуации, когда имеются логарифмы вероятностей каждого класса\n",
        "# NLL Loss эквивалентен CrossEntropyLoss, но применяется к логарифмам вероятностей - у нас на выходе линейного слоя как раз исопользуется функция softmax\n",
        "\n",
        "summary(model)"
      ]
    },
    {
      "cell_type": "code",
      "execution_count": 30,
      "metadata": {
        "colab": {
          "base_uri": "https://localhost:8080/"
        },
        "id": "F4R1bRAx1cOA",
        "outputId": "d2506941-dda9-403d-841e-41510a68d343"
      },
      "outputs": [
        {
          "output_type": "execute_result",
          "data": {
            "text/plain": [
              "['Буря мглою небо кроет,\\nВихри снежные крутя:\\nТо, как зверь, она завоет,\\nТо заплачет, как дитя,\\nТо по кровле обветшалой\\nВдруг соломой зашумит,\\nТо, как путник запоздалый,\\nК нам в окошко застучит.\\n\\nНаша ветхая лачужка\\nИ печальна, и темна.\\nЧто же ты, моя старушка,\\nПриумолкла у окна?\\nИли бури завываньем\\nТы, мой друг, утомлена,\\nИли дремлешь под жужжаньем\\nСвоего веретена?\\n\\nВыпьем, добрая подружка\\nБедной юности моей,\\nВыпьем с горя; где же кружка?\\nСердцу будет веселей.\\nСпой мне песню, как синица\\nТихо за морем жила;\\nСпой мне песню, как девица\\nЗа водой поутру шла.\\n\\nБуря мглою небо кроет,\\nВихри снежные крутя;\\nТо, как зверь, она завоет.\\nТо заплачет, как дитя.\\nВыпьем, добрая подружка\\nБедной юности моей,\\nВыпьем с горя; где же кружка?\\nСердцу будет веселей.\\n\\n']"
            ]
          },
          "metadata": {},
          "execution_count": 30
        }
      ],
      "source": [
        "train[:1]"
      ]
    },
    {
      "cell_type": "code",
      "execution_count": 31,
      "metadata": {
        "colab": {
          "base_uri": "https://localhost:8080/"
        },
        "id": "UVgIBtc03niO",
        "outputId": "79a83b89-96b3-44b4-b01f-9c7899a46c93"
      },
      "outputs": [
        {
          "output_type": "stream",
          "name": "stdout",
          "text": [
            "perplexity:  142.2803497314453\n"
          ]
        }
      ],
      "source": [
        "example = torch.tensor(to_matrix(train[:1], char2id, max_len=MAXLEN)) # Возьмем первый документ и попробуем сгененировать этот же текст начиная с первой буквы\n",
        "\n",
        "train_example = example[:, :-1]\n",
        "target_example = example[:, 1:]\n",
        "\n",
        "next_logp, hid_state = model(train_example, hid_state=None)\n",
        "\n",
        "print('perplexity: ', torch.exp(loss_fn(next_logp.permute(0, 2, 1), target_example)).item())"
      ]
    },
    {
      "cell_type": "code",
      "execution_count": 32,
      "metadata": {
        "id": "O6PtiQUH3p_H"
      },
      "outputs": [],
      "source": [
        "device = torch.device(\"cuda\") if torch.cuda.is_available() else torch.device(\"cpu\")\n",
        "torch.cuda.empty_cache()"
      ]
    },
    {
      "cell_type": "code",
      "execution_count": 33,
      "metadata": {
        "colab": {
          "base_uri": "https://localhost:8080/",
          "height": 522
        },
        "id": "ZJ7K7ei63s-N",
        "outputId": "f4dce218-9669-4559-8d8e-13cb468ebceb"
      },
      "outputs": [
        {
          "output_type": "display_data",
          "data": {
            "text/plain": [
              "<Figure size 1400x600 with 1 Axes>"
            ],
            "image/png": "[encoded data removed]"
          },
          "metadata": {}
        }
      ],
      "source": [
        "EPOCH = 200 # количество эпох обучения\n",
        "history_train = [] # список значений лосса трейна на каждой эпохи\n",
        "history_test = [] # список значений лосса теста на каждой эпохи\n",
        "model.to(device) # И модель, и данные должны находиться на одном устройстве.\n",
        "                 # Поэтому при работе с GPU нужно следить и явно указывать, на каком устройстве проводится работа.\n",
        "\n",
        "\n",
        "best_test_loss = float(\"inf\")\n",
        "for i in range(EPOCH): #цикл по эпохам\n",
        "\n",
        "  loss_test = 0\n",
        "  loss_train = 0\n",
        "\n",
        "  for batch in dataloader_train: #цикл по тренировачным батчам\n",
        "\n",
        "    optimizer.zero_grad() #обнуляем градиенты\n",
        "    batch_ix = torch.tensor(batch[0], dtype=torch.int64).to(device) #делаем из батча тензор\n",
        "\n",
        "    predictions_logp, _ = model(batch_ix[:, :-1], hid_state=None) #подаем батч в модель\n",
        "\n",
        "    actual_next_tokens = batch_ix[:, 1:] # таргеры\n",
        "\n",
        "    loss = loss_fn(predictions_logp.permute(0, 2, 1), actual_next_tokens.long()) # считаем лосс на батче\n",
        "    loss_train += loss.item() # добавляем лосс с батча в суммарный лосс\n",
        "\n",
        "    loss.backward() # делаем обратный проход\n",
        "    optimizer.step() # делаем шаг оптимизатором\n",
        "\n",
        "  history_train.append(loss_train/len(dataloader_train)) # добавляем  средний лосс за эпоху в список\n",
        "\n",
        "  for batch in dataloader_test: #цикл по тестовым батчам\n",
        "    with torch.no_grad(): # отключаем подсчет градиентов\n",
        "\n",
        "      batch_ix = torch.tensor(batch[0], dtype=torch.int64).to(device)\n",
        "      predictions_logp, _ = model(batch_ix[:, :-1], hid_state=None)\n",
        "\n",
        "      actual_next_tokens = batch_ix[:, 1:]\n",
        "\n",
        "      loss = loss_fn(predictions_logp.permute(0, 2, 1), actual_next_tokens.long())\n",
        "      loss_test += loss.item()\n",
        "\n",
        "  loss_test = loss_test/len(dataloader_test)\n",
        "  history_test.append(loss_test)\n",
        "\n",
        "  if loss_test < best_test_loss: #сохраняем лучшую модель по лоссу на тесте\n",
        "    best_test_loss = loss_test\n",
        "    best_model = copy.deepcopy(model)\n",
        "    best_model.to(\"cpu\")\n",
        "\n",
        "  if (i + 1) % 5 == 0: # выводим график лосса каждые 5 эпох\n",
        "    clear_output(True)\n",
        "    plt.plot(history_train, label='loss_train')\n",
        "    plt.plot(history_test, label='loss_test')\n",
        "    plt.grid()\n",
        "    plt.legend()\n",
        "    plt.show()"
      ]
    },
    {
      "cell_type": "markdown",
      "metadata": {
        "id": "3GpQyoFh4EhS"
      },
      "source": [
        "**Достаточно ли обучилась модель? Имеет ли смысл изменить количество эпох обучения?**\n"
      ]
    },
    {
      "cell_type": "code",
      "execution_count": 34,
      "metadata": {
        "id": "jD3BpmRW34Y3",
        "colab": {
          "base_uri": "https://localhost:8080/"
        },
        "outputId": "8e9e9b95-44e7-40cb-d7cf-d6b080a977b1"
      },
      "outputs": [
        {
          "output_type": "stream",
          "name": "stdout",
          "text": [
            "perplexity (best model test):  6.955433139433273\n",
            "perplexity (last epoch test):  8.148374779777996\n"
          ]
        }
      ],
      "source": [
        "print(\"perplexity (best model test): \", np.exp(best_test_loss))\n",
        "print(\"perplexity (last epoch test): \", np.exp(loss_test))"
      ]
    },
    {
      "cell_type": "code",
      "execution_count": 35,
      "metadata": {
        "id": "bfCuDqIc4NEk",
        "colab": {
          "base_uri": "https://localhost:8080/"
        },
        "outputId": "1c724812-9c80-4321-e472-84b7911c5c53"
      },
      "outputs": [
        {
          "output_type": "execute_result",
          "data": {
            "text/plain": [
              "CharGRULoop(\n",
              "  (emb): Embedding(143, 64)\n",
              "  (gru): GRU(64, 256, num_layers=3, batch_first=True)\n",
              "  (hid_to_logits): Linear(in_features=256, out_features=143, bias=True)\n",
              ")"
            ]
          },
          "metadata": {},
          "execution_count": 35
        }
      ],
      "source": [
        "device = 'cpu' # Обучение обычно проводится на GPU, но чтобы не тратить его ресурсы, работу по генерации текста уже обученной моделью стоит перенести обратно на CPU\n",
        "model.to(device)"
      ]
    },
    {
      "cell_type": "code",
      "execution_count": 36,
      "metadata": {
        "id": "niBmvCrk5b0x"
      },
      "outputs": [],
      "source": [
        "#Если вы не согласны, вы можете поменять стартовую фразу, но что думает об этом высказывание машина?\n",
        "SEED_PHRASE = 'Я люблю сырники,'"
      ]
    },
    {
      "cell_type": "code",
      "execution_count": 37,
      "metadata": {
        "id": "mMs-LIS65qXb",
        "colab": {
          "base_uri": "https://localhost:8080/"
        },
        "outputId": "54e9256e-1983-40d1-f910-f6c3228f82e2"
      },
      "outputs": [
        {
          "output_type": "stream",
          "name": "stdout",
          "text": [
            "Я люблю сырники, бег арас.\n",
            "Качами, Судьба ей чел гонит Мистов.\n",
            "Она мне ночь не стордный презнен, где снов\n",
            "Не охот\n"
          ]
        }
      ],
      "source": [
        "print(generate_sample(best_model, char2id, id2char, seed_phrase=SEED_PHRASE, strategy=\"sample\", max_length=MAXLEN))"
      ]
    },
    {
      "cell_type": "code",
      "execution_count": 38,
      "metadata": {
        "id": "j-OwD05z5sET",
        "colab": {
          "base_uri": "https://localhost:8080/"
        },
        "outputId": "9346c8d3-9c81-44d7-adcd-00f5449a866e"
      },
      "outputs": [
        {
          "output_type": "stream",
          "name": "stdout",
          "text": [
            "Время спать уже резвыка,\n",
            "Не видишь мне Камена\n",
            "Отрадой и минуть.\n",
            "Смытый состер нешежд —\n",
            "Нет от мира благослушно,\n",
            "И, еще ни за, не утра,\n",
            "И длянули лубка Мо\n",
            "Водокно, его свободы,\n",
            "Я любезный росква —\n",
            "И пенистым Варшегах,\n",
            "И постыдва природе\n"
          ]
        }
      ],
      "source": [
        "prompt = \"Время спать уже\"\n",
        "print(generate_sample(model, char2id, id2char, seed_phrase=prompt, strategy=\"sample\", max_length=256))"
      ]
    },
    {
      "cell_type": "code",
      "execution_count": 39,
      "metadata": {
        "id": "WxAQ0XBZ6SOT",
        "colab": {
          "base_uri": "https://localhost:8080/"
        },
        "outputId": "264ea04a-1960-4462-ece7-b79dd3dcf07d"
      },
      "outputs": [
        {
          "output_type": "stream",
          "name": "stdout",
          "text": [
            "Я люблю сырники, не славный страстный,\n",
            "На поле сладостной посторожной,\n",
            "И с тобой постигно в приходит на стеснить,\n",
            "И не страшный полей не смеет в ней волны\n",
            "И сердце страстной страстной и пристрастный,\n",
            "И сладостной страстной без ней в ней волной,\n",
            "И с тобой последний и признаюсь и страхой.\n",
            "\n",
            "\n"
          ]
        }
      ],
      "source": [
        "print(generate_sample(best_model, char2id, id2char, seed_phrase=SEED_PHRASE, strategy=\"greedy\", max_length=MAXLEN))"
      ]
    },
    {
      "cell_type": "code",
      "execution_count": 40,
      "metadata": {
        "id": "45DOo1-i6ZfJ",
        "colab": {
          "base_uri": "https://localhost:8080/"
        },
        "outputId": "00459857-17d3-4b5c-b3b8-9aa107095f5a"
      },
      "outputs": [
        {
          "output_type": "stream",
          "name": "stdout",
          "text": [
            "Время спать уже теперь толпой,\n",
            "Как бы простой и вас наслажденье\n",
            "В тебе пред ним страсти и видал.\n",
            "Послушайте мне с каменьем порогу\n",
            "Под сенью прекрасно без ним,\n",
            "Как в последний свою вашем,\n",
            "Не послушайте внимать души,\n",
            "В полемлет с вами со мною,\n",
            "И сердце ваша \n"
          ]
        }
      ],
      "source": [
        "print(generate_sample(model, char2id, id2char, seed_phrase=prompt, strategy=\"greedy\", max_length=256))"
      ]
    },
    {
      "cell_type": "markdown",
      "metadata": {
        "id": "OMhUGG0v60QP"
      },
      "source": [
        "###Эксперименты с температурой"
      ]
    },
    {
      "cell_type": "code",
      "execution_count": 41,
      "metadata": {
        "id": "ibogcV4h7JBG"
      },
      "outputs": [],
      "source": [
        "nice_strategy = \"sample\" #<your choice here>"
      ]
    },
    {
      "cell_type": "code",
      "execution_count": 42,
      "metadata": {
        "id": "svtp6xEM7nDx",
        "colab": {
          "base_uri": "https://localhost:8080/"
        },
        "outputId": "3f4f96bf-4507-400e-a072-51409d1172b9"
      },
      "outputs": [
        {
          "output_type": "stream",
          "name": "stdout",
          "text": [
            "Я люблю сырники, о,\n",
            "mифпоковче юнны\n",
            "Яозые: вбледЮрКрумымшВ…и.\n",
            "СласнГе папипшики лещет,\n",
            "\n"
          ]
        }
      ],
      "source": [
        "print(generate_sample(best_model, char2id, id2char, seed_phrase=SEED_PHRASE, strategy=nice_strategy, max_length=MAXLEN, temperature=2.0))"
      ]
    },
    {
      "cell_type": "code",
      "execution_count": 43,
      "metadata": {
        "id": "an3fsdNCAFjl",
        "colab": {
          "base_uri": "https://localhost:8080/"
        },
        "outputId": "a2284dc5-364b-4634-ddeb-641b6ef9741c"
      },
      "outputs": [
        {
          "output_type": "stream",
          "name": "stdout",
          "text": [
            "Я люблю сырники, он с порой не славный,\n",
            "Ты не последний порой стройный,\n",
            "Когда души, не под тубительный,\n",
            "Скажи мне веселое бестрет.\n",
            "Открывал с насталом собой,\n",
            "Какое с пристань сонной страстной\n",
            "Сидел поле в нем город полемую,\n",
            "И грустно весной лирой томной,\n",
            "Ты разбирал на постре мой поэт,\n",
            "Но не под ним не расстами не расстрой.\n",
            "\n",
            "\n"
          ]
        }
      ],
      "source": [
        "print(generate_sample(best_model, char2id, id2char, seed_phrase=SEED_PHRASE, strategy=nice_strategy, max_length=MAXLEN, temperature=0.5))"
      ]
    },
    {
      "cell_type": "markdown",
      "metadata": {
        "id": "pg6uADG67txj"
      },
      "source": [
        "**Сделайте выводы как влияет изменение температуры на генерацию текста.**\n",
        "\n",
        "Чем ниже температура, тем больший смысл имеет текст, но при этом уменьшается разнообразие используемых слов.\n",
        "\n",
        "**Выберите оптимальное значение температуры**\n",
        "\n",
        "0,5 показывает достаточно понятный текст"
      ]
    },
    {
      "cell_type": "code",
      "execution_count": 44,
      "metadata": {
        "id": "4vENUMO77pcf"
      },
      "outputs": [],
      "source": [
        "# По завершению работы с рекуррентной сетью, очистим кэш\n",
        "torch.cuda.empty_cache()"
      ]
    },
    {
      "cell_type": "markdown",
      "metadata": {
        "id": "-nEq_6TvB5ny"
      },
      "source": [
        "###Bonus track GPT"
      ]
    },
    {
      "cell_type": "code",
      "execution_count": 45,
      "metadata": {
        "id": "srkJfu3RB3sT"
      },
      "outputs": [],
      "source": [
        "!pip install -q transformers[torch]"
      ]
    },
    {
      "cell_type": "code",
      "execution_count": 46,
      "metadata": {
        "id": "s-N-2Eavh49p"
      },
      "outputs": [],
      "source": [
        "import locale\n",
        "import torch\n",
        "import transformers\n",
        "import numpy as np\n",
        "\n",
        "from warnings import simplefilter\n",
        "from IPython.display import clear_output\n",
        "from transformers import Trainer, TrainingArguments\n",
        "from transformers import GPT2LMHeadModel, GPT2Tokenizer\n",
        "from transformers import TextDataset, DataCollatorForLanguageModeling"
      ]
    },
    {
      "cell_type": "code",
      "execution_count": 47,
      "metadata": {
        "id": "39vnhLvGim9x"
      },
      "outputs": [],
      "source": [
        "#  Задаем некоторые настроечные параметры касательно кодировки и отображения предупреждений\n",
        "locale.getpreferredencoding = lambda: \"UTF-8\"\n",
        "simplefilter(\"ignore\", category=FutureWarning)\n",
        "transformers.logging.set_verbosity_error()"
      ]
    },
    {
      "cell_type": "code",
      "execution_count": 48,
      "metadata": {
        "id": "Il-caUWPixN3"
      },
      "outputs": [],
      "source": [
        "device = torch.device(\"cuda\" if torch.cuda.is_available() else \"cpu\")\n",
        "\n",
        "model_name = \"sberbank-ai/rugpt3small_based_on_gpt2\"  # Опередлим, какой моделью будем пользоваться\n",
        "tokenizer = GPT2Tokenizer.from_pretrained(model_name)  # Определим токенайзер для нашего текста\n",
        "model = GPT2LMHeadModel.from_pretrained(model_name).to(device) # Загрузим предобученную модель трансформера rugpt3small от Сбера\n",
        "\n",
        "clear_output()"
      ]
    },
    {
      "cell_type": "code",
      "execution_count": 49,
      "metadata": {
        "id": "gXE1p6Wri0cr",
        "colab": {
          "base_uri": "https://localhost:8080/"
        },
        "outputId": "751bb858-2b5c-41fd-87f3-a7d451ff8fcf"
      },
      "outputs": [
        {
          "output_type": "stream",
          "name": "stdout",
          "text": [
            "Машинное обучение - это не только обучение, но и развитие.  В этом случае обучение может\n"
          ]
        }
      ],
      "source": [
        "SEED_PHRASE = 'Машинное обучение - это'\n",
        "input_ids = tokenizer.encode(SEED_PHRASE, return_tensors=\"pt\").to(device)\n",
        "out = model.generate(input_ids, do_sample=False, max_length=20)\n",
        "\n",
        "generated_text = list(map(tokenizer.decode, out))[0]\n",
        "\n",
        "print(generated_text) #Так работает предобученный трансформер"
      ]
    },
    {
      "cell_type": "code",
      "execution_count": 50,
      "metadata": {
        "id": "QRJZOxFOlBi1"
      },
      "outputs": [],
      "source": [
        "train_path = \"train_dataset.txt\"\n",
        "\n",
        "with open(\"poems.txt\", encoding=\"utf-8\") as file:\n",
        "  data = file.read().split(\"</s>\\n\\n\")\n",
        "\n",
        "with open(train_path, mode=\"w\", encoding=\"utf-8\") as f:\n",
        "    f.write(\"\".join(data))"
      ]
    },
    {
      "cell_type": "code",
      "execution_count": 51,
      "metadata": {
        "id": "2eO-tMyEnhlO"
      },
      "outputs": [],
      "source": [
        "train_dataset = TextDataset(tokenizer=tokenizer, file_path=train_path, block_size=128) # Создание датасета\n",
        "data_collator = DataCollatorForLanguageModeling(tokenizer=tokenizer, mlm=False) # Создание даталодера (нарезает текст на оптимальные по длине куски)"
      ]
    },
    {
      "cell_type": "code",
      "source": [
        "torch.cuda.is_available()"
      ],
      "metadata": {
        "colab": {
          "base_uri": "https://localhost:8080/"
        },
        "id": "HoTLHIMk_a0z",
        "outputId": "9399d96d-5444-4ae2-b5cd-856797a48f8b"
      },
      "execution_count": 52,
      "outputs": [
        {
          "output_type": "execute_result",
          "data": {
            "text/plain": [
              "True"
            ]
          },
          "metadata": {},
          "execution_count": 52
        }
      ]
    },
    {
      "cell_type": "code",
      "source": [
        "!pip install accelerate -U"
      ],
      "metadata": {
        "colab": {
          "base_uri": "https://localhost:8080/"
        },
        "id": "L58XQS-NHBGr",
        "outputId": "40ebd402-e20c-4216-ff61-ea45e5034390"
      },
      "execution_count": 53,
      "outputs": [
        {
          "output_type": "stream",
          "name": "stdout",
          "text": [
            "Requirement already satisfied: accelerate in /usr/local/lib/python3.10/dist-packages (0.29.3)\n",
            "Requirement already satisfied: numpy>=1.17 in /usr/local/lib/python3.10/dist-packages (from accelerate) (1.25.2)\n",
            "Requirement already satisfied: packaging>=20.0 in /usr/local/lib/python3.10/dist-packages (from accelerate) (24.0)\n",
            "Requirement already satisfied: psutil in /usr/local/lib/python3.10/dist-packages (from accelerate) (5.9.5)\n",
            "Requirement already satisfied: pyyaml in /usr/local/lib/python3.10/dist-packages (from accelerate) (6.0.1)\n",
            "Requirement already satisfied: torch>=1.10.0 in /usr/local/lib/python3.10/dist-packages (from accelerate) (2.2.1+cu121)\n",
            "Requirement already satisfied: huggingface-hub in /usr/local/lib/python3.10/dist-packages (from accelerate) (0.20.3)\n",
            "Requirement already satisfied: safetensors>=0.3.1 in /usr/local/lib/python3.10/dist-packages (from accelerate) (0.4.2)\n",
            "Requirement already satisfied: filelock in /usr/local/lib/python3.10/dist-packages (from torch>=1.10.0->accelerate) (3.13.4)\n",
            "Requirement already satisfied: typing-extensions>=4.8.0 in /usr/local/lib/python3.10/dist-packages (from torch>=1.10.0->accelerate) (4.11.0)\n",
            "Requirement already satisfied: sympy in /usr/local/lib/python3.10/dist-packages (from torch>=1.10.0->accelerate) (1.12)\n",
            "Requirement already satisfied: networkx in /usr/local/lib/python3.10/dist-packages (from torch>=1.10.0->accelerate) (3.3)\n",
            "Requirement already satisfied: jinja2 in /usr/local/lib/python3.10/dist-packages (from torch>=1.10.0->accelerate) (3.1.3)\n",
            "Requirement already satisfied: fsspec in /usr/local/lib/python3.10/dist-packages (from torch>=1.10.0->accelerate) (2023.6.0)\n",
            "Requirement already satisfied: nvidia-cuda-nvrtc-cu12==12.1.105 in /usr/local/lib/python3.10/dist-packages (from torch>=1.10.0->accelerate) (12.1.105)\n",
            "Requirement already satisfied: nvidia-cuda-runtime-cu12==12.1.105 in /usr/local/lib/python3.10/dist-packages (from torch>=1.10.0->accelerate) (12.1.105)\n",
            "Requirement already satisfied: nvidia-cuda-cupti-cu12==12.1.105 in /usr/local/lib/python3.10/dist-packages (from torch>=1.10.0->accelerate) (12.1.105)\n",
            "Requirement already satisfied: nvidia-cudnn-cu12==8.9.2.26 in /usr/local/lib/python3.10/dist-packages (from torch>=1.10.0->accelerate) (8.9.2.26)\n",
            "Requirement already satisfied: nvidia-cublas-cu12==12.1.3.1 in /usr/local/lib/python3.10/dist-packages (from torch>=1.10.0->accelerate) (12.1.3.1)\n",
            "Requirement already satisfied: nvidia-cufft-cu12==11.0.2.54 in /usr/local/lib/python3.10/dist-packages (from torch>=1.10.0->accelerate) (11.0.2.54)\n",
            "Requirement already satisfied: nvidia-curand-cu12==10.3.2.106 in /usr/local/lib/python3.10/dist-packages (from torch>=1.10.0->accelerate) (10.3.2.106)\n",
            "Requirement already satisfied: nvidia-cusolver-cu12==11.4.5.107 in /usr/local/lib/python3.10/dist-packages (from torch>=1.10.0->accelerate) (11.4.5.107)\n",
            "Requirement already satisfied: nvidia-cusparse-cu12==12.1.0.106 in /usr/local/lib/python3.10/dist-packages (from torch>=1.10.0->accelerate) (12.1.0.106)\n",
            "Requirement already satisfied: nvidia-nccl-cu12==2.19.3 in /usr/local/lib/python3.10/dist-packages (from torch>=1.10.0->accelerate) (2.19.3)\n",
            "Requirement already satisfied: nvidia-nvtx-cu12==12.1.105 in /usr/local/lib/python3.10/dist-packages (from torch>=1.10.0->accelerate) (12.1.105)\n",
            "Requirement already satisfied: triton==2.2.0 in /usr/local/lib/python3.10/dist-packages (from torch>=1.10.0->accelerate) (2.2.0)\n",
            "Requirement already satisfied: nvidia-nvjitlink-cu12 in /usr/local/lib/python3.10/dist-packages (from nvidia-cusolver-cu12==11.4.5.107->torch>=1.10.0->accelerate) (12.4.127)\n",
            "Requirement already satisfied: requests in /usr/local/lib/python3.10/dist-packages (from huggingface-hub->accelerate) (2.31.0)\n",
            "Requirement already satisfied: tqdm>=4.42.1 in /usr/local/lib/python3.10/dist-packages (from huggingface-hub->accelerate) (4.66.2)\n",
            "Requirement already satisfied: MarkupSafe>=2.0 in /usr/local/lib/python3.10/dist-packages (from jinja2->torch>=1.10.0->accelerate) (2.1.5)\n",
            "Requirement already satisfied: charset-normalizer<4,>=2 in /usr/local/lib/python3.10/dist-packages (from requests->huggingface-hub->accelerate) (3.3.2)\n",
            "Requirement already satisfied: idna<4,>=2.5 in /usr/local/lib/python3.10/dist-packages (from requests->huggingface-hub->accelerate) (3.6)\n",
            "Requirement already satisfied: urllib3<3,>=1.21.1 in /usr/local/lib/python3.10/dist-packages (from requests->huggingface-hub->accelerate) (2.0.7)\n",
            "Requirement already satisfied: certifi>=2017.4.17 in /usr/local/lib/python3.10/dist-packages (from requests->huggingface-hub->accelerate) (2024.2.2)\n",
            "Requirement already satisfied: mpmath>=0.19 in /usr/local/lib/python3.10/dist-packages (from sympy->torch>=1.10.0->accelerate) (1.3.0)\n"
          ]
        }
      ]
    },
    {
      "cell_type": "code",
      "source": [
        "!pip install transformers==4.24.0"
      ],
      "metadata": {
        "colab": {
          "base_uri": "https://localhost:8080/"
        },
        "id": "M28axyREJMw2",
        "outputId": "2f28fb51-3a9c-40e0-aa2d-d8f0ef5b3c3d"
      },
      "execution_count": 54,
      "outputs": [
        {
          "output_type": "stream",
          "name": "stdout",
          "text": [
            "Requirement already satisfied: transformers==4.24.0 in /usr/local/lib/python3.10/dist-packages (4.24.0)\n",
            "Requirement already satisfied: filelock in /usr/local/lib/python3.10/dist-packages (from transformers==4.24.0) (3.13.4)\n",
            "Requirement already satisfied: huggingface-hub<1.0,>=0.10.0 in /usr/local/lib/python3.10/dist-packages (from transformers==4.24.0) (0.20.3)\n",
            "Requirement already satisfied: numpy>=1.17 in /usr/local/lib/python3.10/dist-packages (from transformers==4.24.0) (1.25.2)\n",
            "Requirement already satisfied: packaging>=20.0 in /usr/local/lib/python3.10/dist-packages (from transformers==4.24.0) (24.0)\n",
            "Requirement already satisfied: pyyaml>=5.1 in /usr/local/lib/python3.10/dist-packages (from transformers==4.24.0) (6.0.1)\n",
            "Requirement already satisfied: regex!=2019.12.17 in /usr/local/lib/python3.10/dist-packages (from transformers==4.24.0) (2023.12.25)\n",
            "Requirement already satisfied: requests in /usr/local/lib/python3.10/dist-packages (from transformers==4.24.0) (2.31.0)\n",
            "Requirement already satisfied: tokenizers!=0.11.3,<0.14,>=0.11.1 in /usr/local/lib/python3.10/dist-packages (from transformers==4.24.0) (0.13.3)\n",
            "Requirement already satisfied: tqdm>=4.27 in /usr/local/lib/python3.10/dist-packages (from transformers==4.24.0) (4.66.2)\n",
            "Requirement already satisfied: fsspec>=2023.5.0 in /usr/local/lib/python3.10/dist-packages (from huggingface-hub<1.0,>=0.10.0->transformers==4.24.0) (2023.6.0)\n",
            "Requirement already satisfied: typing-extensions>=3.7.4.3 in /usr/local/lib/python3.10/dist-packages (from huggingface-hub<1.0,>=0.10.0->transformers==4.24.0) (4.11.0)\n",
            "Requirement already satisfied: charset-normalizer<4,>=2 in /usr/local/lib/python3.10/dist-packages (from requests->transformers==4.24.0) (3.3.2)\n",
            "Requirement already satisfied: idna<4,>=2.5 in /usr/local/lib/python3.10/dist-packages (from requests->transformers==4.24.0) (3.6)\n",
            "Requirement already satisfied: urllib3<3,>=1.21.1 in /usr/local/lib/python3.10/dist-packages (from requests->transformers==4.24.0) (2.0.7)\n",
            "Requirement already satisfied: certifi>=2017.4.17 in /usr/local/lib/python3.10/dist-packages (from requests->transformers==4.24.0) (2024.2.2)\n"
          ]
        }
      ]
    },
    {
      "cell_type": "code",
      "execution_count": 55,
      "metadata": {
        "id": "ImjhVh7_o6on"
      },
      "outputs": [],
      "source": [
        "training_args = TrainingArguments(\n",
        "    output_dir=\"./finetuned\",\n",
        "    overwrite_output_dir=True,\n",
        "    num_train_epochs=15,\n",
        "    per_device_train_batch_size=32,\n",
        "    per_device_eval_batch_size=32,\n",
        "    warmup_steps=10,                    # рекомендованные значения (warmup_steps нужен для \"разогрева\" сети, c его помощью learning rate постепенно увеличивается до заданного значения)\n",
        "    gradient_accumulation_steps=16,     # рекомендованные значения\n",
        ")\n",
        "#(обычно мы хотим положить батч по-больше, чтобы сеть побыстрей сошлась, но мы ограничены памятью gpu, gradient_accumulation_steps накапливает (суммирует или усредняет) градиенты за прогон на 16 батчах )\n",
        "\n",
        "trainer = Trainer(\n",
        "    model=model,\n",
        "    args=training_args,\n",
        "    data_collator=data_collator,\n",
        "    train_dataset=train_dataset,\n",
        "    optimizers=(\n",
        "        torch.optim.AdamW(model.parameters(), lr=1e-5), # рекомендованные значения\n",
        "        None,\n",
        "    ),\n",
        ")"
      ]
    },
    {
      "cell_type": "code",
      "execution_count": 56,
      "metadata": {
        "id": "5rh77F9Xo_gH",
        "colab": {
          "base_uri": "https://localhost:8080/"
        },
        "outputId": "4619553c-97b2-44b9-c3af-1e918ab08e3a"
      },
      "outputs": [
        {
          "output_type": "stream",
          "name": "stderr",
          "text": [
            "***** Running training *****\n",
            "  Num examples = 1487\n",
            "  Num Epochs = 15\n",
            "  Instantaneous batch size per device = 32\n",
            "  Total train batch size (w. parallel, distributed & accumulation) = 512\n",
            "  Gradient Accumulation steps = 16\n",
            "  Total optimization steps = 30\n",
            "  Number of trainable parameters = 125231616\n",
            "\n",
            "\n",
            "Training completed. Do not forget to share your model on huggingface.co/models =)\n",
            "\n",
            "\n"
          ]
        },
        {
          "output_type": "stream",
          "name": "stdout",
          "text": [
            "{'train_runtime': 759.4557, 'train_samples_per_second': 29.37, 'train_steps_per_second': 0.04, 'train_loss': 5.8349970499674475, 'epoch': 14.68}\n"
          ]
        }
      ],
      "source": [
        "output = trainer.train() # Дообучаем трансформер на наши тексты"
      ]
    },
    {
      "cell_type": "code",
      "execution_count": 57,
      "metadata": {
        "id": "tTrFcsBbpLI8",
        "colab": {
          "base_uri": "https://localhost:8080/"
        },
        "outputId": "4ffde196-4fd6-4b5f-96c3-7beb078c521c"
      },
      "outputs": [
        {
          "output_type": "stream",
          "name": "stdout",
          "text": [
            "perplexity:  342.063724949662\n"
          ]
        }
      ],
      "source": [
        "print('perplexity: ', np.exp(output.training_loss)) #расчет перплексии"
      ]
    },
    {
      "cell_type": "markdown",
      "metadata": {
        "id": "kQ3S6j6bfQy3"
      },
      "source": [
        "Какое значение перплексии получилось у трансформера? 342\n",
        "\n",
        "Какое значение перплексии получалось у рекуррентной сети?\n",
        "\n",
        "Почему у рекуррентной сети значение было существенно ниже, но качество текстов хуже? Почему нельзя сравнивать значения для рекуррентной сети и трансформера?"
      ]
    },
    {
      "cell_type": "code",
      "execution_count": 58,
      "metadata": {
        "id": "8Zw8dNnufNQf",
        "colab": {
          "base_uri": "https://localhost:8080/"
        },
        "outputId": "4d76bf6f-26c7-4dd6-8d02-cc8ee8944879"
      },
      "outputs": [
        {
          "output_type": "stream",
          "name": "stdout",
          "text": [
            "\n",
            "Пришла весна, а значит, не лето...\" (с) \n",
            " \"Идти, или, на закате,\n",
            "Вплавь, и плыть по Оке,\n",
            "Над волнами, или в облаках\". \n",
            "\n",
            "Но вот настало вечер воскресенья. И на пристань я гляну: \n",
            "\n",
            "\"Будь у меня на часах минутка. \n",
            " \"Иду к тебе. Ты у капища. \n",
            " Сей человек и есть я!..\" \n",
            "\n",
            "Я, брат Иван, к тебе пристану. \n",
            " \"Долго ль я, мой Иван, медленный медлюсь?\" \n",
            " Прими меня мой брат Иван. \n",
            "\n",
            " \"Умолкни, Иуда! — Ты, муж родной. \n",
            " Каких ласк лишься? \n",
            " Друзья ль ты? Где? Чем я тебя лечу? \n",
            "\n",
            "Не плачь, а послушай вникни: в реке плавающей \n",
            " Пошла я под парус.\n",
            " Лезет парус по волнам, плывет навстречу\n",
            " Мощная барка, тащатся волны...\" \n",
            "\n",
            "О! Как это трудно: ждать минуту. \n",
            " Хочешь ли ты, друг милый, ждать, что будет? \n",
            "\n",
            "Я\n"
          ]
        }
      ],
      "source": [
        "SEED_PHRASE = 'Пришла весна, а значит'\n",
        "input_ids = tokenizer.encode(SEED_PHRASE, return_tensors=\"pt\").to(device)\n",
        "model.eval()\n",
        "with torch.no_grad():\n",
        "    out = model.generate(\n",
        "        input_ids,\n",
        "        do_sample=True, # sample strategy\n",
        "        temperature=1.3,\n",
        "        max_length=256,\n",
        "        pad_token_id=512 # указываем id <PAD> токена\n",
        "    )\n",
        "\n",
        "generated_text = list(map(tokenizer.decode, out))[0]\n",
        "print()\n",
        "print(generated_text)"
      ]
    },
    {
      "cell_type": "code",
      "source": [],
      "metadata": {
        "id": "9EwVJf_loFAh"
      },
      "execution_count": 58,
      "outputs": []
    },
    {
      "cell_type": "markdown",
      "metadata": {
        "id": "n4z2ix_vhLFi"
      },
      "source": [
        "Проверьте работу ячейки выше для разных стартовых фраз и разных параметров temperature, max_length, do_sample и объясните, за что отвечает каждый из параметров. Подберите (субъективно) лучшие"
      ]
    },
    {
      "cell_type": "markdown",
      "metadata": {
        "id": "FIEugpBJhOvc"
      },
      "source": [
        "###Beam Search"
      ]
    },
    {
      "cell_type": "code",
      "execution_count": 59,
      "metadata": {
        "id": "FbIELqm5hJcT"
      },
      "outputs": [],
      "source": [
        "SEED_PHRASE = 'Чтобы приготовить'\n",
        "input_ids = tokenizer.encode(SEED_PHRASE, return_tensors=\"pt\").to(device)\n",
        "model.eval()\n",
        "with torch.no_grad():\n",
        "    out = model.generate(\n",
        "        input_ids,\n",
        "        do_sample=True,\n",
        "        max_new_tokens=75,\n",
        "        no_repeat_ngram_size=3, # устанавливает вероятность 0 для повторяющихся n-gram (таким образом решается проблема зацикливания)\n",
        "        pad_token_id=512,\n",
        "        num_beams=5,\n",
        "        num_return_sequences=5,  # количество возвращенных сгенерированных текстов отранжированных по вероятности после beam_search\n",
        "        top_p=0.8, #<your choice here>\n",
        "        top_k=20, #<your choice here>\n",
        "        temperature=2.0 #<your choice here>\n",
        "    )\n",
        "\n",
        "generated_text = list(map(tokenizer.decode, out))"
      ]
    },
    {
      "cell_type": "code",
      "execution_count": 60,
      "metadata": {
        "id": "QaS10aJRhaUU",
        "colab": {
          "base_uri": "https://localhost:8080/"
        },
        "outputId": "d8076868-79f4-4094-eff3-172d3bdd08f3"
      },
      "outputs": [
        {
          "output_type": "stream",
          "name": "stdout",
          "text": [
            "Applicant 0\n",
            "Чтобы приготовить вкусное блюдо?\n",
            "Подавать ли на ужин?\n",
            "Сладко ли тебе, милый мой друг?\n",
            "Я люблю тебя и не знаю, что с тобой!\n",
            "Ты, мой милый друг, не знаешь,\n",
            "Как я счастлив, не ведаю,\n",
            "Что ты со мною, и как мне больно!\n",
            "Я не хочу тебя огорчать;\n",
            "Но\n",
            "\n",
            "\n",
            "Applicant 1\n",
            "Чтобы приготовить,\n",
            "Вкусное, вкусное\n",
            "Мягкое и вкусненькое.\n",
            "\n",
            "Желаю тебе,\n",
            "Твой милый друг,\n",
            "Нежной, нежной любви!\n",
            "Подари мне\n",
            "Счастливое мгновенье,\n",
            "Счастье и покой.\n",
            "Прости, что так долго\n",
            "Ты не был рядом.\n",
            "Я тебя люблю, милый друг\n",
            "\n",
            "\n",
            "Applicant 2\n",
            "Чтобы приготовить? – спросил я.\n",
            "\n",
            "– Не знаю, – отвечал он. – А ты не знаешь, что такое любовь?\n",
            "\n",
            "Я сказал:\n",
            "\n",
            "«Любишь ли ты меня, брат?»\n",
            "И он мне отвечал:\n",
            "\"Люблю ли я тебя?\n",
            "Люблю ль я тебя, брат?\"\n",
            "\n",
            "И я сказал:\n",
            "\n",
            "\n",
            "Applicant 3\n",
            "Чтобы приготовить?\n",
            "Вкусно ли тебе?\n",
            "Иль не сладка ли сладость,\n",
            "Что в сердце твоем?\n",
            "\n",
            "Скучно ли, сладко ль?\n",
            "Ступай в дом свой,\n",
            "Смотри, смотри\n",
            "На свет, на звезды;\n",
            "Скажи: \"Благословен Бог мой,\n",
            "Будь милостив к нам,\n",
            "\n",
            "\n",
            "\n",
            "Applicant 4\n",
            "Чтобы приготовить вкусную выпечку \n",
            "\n",
            "\n",
            "\n",
            "Для теста\n",
            "\n",
            "1 стакан муки\n",
            "200 г масла\n",
            "1/2 ч.л. разрыхлителя\n",
            "2 яйца\n",
            "1 ст. л. соли\n",
            "1,5 стакана молока\n",
            "2/3 чашки сахара\n",
            "\n",
            "Приготовление:\n",
            "\n",
            "Вскипятите молоко, разотрите его с солью и сахаром,\n",
            "\n",
            "\n"
          ]
        }
      ],
      "source": [
        "# Выведем _num_return_sequences_ сгенерированных текстов\n",
        "for i, seq in enumerate(generated_text):\n",
        "  print(f\"Applicant {i}\", seq, \"\\n\", sep=\"\\n\")"
      ]
    },
    {
      "cell_type": "code",
      "execution_count": 62,
      "metadata": {
        "id": "J1NcY_68ikgi"
      },
      "outputs": [],
      "source": [
        "torch.save(model, \"gpt2_finetune.torch\")\n",
        "mod = torch.load(\"gpt2_finetune.torch\")"
      ]
    },
    {
      "cell_type": "markdown",
      "source": [],
      "metadata": {
        "id": "VycRNZyJ8QKC"
      }
    },
    {
      "cell_type": "code",
      "execution_count": 64,
      "metadata": {
        "id": "vzEMHhQri09v"
      },
      "outputs": [],
      "source": []
    },
    {
      "cell_type": "code",
      "source": [],
      "metadata": {
        "id": "xVvCggR1qPNe"
      },
      "execution_count": 61,
      "outputs": []
    }
  ],
  "metadata": {
    "accelerator": "GPU",
    "colab": {
      "gpuType": "T4",
      "provenance": [],
      "authorship_tag": "ABX9TyPSFOcgAWoTL4+5Fmp2zrnE",
      "include_colab_link": true
    },
    "kernelspec": {
      "display_name": "Python 3",
      "name": "python3"
    },
    "language_info": {
      "name": "python"
    }
  },
  "nbformat": 4,
  "nbformat_minor": 0
}